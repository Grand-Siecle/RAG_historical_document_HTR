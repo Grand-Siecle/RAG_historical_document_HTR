{
 "cells": [
  {
   "cell_type": "code",
   "execution_count": 1,
   "id": "9fa77d82-c02e-47e0-a881-2ddc8d3b1b5d",
   "metadata": {},
   "outputs": [
    {
     "name": "stdout",
     "output_type": "stream",
     "text": [
      "Collecting bertopic\n",
      "  Downloading bertopic-0.16.3-py3-none-any.whl.metadata (23 kB)\n",
      "Collecting hdbscan>=0.8.29 (from bertopic)\n",
      "  Downloading hdbscan-0.8.38.post1.tar.gz (5.8 MB)\n",
      "\u001b[2K     \u001b[38;2;114;156;31m━━━━━━━━━━━━━━━━━━━━━━━━━━━━━━━━━━━━━━━━\u001b[0m \u001b[32m5.8/5.8 MB\u001b[0m \u001b[31m76.3 MB/s\u001b[0m eta \u001b[36m0:00:00\u001b[0m\n",
      "\u001b[?25h  Installing build dependencies ... \u001b[?25ldone\n",
      "\u001b[?25h  Getting requirements to build wheel ... \u001b[?25ldone\n",
      "\u001b[?25h  Preparing metadata (pyproject.toml) ... \u001b[?25ldone\n",
      "\u001b[?25hCollecting numpy>=1.20.0 (from bertopic)\n",
      "  Using cached numpy-2.1.0-cp312-cp312-manylinux_2_17_x86_64.manylinux2014_x86_64.whl.metadata (60 kB)\n",
      "Collecting pandas>=1.1.5 (from bertopic)\n",
      "  Using cached pandas-2.2.2-cp312-cp312-manylinux_2_17_x86_64.manylinux2014_x86_64.whl.metadata (19 kB)\n",
      "Collecting plotly>=4.7.0 (from bertopic)\n",
      "  Downloading plotly-5.23.0-py3-none-any.whl.metadata (7.3 kB)\n",
      "Collecting scikit-learn>=0.22.2.post1 (from bertopic)\n",
      "  Downloading scikit_learn-1.5.1-cp312-cp312-manylinux_2_17_x86_64.manylinux2014_x86_64.whl.metadata (12 kB)\n",
      "Collecting sentence-transformers>=0.4.1 (from bertopic)\n",
      "  Downloading sentence_transformers-3.0.1-py3-none-any.whl.metadata (10 kB)\n",
      "Collecting tqdm>=4.41.1 (from bertopic)\n",
      "  Downloading tqdm-4.66.5-py3-none-any.whl.metadata (57 kB)\n",
      "Collecting umap-learn>=0.5.0 (from bertopic)\n",
      "  Using cached umap_learn-0.5.6-py3-none-any.whl.metadata (21 kB)\n",
      "Collecting scipy>=1.0 (from hdbscan>=0.8.29->bertopic)\n",
      "  Downloading scipy-1.14.1-cp312-cp312-manylinux_2_17_x86_64.manylinux2014_x86_64.whl.metadata (60 kB)\n",
      "Collecting joblib>=1.0 (from hdbscan>=0.8.29->bertopic)\n",
      "  Using cached joblib-1.4.2-py3-none-any.whl.metadata (5.4 kB)\n",
      "Requirement already satisfied: python-dateutil>=2.8.2 in ./.env/lib/python3.12/site-packages (from pandas>=1.1.5->bertopic) (2.9.0.post0)\n",
      "Collecting pytz>=2020.1 (from pandas>=1.1.5->bertopic)\n",
      "  Using cached pytz-2024.1-py2.py3-none-any.whl.metadata (22 kB)\n",
      "Collecting tzdata>=2022.7 (from pandas>=1.1.5->bertopic)\n",
      "  Using cached tzdata-2024.1-py2.py3-none-any.whl.metadata (1.4 kB)\n",
      "Collecting tenacity>=6.2.0 (from plotly>=4.7.0->bertopic)\n",
      "  Downloading tenacity-9.0.0-py3-none-any.whl.metadata (1.2 kB)\n",
      "Requirement already satisfied: packaging in ./.env/lib/python3.12/site-packages (from plotly>=4.7.0->bertopic) (24.1)\n",
      "Collecting threadpoolctl>=3.1.0 (from scikit-learn>=0.22.2.post1->bertopic)\n",
      "  Using cached threadpoolctl-3.5.0-py3-none-any.whl.metadata (13 kB)\n",
      "Collecting transformers<5.0.0,>=4.34.0 (from sentence-transformers>=0.4.1->bertopic)\n",
      "  Downloading transformers-4.44.2-py3-none-any.whl.metadata (43 kB)\n",
      "Collecting torch>=1.11.0 (from sentence-transformers>=0.4.1->bertopic)\n",
      "  Downloading torch-2.4.0-cp312-cp312-manylinux1_x86_64.whl.metadata (26 kB)\n",
      "Collecting huggingface-hub>=0.15.1 (from sentence-transformers>=0.4.1->bertopic)\n",
      "  Downloading huggingface_hub-0.24.6-py3-none-any.whl.metadata (13 kB)\n",
      "Collecting Pillow (from sentence-transformers>=0.4.1->bertopic)\n",
      "  Downloading pillow-10.4.0-cp312-cp312-manylinux_2_28_x86_64.whl.metadata (9.2 kB)\n",
      "Collecting numba>=0.51.2 (from umap-learn>=0.5.0->bertopic)\n",
      "  Downloading numba-0.60.0-cp312-cp312-manylinux2014_x86_64.manylinux_2_17_x86_64.whl.metadata (2.7 kB)\n",
      "Collecting pynndescent>=0.5 (from umap-learn>=0.5.0->bertopic)\n",
      "  Downloading pynndescent-0.5.13-py3-none-any.whl.metadata (6.8 kB)\n",
      "Collecting filelock (from huggingface-hub>=0.15.1->sentence-transformers>=0.4.1->bertopic)\n",
      "  Downloading filelock-3.15.4-py3-none-any.whl.metadata (2.9 kB)\n",
      "Collecting fsspec>=2023.5.0 (from huggingface-hub>=0.15.1->sentence-transformers>=0.4.1->bertopic)\n",
      "  Downloading fsspec-2024.6.1-py3-none-any.whl.metadata (11 kB)\n",
      "Requirement already satisfied: pyyaml>=5.1 in ./.env/lib/python3.12/site-packages (from huggingface-hub>=0.15.1->sentence-transformers>=0.4.1->bertopic) (6.0.2)\n",
      "Requirement already satisfied: requests in ./.env/lib/python3.12/site-packages (from huggingface-hub>=0.15.1->sentence-transformers>=0.4.1->bertopic) (2.32.3)\n",
      "Collecting typing-extensions>=3.7.4.3 (from huggingface-hub>=0.15.1->sentence-transformers>=0.4.1->bertopic)\n",
      "  Using cached typing_extensions-4.12.2-py3-none-any.whl.metadata (3.0 kB)\n",
      "Collecting llvmlite<0.44,>=0.43.0dev0 (from numba>=0.51.2->umap-learn>=0.5.0->bertopic)\n",
      "  Downloading llvmlite-0.43.0-cp312-cp312-manylinux_2_17_x86_64.manylinux2014_x86_64.whl.metadata (4.8 kB)\n",
      "Collecting numpy>=1.20.0 (from bertopic)\n",
      "  Downloading numpy-2.0.2-cp312-cp312-manylinux_2_17_x86_64.manylinux2014_x86_64.whl.metadata (60 kB)\n",
      "Requirement already satisfied: six>=1.5 in ./.env/lib/python3.12/site-packages (from python-dateutil>=2.8.2->pandas>=1.1.5->bertopic) (1.16.0)\n",
      "Collecting sympy (from torch>=1.11.0->sentence-transformers>=0.4.1->bertopic)\n",
      "  Downloading sympy-1.13.2-py3-none-any.whl.metadata (12 kB)\n",
      "Collecting networkx (from torch>=1.11.0->sentence-transformers>=0.4.1->bertopic)\n",
      "  Using cached networkx-3.3-py3-none-any.whl.metadata (5.1 kB)\n",
      "Requirement already satisfied: jinja2 in ./.env/lib/python3.12/site-packages (from torch>=1.11.0->sentence-transformers>=0.4.1->bertopic) (3.1.4)\n",
      "Requirement already satisfied: setuptools in ./.env/lib/python3.12/site-packages (from torch>=1.11.0->sentence-transformers>=0.4.1->bertopic) (73.0.1)\n",
      "Collecting nvidia-cuda-nvrtc-cu12==12.1.105 (from torch>=1.11.0->sentence-transformers>=0.4.1->bertopic)\n",
      "  Using cached nvidia_cuda_nvrtc_cu12-12.1.105-py3-none-manylinux1_x86_64.whl.metadata (1.5 kB)\n",
      "Collecting nvidia-cuda-runtime-cu12==12.1.105 (from torch>=1.11.0->sentence-transformers>=0.4.1->bertopic)\n",
      "  Using cached nvidia_cuda_runtime_cu12-12.1.105-py3-none-manylinux1_x86_64.whl.metadata (1.5 kB)\n",
      "Collecting nvidia-cuda-cupti-cu12==12.1.105 (from torch>=1.11.0->sentence-transformers>=0.4.1->bertopic)\n",
      "  Using cached nvidia_cuda_cupti_cu12-12.1.105-py3-none-manylinux1_x86_64.whl.metadata (1.6 kB)\n",
      "Collecting nvidia-cudnn-cu12==9.1.0.70 (from torch>=1.11.0->sentence-transformers>=0.4.1->bertopic)\n",
      "  Using cached nvidia_cudnn_cu12-9.1.0.70-py3-none-manylinux2014_x86_64.whl.metadata (1.6 kB)\n",
      "Collecting nvidia-cublas-cu12==12.1.3.1 (from torch>=1.11.0->sentence-transformers>=0.4.1->bertopic)\n",
      "  Using cached nvidia_cublas_cu12-12.1.3.1-py3-none-manylinux1_x86_64.whl.metadata (1.5 kB)\n",
      "Collecting nvidia-cufft-cu12==11.0.2.54 (from torch>=1.11.0->sentence-transformers>=0.4.1->bertopic)\n",
      "  Using cached nvidia_cufft_cu12-11.0.2.54-py3-none-manylinux1_x86_64.whl.metadata (1.5 kB)\n",
      "Collecting nvidia-curand-cu12==10.3.2.106 (from torch>=1.11.0->sentence-transformers>=0.4.1->bertopic)\n",
      "  Using cached nvidia_curand_cu12-10.3.2.106-py3-none-manylinux1_x86_64.whl.metadata (1.5 kB)\n",
      "Collecting nvidia-cusolver-cu12==11.4.5.107 (from torch>=1.11.0->sentence-transformers>=0.4.1->bertopic)\n",
      "  Using cached nvidia_cusolver_cu12-11.4.5.107-py3-none-manylinux1_x86_64.whl.metadata (1.6 kB)\n",
      "Collecting nvidia-cusparse-cu12==12.1.0.106 (from torch>=1.11.0->sentence-transformers>=0.4.1->bertopic)\n",
      "  Using cached nvidia_cusparse_cu12-12.1.0.106-py3-none-manylinux1_x86_64.whl.metadata (1.6 kB)\n",
      "Collecting nvidia-nccl-cu12==2.20.5 (from torch>=1.11.0->sentence-transformers>=0.4.1->bertopic)\n",
      "  Using cached nvidia_nccl_cu12-2.20.5-py3-none-manylinux2014_x86_64.whl.metadata (1.8 kB)\n",
      "Collecting nvidia-nvtx-cu12==12.1.105 (from torch>=1.11.0->sentence-transformers>=0.4.1->bertopic)\n",
      "  Using cached nvidia_nvtx_cu12-12.1.105-py3-none-manylinux1_x86_64.whl.metadata (1.7 kB)\n",
      "Collecting triton==3.0.0 (from torch>=1.11.0->sentence-transformers>=0.4.1->bertopic)\n",
      "  Downloading triton-3.0.0-1-cp312-cp312-manylinux2014_x86_64.manylinux_2_17_x86_64.whl.metadata (1.3 kB)\n",
      "Collecting nvidia-nvjitlink-cu12 (from nvidia-cusolver-cu12==11.4.5.107->torch>=1.11.0->sentence-transformers>=0.4.1->bertopic)\n",
      "  Downloading nvidia_nvjitlink_cu12-12.6.20-py3-none-manylinux2014_x86_64.whl.metadata (1.5 kB)\n",
      "Collecting regex!=2019.12.17 (from transformers<5.0.0,>=4.34.0->sentence-transformers>=0.4.1->bertopic)\n",
      "  Downloading regex-2024.7.24-cp312-cp312-manylinux_2_17_x86_64.manylinux2014_x86_64.whl.metadata (40 kB)\n",
      "Collecting safetensors>=0.4.1 (from transformers<5.0.0,>=4.34.0->sentence-transformers>=0.4.1->bertopic)\n",
      "  Downloading safetensors-0.4.4-cp312-cp312-manylinux_2_17_x86_64.manylinux2014_x86_64.whl.metadata (3.8 kB)\n",
      "Collecting tokenizers<0.20,>=0.19 (from transformers<5.0.0,>=4.34.0->sentence-transformers>=0.4.1->bertopic)\n",
      "  Downloading tokenizers-0.19.1-cp312-cp312-manylinux_2_17_x86_64.manylinux2014_x86_64.whl.metadata (6.7 kB)\n",
      "Requirement already satisfied: MarkupSafe>=2.0 in ./.env/lib/python3.12/site-packages (from jinja2->torch>=1.11.0->sentence-transformers>=0.4.1->bertopic) (2.1.5)\n",
      "Requirement already satisfied: charset-normalizer<4,>=2 in ./.env/lib/python3.12/site-packages (from requests->huggingface-hub>=0.15.1->sentence-transformers>=0.4.1->bertopic) (3.3.2)\n",
      "Requirement already satisfied: idna<4,>=2.5 in ./.env/lib/python3.12/site-packages (from requests->huggingface-hub>=0.15.1->sentence-transformers>=0.4.1->bertopic) (3.8)\n",
      "Requirement already satisfied: urllib3<3,>=1.21.1 in ./.env/lib/python3.12/site-packages (from requests->huggingface-hub>=0.15.1->sentence-transformers>=0.4.1->bertopic) (2.2.2)\n",
      "Requirement already satisfied: certifi>=2017.4.17 in ./.env/lib/python3.12/site-packages (from requests->huggingface-hub>=0.15.1->sentence-transformers>=0.4.1->bertopic) (2024.7.4)\n",
      "Collecting mpmath<1.4,>=1.1.0 (from sympy->torch>=1.11.0->sentence-transformers>=0.4.1->bertopic)\n",
      "  Using cached mpmath-1.3.0-py3-none-any.whl.metadata (8.6 kB)\n",
      "Downloading bertopic-0.16.3-py3-none-any.whl (143 kB)\n",
      "Using cached pandas-2.2.2-cp312-cp312-manylinux_2_17_x86_64.manylinux2014_x86_64.whl (12.7 MB)\n",
      "Downloading plotly-5.23.0-py3-none-any.whl (17.3 MB)\n",
      "\u001b[2K   \u001b[38;2;114;156;31m━━━━━━━━━━━━━━━━━━━━━━━━━━━━━━━━━━━━━━━━\u001b[0m \u001b[32m17.3/17.3 MB\u001b[0m \u001b[31m95.3 MB/s\u001b[0m eta \u001b[36m0:00:00\u001b[0m\n",
      "\u001b[?25hDownloading scikit_learn-1.5.1-cp312-cp312-manylinux_2_17_x86_64.manylinux2014_x86_64.whl (13.1 MB)\n",
      "\u001b[2K   \u001b[38;2;114;156;31m━━━━━━━━━━━━━━━━━━━━━━━━━━━━━━━━━━━━━━━━\u001b[0m \u001b[32m13.1/13.1 MB\u001b[0m \u001b[31m95.5 MB/s\u001b[0m eta \u001b[36m0:00:00\u001b[0m\n",
      "\u001b[?25hDownloading sentence_transformers-3.0.1-py3-none-any.whl (227 kB)\n",
      "Downloading tqdm-4.66.5-py3-none-any.whl (78 kB)\n",
      "Using cached umap_learn-0.5.6-py3-none-any.whl (85 kB)\n",
      "Downloading huggingface_hub-0.24.6-py3-none-any.whl (417 kB)\n",
      "Using cached joblib-1.4.2-py3-none-any.whl (301 kB)\n",
      "Downloading numba-0.60.0-cp312-cp312-manylinux2014_x86_64.manylinux_2_17_x86_64.whl (3.8 MB)\n",
      "\u001b[2K   \u001b[38;2;114;156;31m━━━━━━━━━━━━━━━━━━━━━━━━━━━━━━━━━━━━━━━━\u001b[0m \u001b[32m3.8/3.8 MB\u001b[0m \u001b[31m92.6 MB/s\u001b[0m eta \u001b[36m0:00:00\u001b[0m\n",
      "\u001b[?25hDownloading numpy-2.0.2-cp312-cp312-manylinux_2_17_x86_64.manylinux2014_x86_64.whl (19.2 MB)\n",
      "\u001b[2K   \u001b[38;2;114;156;31m━━━━━━━━━━━━━━━━━━━━━━━━━━━━━━━━━━━━━━━━\u001b[0m \u001b[32m19.2/19.2 MB\u001b[0m \u001b[31m90.0 MB/s\u001b[0m eta \u001b[36m0:00:00\u001b[0m0m eta \u001b[36m0:00:01\u001b[0m\n",
      "\u001b[?25hDownloading pynndescent-0.5.13-py3-none-any.whl (56 kB)\n",
      "Using cached pytz-2024.1-py2.py3-none-any.whl (505 kB)\n",
      "Downloading scipy-1.14.1-cp312-cp312-manylinux_2_17_x86_64.manylinux2014_x86_64.whl (40.8 MB)\n",
      "\u001b[2K   \u001b[38;2;114;156;31m━━━━━━━━━━━━━━━━━━━━━━━━━━━━━━━━━━━━━━━━\u001b[0m \u001b[32m40.8/40.8 MB\u001b[0m \u001b[31m96.5 MB/s\u001b[0m eta \u001b[36m0:00:00\u001b[0m0m eta \u001b[36m0:00:01\u001b[0m0:01\u001b[0m\n",
      "\u001b[?25hDownloading tenacity-9.0.0-py3-none-any.whl (28 kB)\n",
      "Using cached threadpoolctl-3.5.0-py3-none-any.whl (18 kB)\n",
      "Downloading torch-2.4.0-cp312-cp312-manylinux1_x86_64.whl (797.2 MB)\n",
      "\u001b[2K   \u001b[38;2;114;156;31m━━━━━━━━━━━━━━━━━━━━━━━━━━━━━━━━━━━━━━━━\u001b[0m \u001b[32m797.2/797.2 MB\u001b[0m \u001b[31m39.7 MB/s\u001b[0m eta \u001b[36m0:00:00\u001b[0mm eta \u001b[36m0:00:01\u001b[0m[36m0:00:01\u001b[0m\n",
      "\u001b[?25hUsing cached nvidia_cublas_cu12-12.1.3.1-py3-none-manylinux1_x86_64.whl (410.6 MB)\n",
      "Using cached nvidia_cuda_cupti_cu12-12.1.105-py3-none-manylinux1_x86_64.whl (14.1 MB)\n",
      "Using cached nvidia_cuda_nvrtc_cu12-12.1.105-py3-none-manylinux1_x86_64.whl (23.7 MB)\n",
      "Using cached nvidia_cuda_runtime_cu12-12.1.105-py3-none-manylinux1_x86_64.whl (823 kB)\n",
      "Downloading nvidia_cudnn_cu12-9.1.0.70-py3-none-manylinux2014_x86_64.whl (664.8 MB)\n",
      "\u001b[2K   \u001b[38;2;114;156;31m━━━━━━━━━━━━━━━━━━━━━━━━━━━━━━━━━━━━━━━━\u001b[0m \u001b[32m664.8/664.8 MB\u001b[0m \u001b[31m62.5 MB/s\u001b[0m eta \u001b[36m0:00:00\u001b[0mm eta \u001b[36m0:00:01\u001b[0m[36m0:00:01\u001b[0m\n",
      "\u001b[?25hUsing cached nvidia_cufft_cu12-11.0.2.54-py3-none-manylinux1_x86_64.whl (121.6 MB)\n",
      "Using cached nvidia_curand_cu12-10.3.2.106-py3-none-manylinux1_x86_64.whl (56.5 MB)\n",
      "Using cached nvidia_cusolver_cu12-11.4.5.107-py3-none-manylinux1_x86_64.whl (124.2 MB)\n",
      "Using cached nvidia_cusparse_cu12-12.1.0.106-py3-none-manylinux1_x86_64.whl (196.0 MB)\n",
      "Using cached nvidia_nccl_cu12-2.20.5-py3-none-manylinux2014_x86_64.whl (176.2 MB)\n",
      "Using cached nvidia_nvtx_cu12-12.1.105-py3-none-manylinux1_x86_64.whl (99 kB)\n",
      "Downloading triton-3.0.0-1-cp312-cp312-manylinux2014_x86_64.manylinux_2_17_x86_64.whl (209.5 MB)\n",
      "\u001b[2K   \u001b[38;2;114;156;31m━━━━━━━━━━━━━━━━━━━━━━━━━━━━━━━━━━━━━━━━\u001b[0m \u001b[32m209.5/209.5 MB\u001b[0m \u001b[31m35.4 MB/s\u001b[0m eta \u001b[36m0:00:00\u001b[0mm eta \u001b[36m0:00:01\u001b[0m0:01\u001b[0m:01\u001b[0m\n",
      "\u001b[?25hDownloading transformers-4.44.2-py3-none-any.whl (9.5 MB)\n",
      "\u001b[2K   \u001b[38;2;114;156;31m━━━━━━━━━━━━━━━━━━━━━━━━━━━━━━━━━━━━━━━━\u001b[0m \u001b[32m9.5/9.5 MB\u001b[0m \u001b[31m45.6 MB/s\u001b[0m eta \u001b[36m0:00:00\u001b[0mm eta \u001b[36m0:00:01\u001b[0m\n",
      "\u001b[?25hUsing cached tzdata-2024.1-py2.py3-none-any.whl (345 kB)\n",
      "Downloading pillow-10.4.0-cp312-cp312-manylinux_2_28_x86_64.whl (4.5 MB)\n",
      "\u001b[2K   \u001b[38;2;114;156;31m━━━━━━━━━━━━━━━━━━━━━━━━━━━━━━━━━━━━━━━━\u001b[0m \u001b[32m4.5/4.5 MB\u001b[0m \u001b[31m42.6 MB/s\u001b[0m eta \u001b[36m0:00:00\u001b[0m\n",
      "\u001b[?25hDownloading fsspec-2024.6.1-py3-none-any.whl (177 kB)\n",
      "Downloading llvmlite-0.43.0-cp312-cp312-manylinux_2_17_x86_64.manylinux2014_x86_64.whl (43.9 MB)\n",
      "\u001b[2K   \u001b[38;2;114;156;31m━━━━━━━━━━━━━━━━━━━━━━━━━━━━━━━━━━━━━━━━\u001b[0m \u001b[32m43.9/43.9 MB\u001b[0m \u001b[31m37.9 MB/s\u001b[0m eta \u001b[36m0:00:00\u001b[0m MB/s\u001b[0m eta \u001b[36m0:00:01\u001b[0m:01\u001b[0m\n",
      "\u001b[?25hDownloading regex-2024.7.24-cp312-cp312-manylinux_2_17_x86_64.manylinux2014_x86_64.whl (790 kB)\n",
      "\u001b[2K   \u001b[38;2;114;156;31m━━━━━━━━━━━━━━━━━━━━━━━━━━━━━━━━━━━━━━━━\u001b[0m \u001b[32m790.9/790.9 kB\u001b[0m \u001b[31m19.7 MB/s\u001b[0m eta \u001b[36m0:00:00\u001b[0m\n",
      "\u001b[?25hDownloading safetensors-0.4.4-cp312-cp312-manylinux_2_17_x86_64.manylinux2014_x86_64.whl (434 kB)\n",
      "Downloading tokenizers-0.19.1-cp312-cp312-manylinux_2_17_x86_64.manylinux2014_x86_64.whl (3.6 MB)\n",
      "\u001b[2K   \u001b[38;2;114;156;31m━━━━━━━━━━━━━━━━━━━━━━━━━━━━━━━━━━━━━━━━\u001b[0m \u001b[32m3.6/3.6 MB\u001b[0m \u001b[31m38.7 MB/s\u001b[0m eta \u001b[36m0:00:00\u001b[0m\n",
      "\u001b[?25hUsing cached typing_extensions-4.12.2-py3-none-any.whl (37 kB)\n",
      "Downloading filelock-3.15.4-py3-none-any.whl (16 kB)\n",
      "Using cached networkx-3.3-py3-none-any.whl (1.7 MB)\n",
      "Downloading sympy-1.13.2-py3-none-any.whl (6.2 MB)\n",
      "\u001b[2K   \u001b[38;2;114;156;31m━━━━━━━━━━━━━━━━━━━━━━━━━━━━━━━━━━━━━━━━\u001b[0m \u001b[32m6.2/6.2 MB\u001b[0m \u001b[31m40.3 MB/s\u001b[0m eta \u001b[36m0:00:00\u001b[0m\n",
      "\u001b[?25hUsing cached mpmath-1.3.0-py3-none-any.whl (536 kB)\n",
      "Downloading nvidia_nvjitlink_cu12-12.6.20-py3-none-manylinux2014_x86_64.whl (19.7 MB)\n",
      "\u001b[2K   \u001b[38;2;114;156;31m━━━━━━━━━━━━━━━━━━━━━━━━━━━━━━━━━━━━━━━━\u001b[0m \u001b[32m19.7/19.7 MB\u001b[0m \u001b[31m37.0 MB/s\u001b[0m eta \u001b[36m0:00:00\u001b[0m31m40.0 MB/s\u001b[0m eta \u001b[36m0:00:01\u001b[0m\n",
      "\u001b[?25hBuilding wheels for collected packages: hdbscan\n",
      "  Building wheel for hdbscan (pyproject.toml) ... \u001b[?25ldone\n",
      "\u001b[?25h  Created wheel for hdbscan: filename=hdbscan-0.8.38.post1-cp312-cp312-linux_x86_64.whl size=4176279 sha256=12cb8672642718ff6f00fc88e462185ee943e6920f2ff3e3325bf6bbb2e70c8a\n",
      "  Stored in directory: /home/maxime/.cache/pip/wheels/51/1c/fb/cfac6918bd6a1478ab55a3da03c501046b67b8161309c2f64a\n",
      "Successfully built hdbscan\n",
      "Installing collected packages: pytz, mpmath, tzdata, typing-extensions, tqdm, threadpoolctl, tenacity, sympy, safetensors, regex, Pillow, nvidia-nvtx-cu12, nvidia-nvjitlink-cu12, nvidia-nccl-cu12, nvidia-curand-cu12, nvidia-cufft-cu12, nvidia-cuda-runtime-cu12, nvidia-cuda-nvrtc-cu12, nvidia-cuda-cupti-cu12, nvidia-cublas-cu12, numpy, networkx, llvmlite, joblib, fsspec, filelock, triton, scipy, plotly, pandas, nvidia-cusparse-cu12, nvidia-cudnn-cu12, numba, huggingface-hub, tokenizers, scikit-learn, nvidia-cusolver-cu12, transformers, torch, pynndescent, hdbscan, umap-learn, sentence-transformers, bertopic\n",
      "Successfully installed Pillow-10.4.0 bertopic-0.16.3 filelock-3.15.4 fsspec-2024.6.1 hdbscan-0.8.38.post1 huggingface-hub-0.24.6 joblib-1.4.2 llvmlite-0.43.0 mpmath-1.3.0 networkx-3.3 numba-0.60.0 numpy-2.0.2 nvidia-cublas-cu12-12.1.3.1 nvidia-cuda-cupti-cu12-12.1.105 nvidia-cuda-nvrtc-cu12-12.1.105 nvidia-cuda-runtime-cu12-12.1.105 nvidia-cudnn-cu12-9.1.0.70 nvidia-cufft-cu12-11.0.2.54 nvidia-curand-cu12-10.3.2.106 nvidia-cusolver-cu12-11.4.5.107 nvidia-cusparse-cu12-12.1.0.106 nvidia-nccl-cu12-2.20.5 nvidia-nvjitlink-cu12-12.6.20 nvidia-nvtx-cu12-12.1.105 pandas-2.2.2 plotly-5.23.0 pynndescent-0.5.13 pytz-2024.1 regex-2024.7.24 safetensors-0.4.4 scikit-learn-1.5.1 scipy-1.14.1 sentence-transformers-3.0.1 sympy-1.13.2 tenacity-9.0.0 threadpoolctl-3.5.0 tokenizers-0.19.1 torch-2.4.0 tqdm-4.66.5 transformers-4.44.2 triton-3.0.0 typing-extensions-4.12.2 tzdata-2024.1 umap-learn-0.5.6\n"
     ]
    }
   ],
   "source": [
    "!pip install bertopic"
   ]
  },
  {
   "cell_type": "code",
   "execution_count": 2,
   "id": "d0424522-604a-4f82-8d42-f5e5d4044508",
   "metadata": {},
   "outputs": [
    {
     "name": "stderr",
     "output_type": "stream",
     "text": [
      "/media/maxime/DATA/Projet_Grand_Siecle/RAG_historical_document_HTR/.env/lib/python3.12/site-packages/tqdm/auto.py:21: TqdmWarning: IProgress not found. Please update jupyter and ipywidgets. See https://ipywidgets.readthedocs.io/en/stable/user_install.html\n",
      "  from .autonotebook import tqdm as notebook_tqdm\n"
     ]
    }
   ],
   "source": [
    "from bertopic import BERTopic"
   ]
  },
  {
   "cell_type": "code",
   "execution_count": 19,
   "id": "7b7469e1-9efe-499b-b70e-240c44edbc86",
   "metadata": {},
   "outputs": [],
   "source": [
    "import re\n",
    "\n",
    "def regroup_lines_into_sentences(file_path):\n",
    "    with open(file_path, 'r') as file:\n",
    "            lines = file.readlines()\n",
    "            sentences = []\n",
    "            current_sentence = \"\"\n",
    "\n",
    "            for line in lines:\n",
    "                line = line.strip()  # Supprimer les espaces en début et fin de ligne\n",
    "                if line:  # Vérifier si la ligne n'est pas vide\n",
    "                    # Ajouter la ligne à la phrase courante\n",
    "                    current_sentence += line + \" \"\n",
    "                    if re.search(r'[.!?]$', line):  # Vérifier si la ligne se termine par un marqueur de fin de phrase\n",
    "                        sentences.append(current_sentence.strip())  # Ajouter la phrase complète à la liste\n",
    "                        current_sentence = \"\"  # Réinitialiser la phrase courante\n",
    "                    current_sentence = current_sentence.replace('¬ ', '')  # Remplacer '¬ ' par rien\n",
    "            return sentences\n",
    "\n",
    "file_path = \"data/liv0232_ideedelaperfectiondelape.txt\"  # Remplacez ceci par le chemin de votre fichier .txt\n",
    "sentences = regroup_lines_into_sentences(file_path)"
   ]
  },
  {
   "cell_type": "code",
   "execution_count": 20,
   "id": "99e4ab47-eb72-4b3d-9550-e4ab94448f83",
   "metadata": {},
   "outputs": [
    {
     "data": {
      "text/plain": [
       "['IDEE DE LA PERFECTION DE LA pEINTVRE DEMONSTREE PAR LES PRINCIPES de l’Art, et par des Exemples conformes aux Obseruations que Pline et Quintilien ont faites sur les plus ce lebres Tableaux des Anciens Peintres, mis en Paralelle à quelques Ouurages de nos meilleurs Peintres Modernes, Leonard de Vinci, Raphael, Iules Romain, et le Poussin.',\n",
       " 'PAR ROLAND FREART SIEVR 6E CHAMBRAY.',\n",
       " 'H Sh AV MANS.',\n",
       " \"De l'Imprimerie de IA CQVESYs AMBART Marchand Libraire, et Imprimeur, demeurant au bas du Pont-neuf, à l’Enseigne du saint Esprit.\",\n",
       " 'M. DC. LXII.',\n",
       " 'AVEC PRIVILEGE DV ROY.',\n",
       " '5ource gallica.bnf.fr / Bibliothèque natlonale de France PERTE CTION 40 mier effet de la perspectiue dans les figures, qui est de les monstrer plus petites ou plus grandes, selon qu’elles sont ou plus ou moins auancées dans la profondeur du plan, il est manifeste icy, qu’elles diminuent successiuement, en telle sorte, que de la premiere, qui est Minerue, comparée auec Mercure, le plus auancé dans le Tableau, il y a vne notable difference de hauteur: et de Venus à Iunon, elle s’y remarque encore sensiblement, quoy que dans vne diminution moyenne, et conuenable au peu de distance qui se trouue entre l’vne et l’autre. Il sera facile de continuer le mesme examen dans le reste des Figures; C’est pourquoy ie feray mieux de passer à la derniere partie plus importante, qui concerne leur Aspect, et leur POsition eu esgard au poinct de Veüe. Et afin de proceder auec methode à l’intelligence de cette recherche, il faut d’abord faire reflexion sur ces Axiomes de la Perspectiue.',\n",
       " 'I. AXIOME.',\n",
       " \"Que le Poinct de Veüe represente l’œil qui void le Tableau. Et ce poinct est la premiere chose à rechercher dans vn Tableau, pour pour connoistre si l'Ouurage est de la main d’vn sçauant Peintre, ou d’vn simple Praticien.\",\n",
       " 'Que le Poinct de Veüe est toûjours preI. AXIOME.',\n",
       " 'cisément à la hauteur de la ligne de l’hoizon, III. AXIOME.',\n",
       " 'Que tout ce qui est esleué plus haut que la ligne de l’horison, se void en dessous: et que tout ce qui est posé plus bas, se void en dessus, et semble monter vers l’horizon.',\n",
       " 'IIII. A XIOME.',\n",
       " 'Que les figures d’égale hauteur, estant sur la mesme ligne paralelle à la base du Tableau, sont toûjours égales.',\n",
       " 'y AXIOME.',\n",
       " 'Que les figures qui auancent plus ou moins dans la profondeur du plan du Tableau, se diminuent proportionnement à la Degradation du mesme plan. Par exemple:si ce Plan est degradé en quarreaux, les pigures auront entre-elles vne mesme proportion DE LA PEINTVRE.',\n",
       " '4r F PERFECTION.',\n",
       " '4b.',\n",
       " 'que les quarreaux degradez sur quoy elles, posent.',\n",
       " 'VL AXIOME.',\n",
       " 'Que les figures situées paralellement à la base du rableau, se verront en mesme aspect perspectif que la forme des quarreaux du Plan degradé, sur lesquels elles auront leur position.',\n",
       " 'Faisons maintenant l’application de tous ces Axiomes sur chaque figure de nostre Estampe.',\n",
       " 'Le Poinct de Veüe (qui est la premiere chose à obseruer, parce qu’il sert de boussole à tout le reste) se trouuant precisément à l’œil de Pàris, les figures qui sont en l’air, comme la Victoire qui vient couronner Venus, Apollon dans son Zodiaque, Eole qui sert de soustien, et de marchepié à Iupiter, et aux autres Diuinitez de sa suitte, sont toutes veües en dessous, selon le troisiesme Axiome. Descendant aprés sur le terrain, vers le costé droit, le plus esloigné du Poinct de veüe, on rencontre la figure du fleuue Xanthe, assis et demi couché le long d’vne ligne paralelle à la base du rableau: sibien que par nostre dernier Axiome, cette figure DE LA PEINTVRE.',\n",
       " 'doit paroistre en mesme aspect perspectif, que feroit la forme d’vn quarré degradé dans ce mesme lieu: c’est pourquoy comme elle regarde vers le Poinct de veüe, d’où elle est fort loin, la partie de l’estomac (qui, suiuant la position de ce corps, ne se verroit point s’il s’estoit trouué au droit de d’allignement perpendiculaire du poinct de veüe) se descouure presqu’autant en cette distance, que si la figure estoit desseignée de front, au lieu qu’elle l’est entierement de profil au regard du plan: et la ligne trauersale des espaules monte aussi vn peu vers l’horizon, suiuant le troisiesme Axiome. On dira la mesme chose de la Nymphe qui est assise auprés de ce ffeuue, dont la situation d’aspect, quoy que contraire, eu esgard aux faces, est neantmoins sur la mesme ligne paralelle, et en mesme assiete sur le Plan, puisque l’vne et l’autre est veüe de profil.',\n",
       " 'Car presupposant qu’on face auancer le Plan de leur position paralellement vers le Poinct de veüe, il est certain qu’à mesure qu’elles en approcheront, tous les contours de chaque partie iront aussi successiuement se diuersifiant, sans que pour cela il y ait rien de ehangé dans leur Attitude, et venant enfin Fi PERFECION 44 au droit de l’allignement perpendiculaire du Poinct de veüe, ces figures paroistront alors precisément de profil; qui est en effet leur veritable et reelle position dans le Tableau.',\n",
       " 'Que si l’on veut continuer encore de les passerau dela du Poinct de veüe, plus elles chemineront vers la main gauche du Tableau, et plus elles changeront de forme apparente, et se trouueront enfin dans vn aspect si contraire à leur premier, que la figure qui monstre icy la partie de l’estomac, se verra là par le dos, et ainsi de l’autre figure.',\n",
       " 'L’Intelligence de cette demonstration pratique ne sera point difficile à ceux qui ont le cenie de l’Art, ny aux Geometres, qui en connoistront incontinent le mystere: 7 mais elle est si generalement importante à tous les Peintres, que quiconque ne la conçoit pas, peut s’asseurer qu’il trauaille comme vn aueugle dans sa Profession; et particulierement ceux qui accommodent dans leurs Desseins des figures empruntées, et coppiées aprés des Estampes de diuers Maistres; ou mesme encore leurs propres estudes d’Academies, doiuent sur tout pren8re garoe à les placer tellemẽt danslcurs ra, DE LA PEINTVRE.',\n",
       " '45 bleaux, qu’elles sy trouuẽt precisément ajustées selon la raison du Poinct de veüe, sous lequel elles ont esté premierement desseignées. Car il faut tenir pour vn principe de Perspectiue, que quelque figure que ce soit, estant vne fois posée sur vn Plan, elle ne peut iamais estre veüe precisément de la mesme sorte en quelque autre lieu du plan qu’onla puisse transporter, le Poinct de veüe de meurant fixe. Sibien qu’il est absolument impossible, aprés auoir derobé quelque partie du trauail d’vn autre Peintre, de la placer comme il faut dans vne nouuelle composition, sans l’aide de la Perpectiue.',\n",
       " 'Ie pourrois encore faire de semblables obseruations sur le reste des figures de no.',\n",
       " \"stre Estampe: Mais ce seroit vne espece de redites importunes, et qui reuiendroient toûjours à la mesme chose: c’est pourquoy ie feray mieux d’en choisir vne autre, dans l’examen de laquelle, et des suiuantes, ie me contenteray desormais de toucher comme en passant ce qui aura plus besoin d’obseruation; remettant le reste à la diligence particuliere des studieux, qui, suiuant le Plan que ie leur aycy-deuant tracé, auront la curiosité de faire les mesmes recherehes F III PERFECTION 6 sur chaqu'vne de nos cinq Parties fondamentales de la Peinture, selon l’ordre que ie les ay establies dans ce Traitté.\",\n",
       " 'DEVXIESME ESTAMPE.',\n",
       " 'DV MASSACRE DES INNOCENS La seconde Estampe que Raphael fist grauer à Marc-Antoine fut le Massacre des Innocens. Cette Histoire est trop commune, pour que ie m’amuse à la conter. Ie n’ay point aussi affaire d’examiner la proportion de chaque figure par le destail: il suffit de dire generalement, que le Peintre, par vne consideration tres-iudicieuse, a fait que les femmes y paroissent toutes fort chargées de sein, comme des nourrices; et les boureaux au contraire, d’vne taille maigre et decharnée, conuenable à des bandoliers, qu’il a mesme faits encore tous nuds, afin de les rendre plus affreux et plus laids à voir: car ce Peintre a toûjours gardé vne grande modestie dans ses Ouurages; et si cette effronterie n’eust deu seruir à l’expression de son Sujet, il les auroit sans doute couuerts de quelques habillemens soldatesques. Ie ne trouue rien aussi dans la troisiesmme partie, concernant les Ombres et les LuDE LA PEINTVRE.',\n",
       " '47 mieres, qui soit digne d’vne obseruation particuliere, tout y paroissant dans vne re- gularité assez raisonnable. Mais venant à l’examen de la quatriesme Partie, qui est.',\n",
       " 'l’EXPreflion, i’auoüe que ie me serois pro- mis dauantage de Raphael, dans vn Sujet si auantageux; car à dire vray, il a traitté ces passions violentes auec peu de force: d’où l’on doit iuger que son esprit estoit doux et entierement contraire à de telles representations tragiques et furieuses. I’aurois vou- lu que les assassins de ces pauures petits In- nocens, eussent porté des physionomies farouches et extrauagantes: que la Crainte, la Furie, la Rage, et le Desespoir parûssent sur le visage, et dans les gestes de leurs malheureuses meres escheuelées et meurtries- de coups dans la deffence de leurs nourrisfons contre ces boureaux impitoyables: Que le terrain fust couuert de bras, de iambes, de testes coupées, de corps tronçonnez et esgorgez: Que tout à l’entour on vist vne horrible boucherie, auec vne confusion espouuentable de gens effrayez, les vns courant, les autres criant; des femmes pasmées et transies auprés de leurs enfans morts et ma ssacrez; d’autres fuyant, et taschant de PERFE CTION 48 les sauuer, ca et là;, enfin que de tous costez il ne parust que desolation, que sang que carnage. Mais l’Idée de nostre Peintre a esté plus froide; et il eust sans doute mieux reussi dans vne composition moins violente, et plus conforme à son Genie.',\n",
       " 'Iugeons maintenant auec quelle regularité il s’est tenu dans les termes de la Perspetiue, qui est la derniere espreuue de nostre examen. Cette discussion ne sera pas si difficile da ns ce Dessein comme dans le precedent, le plan estant degradé icy de telle sorte, que le poinct de veuë, et tout le reste qui en depend, se presente à l’œil, sans qu’il faille se mettre en peine de le chercher par des conjectures, lesquelles ne sont jamais si precises.',\n",
       " \"Ceux qui auront la curiosité d’obseruer exactement les diminutions proportionelles de chaque figure, selon la degradation du Plan où elles se trouuent, ainsi que i'ay enseigné cy deuant au premier exemple, ils yerront bien que tout y est iuste. Et pour le second effet (qui est encore plus considerable, et comme le principal de la Perspetiue) touchant les aspects des corps, euesgard à leur situation sur le mesme Plan, et au POinct DE LA PEINTVRE.\",\n",
       " \"49 Poinct de veuë, il n'y a rien qui ne soit fort regulier: car quoy que cette figure de fem- me qu’on void sur le deuant du Tableau, vn genoüil en terre, tenant son enfant sous le bras droit, et le deffendant de l’autre contre vn soldat, qui est en posture de luy decharger vn reuers de coutelas sur la teste; et la figure du soldat mesme, semblassent d’abord, et l’vne et l’autre, deuoir estre plûtost veües par le costé des espaules que par le costé de l’estomac; neantmoins quand on a consideré que l’allignement de leur position est directement tourné vers la diagonale des quarreaux du plan, on iuge aussitost que leur aspect doit estre bien different de celles dont la situation est paralelle à la base du Tableau: outre que dans le contraste de ces deux figures, on void qu’elles font encore vne contorsion de corps assez violente, vers le costé qu’elles nous descouurent.\",\n",
       " 'Tout le reste de cette composition ne peut plus faire aucune difficulté; C’est pourquoy ie passe à vne troisiesme Estampe, aprés auoir dit en general de celle-cy, que si, fans auoir esgard à l’expression des passions, on la considere seulement par la iustesse du Dessein dans les figures, par la regularité, dans la PERFECTION Perspectiue, par les beaux contours de ehaque membre, par l’entente, et par la delicatesse de la graueure, cest vne excellente Piece.',\n",
       " 'TROISIESME ESTAMPE.',\n",
       " 'DE LA DESCENTE DE LA CROIX DE NOSTRE SEIGNEVR.',\n",
       " 'En voicy encore vne autre de la mesme main mais qui est beoucoup plus recommendable par le merite du Sujet qu’elle represente, et d’vne plus grande Idée; pleine de rares considerations, et d’vne Expression admirable Cest vne Descente de la Croix, au pied de laquelle on void la Vierge outrée de douleur, et pasmée entre les bras des Maries, pendant que Ioseph d’Arimathie et Nicodeme decloüent nostre Seigneur, et trauaillent auec Saint Iean, son plus cher Disciple, à le descendre de la Croix, pour le porter dans le Sepulcre qu’ils luy auoient preparé.',\n",
       " 'Il est difficile que cette Histoire soit representée auec plus de deuotion, plus d’amour, plus de douleur, ny auec vne Expression plus touchante, ny mieux partagée: la deuotion dans Ioseph d’Arimathie, l’amour DE LA PEINTVRE.',\n",
       " 'dans Saint Iean, et la douleur dans la Vierge auec les Maries: Le paysage mesme inspire de la tristesse, par vne sterilité apparente, et par l’aspreté de sa situation. Voyla quelques considerations generales: mais pour ne troubler point l’ordre que i’ay establi en ce Traitté, et obserué cy-deuant dans l’examen des compositions precedentes; Commençons par nostre premiere Partie, qui est l’Inuention, c’est adire l’ordonnance des figures dans leDessein, dont l’vne des plus considerables maximes est de les placer auec cette discretion, que la principale figure du Sujet se trouue toûjours vers ie hmieu du Pa- bleau, ou dans le lieu le plus apparent, comme ie l’ay déja remarqué au Iugement de Pàris. Cela neantmoins n’estant pratiqué que par les Peintres les plus iudicieux, ie le repete encore vne fois, afin qu’à l’exemple de Raphael on apprenne à estre exact en chaqu’vne de nos cinq Parties fonda- mentales de la Peinture, puisqu’il n’y a point d’autre chemin pour arriuer à sa perfection.',\n",
       " 'Or auant que de parler de la situation des figures dans ce Dessein, il est necessaire de considerer premierement, Que le quadre du Tableau est d’vne forme bien diffePERFECTION rente des deux precedents, où l’estendüe du Terrain excedoit lespace de la hauteur; au lieu qu’icy la hauteur domine sur la largeur qui est beaucoup moindre, conuenablement à la forme de la Croix, qui est la figure principale, et comme la regle de ce Quadre. Ce que ie remarque par auance, afin qu’en parlant tantost de la Situation ou Collocation Perspectiue de chaque corps, on connoisse mieux la difficulté particuliere qui se re ncontre en de tels Sujets que celui-cy, où la pluspart des figures se trouuent en l’air, et suspendües au dessus du plan hors du terrain.',\n",
       " 'Cela posé, obseruons auec quelle circonspection nostre peintre a placé sonChrist, non seulement au milieu deson Tableau, mais encore comme il l’a tourné vers le costé droit, d’où il prend son iours et le fait descendre entre les bras de son bien aymé Disciple Saint Iean, qui le reçoit auec vne compassion et vn amour qui se void mieux qu’il ne se peut dire.',\n",
       " \"Or cette composition de Tableau a cela de singulier, qu’elle contient comme deux diuerses ordonnances de figures, presque egalement considerables, l'vne d’hommes, DE LA PEINTVRE.\",\n",
       " 'et l’autre de femmes: dont la premiere, qui est toute en l’air, represente ceux qui trauaillent à decloüer, et à descendre de la Croix le corps de Nostre Seigneur: et ce sont les hommes, comme plus forts et plus agissans, qui mettent la main à cette penible entreprise. Pour l’autre ordonnance, qui est disposée à la maniere ordinaire sur le Plan, ce sont quatre femmes, entre lesquelles la Vierge est vniquement considerable, aussi tient-elle la plus digne place au pié de la Croix, où les Maries, autour d’elle, luy rendent en quelque façon les mesmes deuoirs que Ioseph d’Arimathie et ses compagnons font à son Fils. Ces obseruations iudicieu ses se trouuent toûjours dans les Ouurages des Peintres de l’Escole de Raphael: mais parce qu’ils sont en fort petit nombre, et que Raphael encore paroist assez en auoir esté le Maistre, vû qu’en recherchant et estudiant ses compofitions sur le parangon de celles des autres Peintres, on y remarque toûjours quelque trait d’esprit plus transcendant, i’en toucheray seulement icy vn en passant, qui est de ce Mode que les Italiens appellent communement Il Cofstûme.',\n",
       " 'Giij y4 PERFE CTION EXPLICATION DV COSTVME.',\n",
       " 'Et comme ce mot n’est pas vn rerme particulierement affecté à la Peinture, mais qu’il est aussi commun aux Poëtes et aux Historiens, qui disent les mesmes choses que les Peintres ont accoustumé de representer; Ie ne dois pas imputer seulement aux Peintres de nostre Nation, tout le reproche de n’auoir point encore donné de nom à cette excellente Partie de l’Art; d’où il semble qu’on peut inferer qu’elle n’est donc pas conneüe ny pratiquée parmi eux. Il sera toûjours plus apropos et plus vtile d’en expliquer le mystere, et de faire conceuoir la force et la vraye intelligence de ce Costûme, qui est proprement à dire Vn Stile sçauant, vne Expression iudicieuse, vne Conuenance particuliere et specifique à chaque figure du Sujet qu’on traitte: de sorte que ce mot bien entendu comprend, et veut dire tant de choses essentielles à nostre propos, qu’il ne peut estre trop examiné ny trop expliqué: C’est pourquoy ie veux encore tascher de le faire entendre et l’esclaircir plus demonstratiuement par quelques Maximes generales, et par des exemples, auant que DE LA PEINTVRE.',\n",
       " '5 d’en faire l’application à nostreDessein.',\n",
       " \"Qu’il soit donc question de peindre l'Histoire d’Adam et d’Eue dans le Paradis terrestre, lors que, à la solicitation du Serpent, ils mangerent du fruit deffendu. Il faudra bien se garder d’y introduire d’autres figures humaines, my de faire voir dans le paysage aucune sorte de bastimens; ce qui seroit vne lourde faute contre le Costûme dont nous parlons. Neantmoins quelque grossiere qu’elle paroisse, elle n’a pas laissé d’eschaper à nostre grand Peintre, dans vne de ses plus curieuses Estampes de la graueure de Marc-Antoine: tant il est auantageux, et mesme le plus souuent necessaire d’estre auerti d’euiter soigneusement ces absurditez.\",\n",
       " \"En voicy vne autre moins pardonnable, que i’ay remarquée dans vn Tableau du plus grand Maistre des Tramontains, Albert Durer, où, ayant peint la Natiuité de Nostre Seigneur, auec toute la deuotion qu’il s’estoit pú imaginer en chaque figure, tant de la Vierge, que des Pasteurs qui le venoient adorer, il fait aussi le bon Saint Ioseph prian à genoux, et tenant vn chapelet en sa main; qui est veritablement vne ineptie tout- à fait PERFECTION gothique. On en trouue encore quelques autres dans ses Estampes, d’vne Idée plus basse, et s’il faut dire plus impertinentes; comme est celle d’auoir attaché vn Singe (le plus ridicule, et peut-estre le plus sale et le plus vicieux animal de la Nature) auprés de la Vierge, laquelle tient son petit enfant entre ses bras: qui est à mon gré la plus sotte et la plus extrauagante vision qui puisse n’aistre dans la fantaisie d’vn Peintre sur ce sujet; parce qu’elle ne va pas seulemẽt contre le Costûme dont nous parlons, mais qu'elle choque directement le Sens commun.\",\n",
       " 'Ce peu d’exemples suffisent pour faire connoistre l’importance de cette Partie de l’Art, sans laquelle vn Peintre, quelque grand Desseignateur, Sçauant dans la Pespectiue, et bon Coloriste qu’il puisse estre, et quoy qu’il ait tout le reste de la plus excellente Pratique, si auec cela il n’est instruit de ce qui concerne le Costûme, il donnera souuent prise sur ses Ouurages. Et bien que les fautes de cette espece ne soient visibles qu’aux yeux de l’esprit, elles n’en sont pas moins blasmables et honteuses: au contraire comme elles sont principalement conneües et suDE LA PEINTVRE.',\n",
       " 'et suiettes à la censure des personnes iudicieuses, et des gens de lettres, il ne sera pas possible de les excuser; outre qu’elles sont encore d’vne plus notable consequence: de la mesme sorte qu’il seroit plus reprochable à Vn Historien d’auoir inseré dans ses Relations quelque chose fausse, ou de s’estre extrauagué dans quelque raisonnement hors de propos et impertinent, que d’auoir vsé dans son discours de quelque terme, ou de quelque phrase de parler qui ne fust point en vsage.',\n",
       " \"Il faut donc qu’vn Peintre qui aspire à quelque degré de gloire en sa profession, soit fort exact à ce qui regarde le Costûme, et qu’il en face pour ainsi dire son capital, parce qu’il est generalement commun à nos cinqprincipes fondamentaux, et qu’il en compose l’Eurithmie de telle sorte, qu’on doit le considerer comme le Tout de ces cinq Parties. Mais il se faut bien garder de croire que pour satisfaire à l’Intention duCostûme, ce soit assez d’euiter ces inepties, et ces lourdes fautes dont ie viens de remarquer quelques exemples, si outre cela on ne paroist ingenieux et sçauant dans l’Expression des Sujets qu'on traitte. Car si vn Peintre, ayant H PERFECTION à representer quelque bataille des Ama zones, ou des Parthes, ou quelque rriomphe de Iules Cesar, s’estoit contenté d’y obseruer les considerations generales qui conuiennent aux ordonnances des Batailles et des Triomphes, sans y particulariser aucune chose propre et singuliere à chaqu’vne de ces Histoires, il n’auroit point satisfait à l’Expression de nostre Costûme, qui veut que les Parthes soient differents et reconnoissables d’auec les autres Nations, tant par leurs armes, que par leur maniere de combatre; qui est de ne descocher iamais leurs fleches qu’en tournant l’espaule vers l’ennemy, et se battant toûjours en retraitte. Il n’en faudra pas moins faire pour les Amazones: car bien qu’il semblast qu’elles d’eussent estre assez remarquables par leur sexe (vû que de toutes les Nations du monde il n’y en a iamais eu aucune autre où ce sexe, naturellement timide et foible, se soit tellement reuolté contre sa propre nature, et se soit monstré si fier et si audacieux, que de prendre le mestier des plus braues hommes) ll est neantmoins encore bien apropos de leur donner quelque marque particuliere, qui tesmoigne que le Peintre les auroit bien DE LA PEINTVRE.\",\n",
       " 'sçeu faire connoistre hors d’vne bataille, à la façon de leur vestement qui ne couuroit point l’espaule gauche iusques au dessous de la mammelle: et pour la mammelle droite, qu’elles se faisoient brusler dés leur ieunesse, afin qu’elles peussent tirer de l’arc plus commodement, il n’en deura point marquer aucune apparence sous leur habit de ce costé 1à. On ne trouue point aussi qu’elles se seruissent de l’espée, mais bien de fleches, de haches d’armes, et dejauelots. Le bouclier dont elles s’armoient le bras estoit petit et en forme de demie-lune, ou d’vn croissant.',\n",
       " 'Pour ce qui concerne le Costûme dans la figure de Iules Cesar, il est necessaire de sçauoir qu’il estoit chauue, et qu’il se faisoit razer le poil du menton: tellement qu’il ne le faudroit pas peindre auec vne belle cheuelure, ny luy donner vne longue barbe, comme l’on fait à Pompée, et à quelques autres Empereurs, car ce ne seroit point luy aux yeux des Sçauants.',\n",
       " \"Voyla quelques sigularitez specifiques à chaqu'vn de nos trois exemples, qui susfiront pour seruir de guides en cette route, qui mene à la perfection de la Peinture: car H ij PERFECTION ó o c’est en cecy principalement que consiste son plus excellent et plus rare magistere.\",\n",
       " \"Et ce n’à peut-estre esté qu’en ce genre là que ces grands Peintres de l’Antiquité, Apelles, Timanthe, Protogenes, Zeuxis, et leurs semblables, ont surpassé nos Modernes; vû que ny du Coloris, ny de la regularité de la Perspectiue, ny des Proportions des corps, ny des diuerses manieres de peindre, ny de tout le reste du mechanique de l’Art, il n’y a point d’apparence qu’ils ayent eu aucun auantage sur les nostres Aussi Philostrate, Quintilien, Pline, et tous les autres qui les ont immortalisez par leurs escrits, ne les loüent principalement que de cette pointe d’esprit, et de l’excellent Genïe qu’ils faisoient paroistre dans leurs Ouurages: comme on peut iuger par ce qu’ils disent du nobleChef-d’œuure du Sacrifice d’I phigenie, où l’Ingenieux Timanthe ayant depeint, par vne Expression tresiudicieusement partagée, tous les degrez de Regret et de Pitié sur le visage de ceux qui estoient presens à ce funeste spectacle, et aprés auoir déja espuisé et consumé tous les traits de son Pinceau, et toutes les forces de l’Art, auant que d'en estre encore venu iusqu’au DE LA PEINTVRE.\",\n",
       " '61 Pere de cette innocente et deplorable Victime, ne luy restant plus aucun moyen de le representer assez dignement, comme il eust falu, entre les autres, dans la douleur et dans la consternation extreme où il deuoit estre, il luy couurit le visage; laissant ainsi à penser à vn chaquvn ce qui s’en pouuoit imaginer.',\n",
       " 'Voila ce qu’en a dit Pline au trente cinquiesme Liure, Chapitre dix, et incontinent aprés il adiouste encore à la loüange de ce grand Maistre, qu’en tous ses Ouurages il donnoit toûjours plus de choses à entendre qu’il n’en faisoit voir, et que bien que la Peinture soit vn Art tres-excellent et tres-sublime, l’esprit de ce Peintre estoit neantmoins encore eplus esleué.',\n",
       " 'Ce seroit à mon auis vne chose bien diuertissante, si on la pouuoit rendre possible, de faire voir ce fameux Tableau antique à nos Curieux Modernes, pour l’exposer à leur examen: car ie ne croy pas qu’ils fussent si impertinens ny si temeraires que de n’en faire point d’estime, aprés la haute reputation qu’il a eüe parmi ces grands hommes de l’Antiquité: mais ie doute aussi qu’ils y trouuassent ces beautez nouuelles, et à la Hiij pERFECTION 62 mode du temps qui court, dans lesquelles neantmoins ils font consister toute l’excellence et tout le raffinement de la Peinture; au sujet desquelles ils ont mesmes inuenté vn Iargon exprés, auec lequel ils exagerent magnifiquement par des gestes et des expreslions fort amphatiques pour faire admirer, la Fraischeur et la Vaghesse du Coloris, la Franchise du pinceau, les Touches hardies, les Couleurs bien empastées et bien nourries, le Detachement des Masses, les Dra pperies bien iettées, les beaux plis, les Coups de Maistre, la Grande Maniere, les Muscles bien ressentis, les beaux Contours, les belles Teintes, et la Morbidesse des Carnations, les beaux Groupes, les beaux Morceaux, et force autres beautez chimeriques de cette nature, qu’on n’a iamais remarquées dans les Ouurages de ces grands Peintres Anciens, qui sans doute aussi ne se proposoient rien moins que cela dans la representation de leurs Tableaux. Car il est certain qu’aprés toutes ces beautez superficielles, ou plustost imaginaires, si l’Inuention du Sujet qu’on traitte n’est bien raisonnéeisi les Figures ne sont iudicieusement ordonnées dans le Tableau, et auec vne Expression DE LA PEINTVRE.',\n",
       " \"63 conuenable; si l’Histoire n’est suffisamment remplie de toutes ses Circonstances necessaires; si la regularité de la perspectiue n’est precisément gardée par tout dans la position et dans l’Aspect des Figures, et consequemment aussi dans les Ombres et dans les Lumieres, et enfin si le Costûme que nous ve: nons d’expliquer icy bien au long pour faire connoistre son importance, n’y est encore exact ement obserué, iamais vn Ouurage ne donnera de reputation à son Autheur parmi les Sçauans. Aussi de tout le Vulgaire des Peintres de l’Antiquité, qui n’auoient que le Talent mechanique, et qui par la sterilité et par la bassesse de leur Genïe ne s’atachoient qu’à cette escorce de la Peinture, on n’en touue aucun de qui le nom soit venuiusques à nous: car les critiques de ces tempslà gardoient vne exactitude si rigoureuse dans l’examen de tous les Tableaux, que quoy qu’ils fussent exactement trauaillez selon les regles de l'Art, si le Sujet qu’ils representoient n’auoit encore vne conuenance raisonnable au lieu où ils estoient peints, cela seul estoit capable de les decrier; tant les fautes de iugement dans vn Peintre aui- hoient son Ouurage.\",\n",
       " 'PERFECTION 64 Vitruue au septiesme Liure, Chapitre cinq, rapporte vne Histoire tout-à fait considerable sur ce propos, d’vn Peintre nommé Apaturius, dont l’exemple est si exprés, qu’il n’en faut point d’autre pour nous dessiller les yeux, et nous desprendre de la folle preocupation d’estime que la fortune de certains Peintres leur a establie auec vne possession si absolüe et si tirannique, qu’on n’oseroit presque trouuer à redire dans leurs Ouurages, qui passent toûjours comme des originaux de perfection parmi la Cabale des Curieux, à qui il suffit de sçauoir les noms des Peintres, et de reconnoistre leurs manieres pour estre sçauants Mais comme il est iuste que la Raison soit plus forte que cette Cabale, on ne doit point feindre aussi d’en examiner la verité, suiuant nos Principes qui sont des guides tres- asseurées.',\n",
       " \"Et pour en faire d’abord vne preuue vtile et demonstratiue, commençons par ce Chefd’œuure si renommé, si incomparable, si admirable, le plus grand Sujet et le plus vaste qui puisse iamais entrer dans l’Idée d’vnpeintre. C’est l’Histoire de l’espouuentable Iugement vniuersel de la fin du Monde, que l'on void à Rome dans la Chapelle du Pape aì Va.\",\n",
       " 'DE LA PEINTVRE.',\n",
       " \"e au Vatican, à la face de l’'Autel de ce saint Lieu; le plus venerable et le plus auguste de la Chrestienté; peinte de la main fameuse du grand Michelange, ce parangon, ou plustost cét Antagoniste des Peintres Anciens, et le Coriphée de tous les Modernes.\",\n",
       " 'Que n’auroit-on point dû se promettre d’vn Ouurage de cette importance, dans vn concours si generalement auantageux de tous les costez d’où il luy a pû venir de l’aide pour le succés de sa perfection. Mais Horace, dans vn Iraists qa is a larc de rire Poëtique (qui est proprement le frere iumeau de la Peinture) exprime admirablement en deux petits vers, ce que produisent pour l’ordinaire ces grandes attentes, Quid dignum tanto feret hic promissor hiatu?',\n",
       " 'Parturient montes, nascetur ridiculus mus.',\n",
       " 'Ie rendrois sans doute vn mauuais office à l’Autheur de cette prodigieuse Composition, si i’en voulois faire icy la mesme reueüe que i’ay commencée sur quelques vnes de Raphael, suiuant les Principes de ce rrait.',\n",
       " 'té; parce que ces deux Genies ont entr’eux vne antipathie si generale, que tout ce qui fait pour l’vn, nuist à l’autre, et on pouPERFECTION 66 roit dire en verité, que l’vn est le Bon, et l’autre le Mauuais Ange de la Peinture: car comme on remarque dans la pluspart des Compositions de Raphael, vne gentillesse d’Inuention noble et poëtique, nous voyons aussi presque toûjours dans celles de Michelange, vne pesanteur rustique et lourde: et si la Grace a esté vn des principaux Talents du premier, il semble que l’autre ait pris à tasche de paroistre Rude et Malplaisant, par vne certaine dureté affectée dans sa manie- re de desseigner, muscleuse et cochée dans les contours des figures, et par les extraua- gantes contorsions qu’il leur fait faire indiscrettement par tout, sans leur donner mesme aucune varieté de proportions, de sorte qu’il semble qu’il n’ait iamais eu qu’vn portefais pour modelle: au lieu que nostre iu- dicieux Raphael tenoit vne maniere plus douce et plus conforme à la nature, qui seplaist toûjours à mettre quelque varieté dans ses productions.',\n",
       " 'Il auoit encore en vne singuliere recommendation de ne peindre rien de trop licencieux, ny qui peust choquer la modestie et la bien-seance. Mais l’autre au contraire faisoit gloire ouuertement de n’auoir honDE LA PEINTVRE.',\n",
       " \"6 te d'aucune chose, et mesme de profaner et les Lieux, et les Histoires les plus saintes, par son infame libertinage. Ce qui ne paroist que trop dans le Sujet dequoy il s’agist du grand Iour du Iugement, le plus important article de nostre Foy, lequel a esté figuré, ou, pour mieux dire, defiguré par ce fanfaron de la Peinture Michelange, auec vne temerité tellement impie, qu’il semble auoir eu dessein de le rendre fabuleux et tout chimerique, par les sottes et ridicules grimaces qu’il fait faire à vne partie de ses figures, auec des actions si odieuses à des yeux chastes, qu’elles ne seroient pas mesme supportables dans des Lieux profanes. Ie laisseray faire tout le detail de son Examen à ceux qui auront assez de curiosité pour s’y diuertir; aprés auoir seulement donné en general quelque atteinte à ce qui concerne le Costùme, qui est la These que nous agitons presentement, et le principal moyen d’où l'on oonnoist si vn Peintre est iudicieux et sçauant; qualitez absolument necessaires, et sans lesquelles il ne doit iamais estre estimé habille-homme.\",\n",
       " \"Considerons donc premierement ce que l’Euangile nous enseigne de cette Histoire i i pERFECTION 68 à venir, afin de voir mieux si l'Idée que ce grand esprit de Michelange en auoit congeüe, nous en forme quelque representation raisonnable.\",\n",
       " 'On list en diuers endroits de la Bible, mais partieulierement vers la fin de l’Euangile de saint Mathieu, Qu’a ce dernier Iour du Iugement, le Soleil sera obscurci, la Lune demeurera sans lumiere, les Estoilles tomberont du Ciel, le Signe du Fils de l’Hom me sera arboré au conspect de toutes les Nations de la terre, qui pour lors se trouueront dans vne estrange cõsternation, voyant venir au milieu des nuës ce terrible Iuge, suiui et enuironné de toute la Cour celeste, seant sur vn Trhosne redoutable, auec vne grande majesté, ayant à sa droite les douze Apostres pour faire aussi l’office de Iuges; et ensuite tout le reste de la compagnie des Bien-heureux en bel ordre. Mais à sa main gauche, on y verra la foule innombrable des reprouuez, auec vne confu sion horri- ble.',\n",
       " 'Que dirons-nous maintenant de la Pein- Lure de Michelange, si tout cela ne s’y trouue point: seroitil possible qu’il ne l’eust point estudié auant que de prendre son pinceau, DE LA PEINTVRE.',\n",
       " '69 et qu’il se fust si inconsiderement engagé à composer vne Histoire sans la sçauoir, et vne Histoire du Iugement.',\n",
       " \"En verité ce Peintre Moderne eust esté bien malheureux de se rencontrer au temps des Critiques de lAntiquité, qui estoient si rigoureux et si exacts qu’ils ne pardonnoient aucune chose, mesme à ces grands Maistres, qui par l’excellence de leur pinceau, et par la sublimité de leurs Genïes, auoient fait monter si haut le nom de Peintre, et conduit la gloire de leur Profession par vne route si esleuée, qu’aparemment elle auroit esté inaccessible à celui-cy. Car quoy qu’il se fust à mon auis assez signalé entre-eux dans la Partie mechanique de la Peinture (parce qu’en effet c’estoit vn fort bon Desseignateur pour les contours et pour la iustesse des proportions des figures) neantmoins l’impertinence de son esprit en ce qui concer- ne l’Inuention, et ses Idées cerebrines qui ne formoient que des Expressions vilaines etridicules, l’eussent toûjours rendu incapable d’estre admis au reng des Peintres; et il n'eust esté conté parmi ces gens-là, que comme vn Sophiste entre les vrays Philosophes, ou comme vn railleur de pierres, ou Ii1 PERFE CTION vn Masson dans les Ateliers des Architectes.\",\n",
       " 'EXAMEN DV IVGEMENT DE MICHELANGE.',\n",
       " \"Et pour en faire vne preuue assez plaisante, et encore auec cela bien demonstratiue; Feignons qu’il se fust trouué à l’examen de l'Ouurage de Timanthe representant le Sacrific e d Iphigenie, dont nous auons cy-deuant parlé; et qu’en la presence des mesmes Iuges qui prononçerent en sa faueur contre Coloten son competiteur de gloire en cette occasion, nostre Michelange se fust aussi presenté à cette honorable contestation, en leur descouurant son grand Chefdœuure de la Chapelle du Vatican, aprés leur auoir suffisamment exposé les circonstances necessaires à l'intelligence de cette diuine Histoire du Iugement de la Fin du monde, afin que ces souuerains Arbitres de la Peinture la peussent considerer iudicieusement, leur establissant au reste pour vn Principe fondamental et vniuersel dans tous les mysteres de la Religion Chrestienne, de n’y introduire iamais rien de fabuleux ny de libertin; n'estant point permis de mesler les choses prophanes parmi les saintes.\",\n",
       " 'DE LA PEINTVRE.',\n",
       " \"Cela supposé, nous pouuons entrer ensuite dans le Consistoire de ces Notables, pour voir decider la preference d’entre nos Peintres Modernes et les Anciens, par l'examen de l’Ouurage de Michelange dont il est question.\",\n",
       " 'Mais de quelle sorte nostre Moderne pourra il respondre à toutes les objections qu’ils luy vont faire sur chaque Partie de son Tableau, qui se trouuera contraire aux Maximes de leur Examen, dont voicy les quatre plus generales et plus essentielles.',\n",
       " 'I. Que dans la Compoiition dvne Histoire, la Verité y soit premierement fort exacte et pure.',\n",
       " 'II. Qu’on ait vne grande consideration du Lieu où elle sera representée.',\n",
       " 'III. Qu’on prenne bien garde à ne descouurir iamais les parties qui ne se peuuent monstrer honnestement. Cette maxime a toûjours esté parmieux en vne telle recom- mendation, que mesme ils souffroient plustost que l’Histoire demeurast defectueuse en quelque chose, que de passer au dela des bornes de la modestie.',\n",
       " 'IIII. Et enfin, pour le quatriesme degré de perfection, Qu’on trouue moyen de rePERFECTION 72 presenter les choses noblement, ingenieusement, et d’vne maniere grande et magnifique.',\n",
       " 'Voila les quatre Parties principales, qui font le concert, et, pour ainsi dire, l’harmonie de la Peinture, par la iuste relation qu’elles ont entre elles; Ce que nos Critiques rechercheront rigoureusement dans l’Ouurage qu’on leur presente; où i’ay bien peur qu’ils ne trouuent pas assez leur conte pour le succés de la pretention de nostre Moderne. Car allant par ordre, comment reconnoistront-il la Verité de l’Histoire dont il s’agist dans cette representation du Iugement vniuersel, voyant vn Iuge debout, ieune, et comme parlant auec menasses, enuironné tumultuairement de plusieurs figures sans aucune attention à ce qu’il prononce, sans respect à sa presence, les vns luy tonrnant le dos, les autres parlant confusément à luy et entre-eux, la pluspart honteusement descouuerts, quelques vns mesme au deuant de sa Personne assis et couchez sans discretion, e t en des postures indecentes. Au reste, la sainte Vierge toute seule de son sexe, au milieu de tant de vilaines nuditez, et lans que pas vn de ceux qui DE LA PEINTVRE.',\n",
       " \"qui sont autour d'elle face contenance de luy vouloir rendre aucun respect; qui est vn egarement d’esptit tropodieux et insupportable en vn tel Sujet: aprés quoy, que peut-on attendre de bon du reste de cette Peinture: puisque dés l’abord, et dans tout le capital de l’Histoire, il s'y rencontre tant de choses extrauagantes, et directement contraires à la verité de l’Euangile. Car il peint debout, et sans aucun appareil, ce grãd Iuge, que le rexte saint dit expressément, Qu’il viendra Seant sur vn Throsne majestueux, enuironné de toute la Cour celeste: Il le fait ieune et sans barbe, quoy qu’il ait l’âge de trente et trois ans passez. De plus, on doit voir autour de luy les douze Apostres assis, et comme les Conseillers assistans à cette derniere Iustice vniuerselle, et icy on ne les reconnoist pas seulement d’entre les autres. Le mesme Euangile porte encore, que les Iustes seront rengez à la main droite, et les Reprouuez à la main gauche: neantmoins ce libertin a voulu les mettre tous confusément deça et dela, sans aucun esgard à vne si notable et si essentielle circonstance. De plus, il nous represente ce Iuge en couroux, comme prononçant et fulmiR O2FIG M sO SFec õ:Eiẽ o 5 3S sUiUO7iooo U i oioe ararslac dτacecc rc 43eoeiltiioeell:uslo A MONSEIGNEVR MONSEIGNEVR LE DVO D'OIR ELATVS FRERE VNIQVE DE SA MAIESTE'.\",\n",
       " 'MoNsEIGNEVR, l’ay crũ que ce seroit vne chose fort agreable et mesme EPITRE.',\n",
       " 'glorieuse en quelque sorte à vostre Altesse Royale, d’auoir à la suite de sa Cour la Reyne de tous les Arts. C’est la Peinture, MONSEIGNEVR, que vous n’ignorez pas que les siecles les plus esclairez de l’Antiquite ont respectée comme l’vne de leurs Déesses, mais que la barbarie des temps qui les Ont suiuis auoit presque accablée soüs les ruines de la pluspart des belles choses. Cette Reyne des Arts, MONSEI GNEVR,reuient neantmoins aujourdhuy en France auec la EPITRE.',\n",
       " 'Paix, que plusieurs autres Vertus ont coustume d’accompagner comme ses filles veritables.',\n",
       " 'De toutes celles qu’elle va esleuer plus soigneusement que jamais en ce Royaume, Ie ne doute point que la Peinture ne soit la mieux recẽue du Ro y hene a l’homneur de luy estre presentée de la main de son Frere vnique.',\n",
       " 'L’lnclination naturelle que vostre Altesse Royale a toûjours euë pour les choses excellentes fait esperer à celle-cy, MONSElGNEVR, qu’elle sera honorée de la puissante proteEPITRE.',\n",
       " 'tion qu’elle ose luy demander, et auec ce glorieux auantage il n’y a rien de si grand que ne puisse attendre pour elle dans Vn respect tres-profond, MONSEIGNEVR, De vostre Altesse Royale Le tres- humble, tres-obeissant et tres- fidelle seruiteur DE CHAMBRAY.',\n",
       " '(ò.H\\'c, d A — U NC ARR UARSNA OIUEIRN \" 2 c oSlaeooacil lal liaa e α\\'A7deχe αεes¿ PRITICD u Ln\\'y a presque personne qui n’ait quelque inclination pour la Peinture, & qui Yne pretende mesme auoir vn jugement naturel & vn sens commun capables de contrôller les Ouurages qu’elle produit. Car non seulement les gens de lettres & de condition, qui sont vray-semblablement toûjours les plus raisonnables, se piquent de s\\'y connoistre; mais encore le vulgaire se mesle d’en dire son sentiment: si bien qu’il semble qu’elle soit en quelque façon le mestier de tout le monde.',\n",
       " 'Cette présomption n’est pas vn vice particulier des François, ou de nostre Siecle.',\n",
       " 'Il est aussi vieu que la Peinture, & il est né auec elle dans la Grece. On le peut iuger par ce que Pline a remarqué d’Apelles, qu’il auoit acoustumé, auant que de mettre la derniere main à ses Tableaux, de les exposer publiquement à la censure de touts les pasPREFACE.',\n",
       " 'sans, & se tenoit cependant caché derriere.',\n",
       " 'pour escouter ce qu’ils en disoient, & pour en faire son proffit: d’où est venu le Prouer- be, Apelles post tabulam.',\n",
       " 'La pluspart des Peintres gardent encore aujourdhuy quelque petit reste, ou du moins ie ne sçay quelle apparence de cette espece d’estude, qu’ils ont neantmoins conuertie en vne maniere de compliment. Car ils prient d’ordinaire ceux qui ont la curiosité de voir leurs Ouurages, de leur vouloir dire ce qu’ils en pensent, & s’ils y remarquent quelque chose qui ait besoin d’estre corrigé. Mais comme les compliments ne sont que des parolles steriles & vaines, ils ne produi- sent ordinairement aucun effect en ces rencontres; et à dire vray, ces Peintres seroient iustement punis, si quelqu’vn prenoit la liberté de leur rendre effectiuement le bon office qu’ils feignent de luy demander, & qu’au lieu des complaisances ordinaires dont on a accoustumé de les flatter, il leur découurist naifuement quelques notables mesprises dans leurs Tableaux. Car bien loin de prendre en bonne part cette instruction, & d’en sçauoir gré à leur Censeur, ils s’offenseroient sans doute de sa franchise, & illeur PREFACE.',\n",
       " 'feroit asseurément plus de confusion qu’il ne leur rendroit de seruice; parce qu’ils ne cherchent pas tant d’estre habiles qu’ils desirẽt de le paroistre. Le temps d’Apelles n’est plus; les Peintres d’aujourdhuy, sont bien d’autres gens que ces vieux Maistres qui n, se rendoient cõsiderables en leur Professione que par l’estude de la Geometrie, de laPerspectiue, de l’Anatomie des corps, par l’obseruation continuelle des Caracteres qui expriment les Passions & les mouuemens de l’esprit, par la lecture des Poëtes & des Historiens, & enfin par vne recherche assidüe de toutes les choses qui pouuoient seruir à leur instruction.',\n",
       " 'rIls se rendoient mesme assez dociles pour soûmettre leurs Ouurages à la Critique, non seulement des Philosophes & des Sçauans, mais encore du commun peuple, & des artisants de tous mestiers, qui leur faisoient quelque fois d’assez iudicieuses corrections.',\n",
       " 'Ce chemin là estoit veritablement vn peu long; et il est apparemment inaccessible à vne bonne partie des Peintres de nostre Siecle, qui n’ont pas le mesme Genie que ces illustres Anciens, ny le mesme objet dans leur trauail.',\n",
       " 'PREFACE.',\n",
       " 'En effet, ces premiers là se proposoient auant toutes choses, la belle Gloire, & l’Im.',\n",
       " \"mortalité de leur nom, pour principale recompense de leurs Ouurages; au lieu que presque tous les Modernes ne regardent que l'vtilité presente. C’est pourquoy ils tiennent vne route bien differente, & taschent autant qu’il leur est possible, d’arriuer au but qu’ils se sont vniquement proposé.\",\n",
       " 'Pour cet effet ils ont introduit par leur Cabale, ie ne sçay quelle Peinture libertine, & entierement degagée de toutes les sujetions qui rendoient cet Art autrefois si admirable; et si difficile; et leur incapacité leur a fait croire que cette Peinture des Anciens estoit vne vieille resueuse, qui n’auoit que des Esclaues à son seruice.',\n",
       " '2Soûs ce pretexte, ils se sont fait vne nouuelle Maistresse, coquette & badine, qui ne leur demande que du fard & des couleurs, pour agreer à la premiere rencontre, sans se loucier si elle plaira long temps.',\n",
       " 'Voila l’Idole du temps present, à qui le vulgaire de nos Peintres sacrifie tout son trauail; mais ceux qui ont de l’esprit, & qui se sentent capables de cette excellente Profestion, prennent genereusement la mesme PREFACE.',\n",
       " 'route par où ces fameux Anciens arriuerent à la perfection de l’Art; et laissant bien loin derriere eux ces paresseux Ignorants, disent auec autant de compassion que de mespris, Aulædus sit qui Citharœdus esse non poßit, & ont pitié de ceux à qui la nature n’ayant pas donné l’esprit necessaire pour se pouuoir esleuer iusques aux connoissances originelles de l’Art, sont forcez par leur impuissance, de demeurer dans vne simple pratique de faire mechaniquement les choses ainsi qu’ils les ont apprises de leurs Maistres peu esclairez.',\n",
       " 'Mais quel mespris pensez-vous qu’ils ayent pour ces ames lasches à qui l’estude fait tant de peur, que pour en fuir le trauail, elles aiment mieux se jetter à la trauerse dans le parti reuolté des Cabalistes, & prendre auec eux le masque de l’Apparence, que de se donner de la peine pour acquerir & posseder en effet la chose mesme dont elles affectent injustement la reputation?',\n",
       " 'Qu’est deuenüe maintenant la Gloire dont ces Anciens Grecs, les plus beaux esprits du monde, auoient couronné la Peinture, en l’establissant la Reyne de tous les Arts, & ne permetant qu’aux nobles & aux galans hommes de la fuiure? Quelle estime feroient-ils PREFACE.',\n",
       " 'de nostre Siecle, où elle a esté si indigne: ment abandonnée à ces esprits bas qui la deshonorent tous les iours par le mespris qu’ils font de ses Loix; & qui par vn attentat plus outrageant, donnent son nom à cet Idole fantastique qu’ils ont establi en sa place?',\n",
       " 'Auec quelle indignation peut-on iuger que les vrais Peintres considerent la temerité de ces insolens Riuaux qu’ils voyent iouïr auec auantage du temps present, par le caprice de la Fortune, & à la faueur de l’ignorance de leur Siecle.',\n",
       " \"Pour moy, i’en suis tout à fait piqué pour eux; et quoy que ie sçache qu’il n’y a rien de moins durable, ny de plus caduc que la fausse estime, ie ne laisse pas d’estre touché d’vne grande impatience de voir bien tost la fin d’vn abus si odieux & si reprochable à nostre temps, qui est d’ailleurs extraordinairement florissant par les Lettres & par tous les autres Arts, qui se sont entretenus & perfectionnez plus que iamais, malgré ces guerres importunes qui les ont incessamment combatus depuis tant d’années. La Peinture mesme, dont nous regrettons la decadence, & qui semble n’estre née que pour la Paix, n'a peut estre iamais esté en plus hauPREFACE.\",\n",
       " 'te estime parmi nous, ny plus recherchée que maintenant; et cela pourroit bien estre en partie la cause de sa corruption. Car comme les Arts se nourissent de l’honneur qu’on rend aux excellens Artisans, de mesme vn Amour aueugle & vne flaterie indiscrette & trop generale, les corrompt.',\n",
       " 'Il faudroit donc necessairement, pour luy redonner son ancien lustre, & luy rendre sa pureté originelle, rappeller aussi cette premiere Seuerité auec laquelle on examinoir les productions de ces grans Peintres que l’Antiquité a estimez, & dont les Ouurages ont suruescu tant de siecles à leurs Autheurs, & rendu leurs noms immortels.',\n",
       " 'Pour arriuer à ce but, il n’y a certainement point d’autre voye que l’exacte obseruation de tous les Principes fondamentaux dans lesquels consiste sa perfection, & sans quoy il est impossible qu’elle subsiste.',\n",
       " 'Mais parce que le mépris qu’on en a fait depuis si long-temps, en auoit banni l’Intelligence, & que c’est vn grand dommage pour ceux qui sont curieux de la Peinture, parce que, sans ce secours, ils n’en peuuent joüir auec toute la satisfaction que leur donneroit vne connoissance bien esclairée; PREFACE.',\n",
       " \"i'en ay fait icy pour eux vne recherche particuliere, afin qu’ayant dans cette Dissertation, la mesme Boussolle dont les Anciens se seruoient pour leur conduite, ils puissent tenir la mesme route, & voir à fond les mesmes choses desquelles ils n’auroient asseurement iamais eu, sans elle, qu’vne lumiere superficielle & imparfaitte.\",\n",
       " 'Or comme ie sçay qu’il est extremement difficile de detromper les Esprits qui sont déja preuenus d’vn Abus courant& enuieilly.',\n",
       " 'qui a mesme pour pretexte vne liberté specieuse, ie n’ay pas crû que ce fust assez de dire les choses, & de les prouuer par de purs raisonnements, si ie n’en faisois encore voir plus sensiblement l’importance par des Exéples, & des Demonstrations authentiques.',\n",
       " 'Dans ce dessein, i’en ay choisi quelquesvns parmi les Ouurages de nos Peintres les plus celebres, sur lesquels ayant fait l’application de tous les Principes que i’auance, il ne reste plus aucun sujet de douter de leur verité Et afin de connoistre mieux, & d’vne maniere plus generale, les bons & les mauuais effets qui en resultent, lors qu’on a obserué ou negligé ces Principes, i’en propose de plusieurs sortes differentes.',\n",
       " 'Raphael PREFACE.',\n",
       " \"Raphacl d'Vrbin, le plus parfait Peintre des Modernes, et le plus vniuersellement recon.\",\n",
       " \"nu pour tel, par ceux de la Profession, est celui dont les Ouurages me seruiront à faire voir par demonstration, la necessité absolüe de l’obseruation exacte de tous les Principes que i’establis dans ce Traitté; et tout au contraire, Michelange, plus grand en reputation, mais beaucoup moindre en merite que Raphael, nous fournira pleinement, dans ses extrauagantes Compositions, la matiere propre à découurir l’Ignorance et la temerité des libertins, qui, foulant aux pieds toutes les Regles de l'Art, n’en suiuent point d’autres que leurs caprices.\",\n",
       " 'C’est particulieremẽt en cette Partie, que le Lecteur desinteressé pourra trouuer ma Critique plus agreable. Mais, pour en auoir le plaisir entier, il sera bon de tenir en mesme tẽps deuant soy, les EstampesdeRaphael, que i’examine, et que ie propose comme des Ouurages reguliers et cõformes à mesPrincipes.',\n",
       " 'Ce sont les Desseins du Iugement de Paris, Celui du Massacre des Innocens, et celui de la Descente de la Croix de N. S.',\n",
       " 'Ces trois premieres Estampes ont esté grauées par Marc-Antoine, et elles sont rares ct curieuses.',\n",
       " 'PREFACE.',\n",
       " \"La quatriesme est vne fort noble Composition, qu’on nomme ordinairement l'Escole d’Athenes. La grauûre n’en est pas de si bonne main que celle des precedentes; mais l’Ordonnance des Figures en est aussi et plus grande, et plus magnifique.\",\n",
       " 'Quand à Michelange, il suffit d’auoir de luy cette representation du Iugement Vniuersel, qui l’a rendu si fameux parmi le Vulgaire.',\n",
       " 'Cét Ouurage est peut-estre le plus nombreux entassement de Figures qui ait iamais esté peint.',\n",
       " 'C’est aussi, à mon auis, le plus ample sujet qui se puisse presenter pour detromper ceux à qui le nom de ce Peintre est en si grande veneration, que tout ce qui vient de luy leur semble admirable, par vne preoccupation d’esprit si estrange, qu’ils preferent l’Abus courant à la Raison mesme, et n’osent examiner auec iustice, ce qu’ilsestiment sans elle.',\n",
       " 'Pour moy, ie ne suis pas si aueugle, ni si scrupuleux, n’ayant autre but que celui de descouurir la verité.',\n",
       " 'I’espere que la Recherche que i’en ay faite dans ce Discours, sera bien receüe des vrais Amateurs de la Peinture, et pour ce qui est de l’approbation des Cabalistes, ie la meFrise entierement, uaa aaαε τia aa dκ lηο ααακcαο πααιεγιο αετιο2ες s’aοheRοοsοRo o ο RoR R AVERTISSEMENI au Lecteur.',\n",
       " 'N de mes amis, qui auoit eu la cuV riosité de voir ce Traitté de la Peinture dés le temps que i’y trauaillois encore, sçachant depuis que ie le voulois mettre en lumiere, et que mesme mon dessein estoit de l’exposer principaiement aux yeuxde la Cour; il m’a auerti que dans mon Discours ie me seruois de quelques termes Italiens, dont l’intelligence seroit sans doute bien difficile à plusieurs personnes qui n’ont pas l’vsage de cette langue, et qu’il faloit euiter autant qu’on peut d’embarasser l’esprit du lecteur.',\n",
       " 'Ce Conseil, qui m’a semblé iudicieux et fort raisonnable, m’a neantmoins fait assez de peine, ne trouuant pas d’autres mots purement françois qui eussent des Expressions aussi fortes que celles de ces Barbarismes, que l’vsage a comme naturalisez parmi tous les Peintres. Ie me suis donc contenté d’en 1etrencher vne partie des moins necessaires; é ij AVERTISSEMENT mais pour les autres, qui sont les propres Termes de l’Art, i’ay crũ qu’il deuoit suffire de les expliquer icy, afin d’en instruire ceux qui ont de l’Amour pour la Peinture, et qui en voudront parler comme sçauants auec ceux de la Profession.',\n",
       " 'ESTAMPE.',\n",
       " \"Le plus remarquable, à mon auis, parce qu’il est le plus ordinaire dans ce Discours, et qu’il sert mesme de Titre à vne partie des Sections de ce Traitté, c’est le mot d’Estampe. Il n’y a point de Desseignateur, ny de Curieux de cét Art là, qui ne sçache bien que c’est vn Dessein graué et imprimé, que le Vulgaire, et tous les Marchands appellent communement des Taillesdouces, ou des Images: mais il y a cette difference neantmoins, que les Estampes sont des Choses plus considerables, et des Desseins de reputation. Il s’en trouue de plusieurs manieres; les vnes grauées en Cuïure auec le burin, ou à l'Eau-forte, et les autres en Taille de Bois. On en void de ces trois sortes de la main d’Albert Durer Peintre Allemand, qui a esté vn trés-excellent Graueur. L’Origine du Mot d’Estampe vient de l’Italien Stampare, qui signifie, Imprimer.\",\n",
       " 'AV LECEVR.',\n",
       " 'TRAMONTAINS.',\n",
       " 'Ie me serts aussi du Terme de TramonLains en parlant d’Albert Durer, que ie dis auoir esté le plus grand Maistre des Tramontains. Les Italiens appellent ainsi presque tous les Peintres estrangers, mais particulierement ceux d’Allemagne et de Flandre, qui habitent les Païs du Septentrion; parce que le vent du Nort, qui leur vient de ces Quartiers là, se nomme en langue ltalienne la Tramontana.',\n",
       " 'ESLEVE.',\n",
       " 'Ce mot d’Esseue est particulierement af- fecté aux Apprentys ou Disciples des Pein- tres fameux: comme Raphael a eu pour Esleue Iules Romain: Hannibal Carace a eu le Guïde, le Dominiquin, et plusieurs autres. Le mot Italien est Allieuo: et mesme en Eran çois on dit assez ordinairement, qu’vn ieune homme a esté bien esleué, pour direqu’il a esté bien instruit.',\n",
       " 'ESQVISSE.',\n",
       " 'Ce Terme est encore tout Italien, quoy qu’il soit presentement fort intelligible eneilj.',\n",
       " \"AVERTISSEMENT François. C’est comme vn premier crayon ou vne legere esbauche de quelque Ouurage qu'’on medite encore. l’Italien dit Schizzo.\",\n",
       " 'ATTITVDE.',\n",
       " \"I'ay employé en quelques endroits de ce Discours le nom d’Attitude, quoy que nous ayons les mots d’Action et de Posture, qui sont en quelque façon la mesme chose: mais neantmoins en certains rencontres il semble que lererme d’Attitude estplus expressif; car outre qu’il est plus general, il signifie mieux encore, et plus noblement beaucoupde choses que ne feroit pas celui de Posture, ou celui d’Action; par exemple, le mot d’Action ne conuiendroit pas à vn corps mort qui n’a plus d’action; et il faudra dire aussi l’Attitude d’vn corps mort, plustost que la Posture d’vn corps mort, car ce rerme est trop grossier; et ce ne seroit pas mesme parler en Peintre que de dire, Cette figure est en vne belle posture, il faut dire, Cette figure est en vne belle Attitude. L’Italien dit Attitu- dine.\",\n",
       " 'PELLEGRINCest vn rerme dont les Italiens se seruent AV LECTEVR ordinairement pour exprimer vne Chose rare, excellente, et singuliere: mais ils l’appliquent particulierement à l’Esprit, et disent Ingegno Pellegrino.',\n",
       " 'Ie ne croy pas qu’il se trouue rien outre cela qui merite d’estre expliqué dauantage, et ce seroit vne espece de pedanterie de gloser ainsi par tout: Ie finiray donc cecy par vne remarque qui me semble plus importante; C’est vne Objection que plusieurs personnes m’ont faite d’abord, touchant la reputation de Michelange, à quoy ils n’estimoient pas que ie deusse donner vne attainte si hardie: Mais les ayant obligez, pour leur propre satisfaction, de faire euxmesmes l’examen non seulement de l’Ouurage que ie propose dans cette Dissertation, mais encore de diuertes autres Pieces de la mesme main que ie leur ay presentées, ils sont enfin demeurez d’accord que i’auois raison d’en faire le iugement que iay fait, et s’estonnent maintenant autant que moy d’vn Abus si vniuersel, et d’vne reputation si extrauagante, qui certainement n’a pû venir que de la Cabale des esprits malfaits, comme celui de ce Michelange, lesquels sont toûjours en bien plus grand nombre AVERTISSEMENT que les autres; et c’est ce qui a donné lieu au Prouerbe Asinus Asino pulcher, car chacun se plaist naturellement à voir son semblable.',\n",
       " '(°A, oil .',\n",
       " \"a o i u e e eo pτ: el aA 5R 3 F4 2 IDE'E 4 8 DE LA PERFECTIONN DE LA PEINPV RE lEst vne question assez curieuse, de 4sçauoir pourquoy la Peinture a tant decheu de la haute Perfection, où elle estoit autrefois; et d’ou vient qu’il semble aujourdhuy, à voir les foibles efforts de ses Productions, en comparaison des admirables chef-d’œuures de l’Antiquité, qu’il ne nous en reste plus que l’ombre; et pour ainsi dire que le Phanthosme.\",\n",
       " 'Pour moy ie ne doute point que la principale cause de sa decadence, ne soit le mépris qu’on en a fait pendant l’ignorance et la barbarie des regnes du bas Empire, qui l’ont tellement abastardie, et degradée de sa noblesse ancienne, qu’au lieu d’vne A PERFECTION des premieres places qu’elle tenoit entre les Sciences, elle est maintenant reduite parmi les mestiers les plus vulgaires: Ce qui fait bien voir l’abbaissement des esprits dans les derniers siecles, où les rares inuentios, et les lumieres de cét Art diuin, cessant d’estre entretenües, se sont presque esteintes.',\n",
       " \"Neantmoins le bon Genïe, qui preside sur les belles choses, par vne certaine préuoyance de la Nature, nous a toûjours conserué d’excellens hommes, qu’il a fait naistre de temps en temps, pour en garder comme des semences: mais tout ainsi que les arbres, et mesme les corps les plus parfaits, n’acheuent de se former qu’auec vne longue suitte d’années, aprés laquelle on les peut encore destruire presque en vn instant, sans qu’ils puissent estre restablis que par le téps mesme qui les auoit déja faits: il en est demesme de ces excellentes productions d'esprit, lesquelles s’estant vne fois perdües par la negligence, ou demeurãt opprimées soûs la tyrannie des mauuais regnes, ne se redecouurent aprés qu’auec vne longue, et trespenible recherche. Et c’est vn prodige, qu’au siecle de Leonard de Vinci, & de Raphacl, (qui sont le Protogenes, et l’Apelles DE LA PEINTVRE.\",\n",
       " 'des Peintres modernes) on ait veu renaistre la Peinture auec tant de force, et resseurir en si peu de temps: car elle n’est pas de ces Arts simples, que le hazard nous presente quelques fois sans les chercher; et qui sont à la portée de toute sorte d’esprits, n’estant besoin d’aucun talent naturel, ni d’aucune estude pour les apprendre.',\n",
       " \"Il n’y a peut-estre rien d’ingenieux entre les hommes, dont la connoissance soit plus sublime, et la perfection plus difficile à atteindre que celle de la Peinture, qui est le plus noble eschantillon, dont l’esprit humain puisse faire monstre. Et c'est vn abus insuportable de la raualer parmi les Arts mechaniques, puis qu’elle est fondée sur vne science demonstratiue, beaucoup plus claire et plus raisonnable que cette philosophie pedantesque, qui ne nous produit que des Questions, et des Doutes; aussi l’a-on apellée l’Art de Douter, comme vne chose sterile, et friuole: au lieu que nostre Peinture, establie sur les Principes de la Geometrie, fait en mesme temps vne double demostration de ce qu’elle represente. Mais il faut auoir deux sortes d’yeux pour sçauoir joüir veritablement de sa beauté: car l'œil de A ij PERFE CTION l’Entendement est le premier et principal juge de ses Ouurages.\",\n",
       " 'Il seroit donc necessaire, à mon auis, pour luy redonner son premier rang, de faire connoistre par des raisons fortes et conuincantes, qu’elle est toûjours également digne de la mesme gloire qu’elle possedoit autrefois entre les Grecs, les plus beaux genïes que la Nature ait jamais formez; et que le hont eux abandonnement, où elle a esté dépuis, n’a pû venir que de la deprauation des Esprits.',\n",
       " 'Elle a eu encore ce malheur particulier, que tous les Escrits, et les Ouurages d’instruction, dont plusieurs excellens Peintres de l’Antiquité auoient fait part au public pour l’intelligence de leur Art, ont esté enseuelis et consumez par le temps. Mais il ne faut point trouuer estrage que cela leur soit plûtost arriué qu’aux liures des Orateurs, des Philosophes, des Historiens, ou d’autres semblables, vû qu’à tous ceux-là il suffisoit d’auoir des gens qui sçeussent escrire pour en emplir les Bibliotheques: Mais aux liures de nos grands Maistres de la Peinture, il falloit necessairement trouuer des Copistes, bons Desseignateurs, & intelligens dans la DE LA PEINTVRE.',\n",
       " 'matiere qu’ils transcriuoient, pour en acheuer peu de volumes en beaucoup de temps: si-bien qu’il n’y auoit pas lieu d’en esperer autre chose que ce qui en est arriué, à cause des longues, et tres-difficiles Figurations qui en deuoient faire la principale et plus essentielle partie; comme on peut iuger par le Traitté de Leonard de Vinci sur la Peinture, lequel j’ay traduit de l’original Italien en nostre langue, et mis en lumiere: Car il m’eust esté impossible de le rendre jamais public, sans l’auantage que le siecle d’aujourdhuy a par dessus les anciens, d’auoir trouué la Graueure, & l’Imprimerie.',\n",
       " 'La mesme disgrace estoit aussi arriuée à l’Architecture, puisque de tous les liures de l’Antiquité, il ne nous en reste plus aucun autre que le seul Vitruue, qui est mesme tresdeffectueux, à cause du manque de ses Profils, & des Demonstrations lineales, dont cét Autheur auoit fait vn liure particulier que nous n’auons plus, et qui deuoit estre le cour onnement de son Ouurage. Neantmoins nous pouuons dire que les Modernes.',\n",
       " 'en suiuant ses traces, ont fait reuiure glorieusement ce bel Art.',\n",
       " 'On peut donc, à mon auis, encore aujourA iij PERFECTION dhuy rendre le mesme seruice à la Peinture, puisque nous auons vn Philostrate pour guide dans l’entreprise de ce grãd dessein. Mais comme l’Architecture est plus materielle en ses ouurages, la Solidité, qui fait vn de ses Principes, luy a conserué cét auantage sur la Peinture, qu’il est demeuré en pié beaucoup de ses Productiôs, lesquelles suppleent merueilleusement au defaut des liures qu’on a perdus: au lieu que nostre Peinture, qui est presque toute spirituelle, n’a pû nous donner des monumens si durables. Elle n’a pas neantmoins laissé de se reproduire depuis deux siecles auec autant de vigueur que si elle eust eu le mesme secours. Et il semble encore qu’elle a esté la restauratrice de l’Architecture, veu que presque tous les premiers Maistres qui l’ont professée estoient grands Peintres, comme Bramante, Baldassar Petrucci, Raphael, Iules Romain, et quelques autres. Cela s’est fait par la force du Dessein, qui est le veritable principe, et la seule Base, non seulement de lab einture, mais qu’on peut nommer l’Organe et l’Instrument vniuersel de tous les beaux Arts.',\n",
       " 'C’a esté vn grand bon-heur, & vn auanDE LA PEINTVRE.',\n",
       " 'tage singulier pour le restablissement de cette excellente Profession, que sa partie mechanique se soit si parfaitement entretenüe, que ie ne croy pas qu’en cét égard là il nous reste rien à desirer des Anciens: au contraire le seul Vsage que les Modernes ont découuert de peindre à l’huile, apporte vn notable accroissement à sa Pratique: outre qu’au raffinement des couleurs, dans la multiplicité des differentes especes, ils ont passé au dela du necessaire. Si bien qu’il n’est plus question maintenant que de bien cõnoistre en quoy pouuoit consister ce rare Talent de nos grands Maistres de l’Antiquité; et le merueilleux effet que les historiens écriuent de leurs Ouurages.',\n",
       " \"Or cela n’est pas fort difficile à resoudre, puisqu’auec le seul Traitté de Leonard de Vinci on peut mõstrer assez vrai-semblablement, qu’vn Peintre, ayant esté bien instruit dés sa jeunesse en toutes les connoissances necessaires à sa profession, par la methode qu’il prescrit au premier chapitre de son liure, il ne peut manquer d’estre habillehomme: mais aprés cela, si la nature le fauorise du Genie de l’Art, qui est la viuacité ct le caprice de l'’Inuention, et du Talent de PERTECTION la Grace, (que l’estude ne sçauroit donner) il faut par necessiré qu’il reussisse excellent; et si ses Ouurages sont precisément conformes à tout ce qui est enseigné dans la suite de cette Dissertation, on en pourra dire les mesmes choses que de ces Chef-dœuures d’Apelles, de Zeuxis, et de Parrhasius.\",\n",
       " \"Neantmoins, comme nostre Autheur n’auoit pas donné les derniers traits a son liure, qui n’est presque qu’vn esquisse, ou vn projet d’vne plus parfaite composition qu’il meditoit; le remarqueray icy quelques notions generales, et quelques obseruations que i'ay faites, pour suppléer à ce que i’y trouue à desirer.\",\n",
       " 'Ie suppose donc, que tous les Arts ont leurs Principes fondamentaux, dont la connoissance est absolument necessaire à ceux qui en veulent suiure la Profession: et d’autant que celui-cy est excellent par dessus les autres, et par consequent aussi plus difficile, il ne faut pas esperer d’y pouuoir faire aucun progrez considerable, sans vne parfaite intelligence de ses Principes, quisont dvne tres-sublime cõtemplation, principalement la Perspectiue, et la Geometrie, sans quoy la Peinture ne peut subsister.',\n",
       " 'Mais DE LA PEINTVRE.',\n",
       " \"Mais parce qu’il ne suffit pas encore, pour former vn peintre, de l’auoir instruit de ces deux parties, qui se peuuent acquerir facilement par l’estude, & qu’il a besoin, outre cela, de trois ou quatre autres qualitez plus rares, qui ne luy sçauroient venir que d’vne faueur singuliere de la nature: cela fait que dans cette Profession, parmi vn grand nombre d’ouuriers, il s’y rencontre toûjours fort peu de vrays Peintres: si bien qu’on peut dire d’eux, comme des Poëres, qu’il faut n’aistre Peintre: car en effet leur genïe est si semblable, qu’il a passé en commun prouerbe, que la Peinture est vne poësie muette, et la Poësie vne Peinture parlante. La raison s'en connoistra manifestement dans l’exposition suiuante des diuers Talents d’esprit qui doiuent tous necessairement concourir à la formation d’vn Peintre parfait.\",\n",
       " 'Ces fameux Anciens, qui porterent la peinture au plus haut poinct de sa perfection, et qui la rendirent si admirable, obseruoient exactement dans leurs Ouurages cinq Parties, qui sont proprement ses Principes fondamentaux, parce que sans eux elle n’est rien qu’vn Art chimerique, et vne simple barboüillerie de couleurs. Mais auant que 5 PERFE CION d’en donner linstruction, ie veux referer l’honneur de cette recherche à Franc. Iunius Holandois, quì depuis vingt et cinq ans, a mis en lumiere vn beau Traitté de la Peinture des Anciens, où toute lhistoire de cét Art, depuis sa naissance iusqu’à sa derniere perfection, est excellemment descrite: et sans que ce liure est en latin, et par consequent hors de l’vsage ordinaire de la pluspart de nos Peintres d’aujourdhuy, ie me serois contenté de les renuoyer à cét Autheur; voicy donc comme il en parle au commencement du troisiesme liure.',\n",
       " \"Les anciens, dit-il, obseruoient exacte- ment dans leurs Tableaux ces cinq Parties: l’Inuention, ou l’Histoire; la Proportion, ou la Symetrie; la Couleur, laquelle comprend aussi la iuste dispensation des lumieres et des ombres, Les Mouuemens, où sont exprimées les Actions et les Passions; et en- fin la Collocation, ou Position reguliere des Figures en tout l'Ouurage.\",\n",
       " 'Mais comme cela est dit en termes si generaux qu’il seroit presque impossible aux Ouuriers d’en tirer le fruit et l’instruction necessaire pour leur Pratique) i’en expliqueray icy par ordre et bien amplement chaDE LA PEINTVRE.',\n",
       " '11 que Partie, afin de la rendre intelligible par des Raisons, et par des Exemples.',\n",
       " 'DE L’INVENTION, I. Partie.',\n",
       " 'L’Inuention, ou le Genïe d’historier et de conceuoir vne belle Idée sur le Sujet qu’on veutpeindre, est vn Talẽt naturel qui ne s’acquiert ny par l’estude, ny par le trauail: C’est proprement le Feu de l’esprit, lequel excire l’Imagination et la fait agir. Or comme cette Partie de l’Inuention tient naturellemẽt le premier lieu dans l’ordre des choses, (puisqu’il seroit inutile et ridicule à vn Peintre de preparer ses couleurs et ses pinceaux, s’il n’auoit auparauant bien resolu ce qu’il veut representer) aussi monstre-elle plus qu’aucune autre la qualité de l’esprit; s’il est Fecond, Iudicieux, & Releué: ou au contraire, s’il est sterile, confus, et bas.',\n",
       " 'DE LA PROPORTION.., Partie Pour ce qui concerne la Proportion, c’est adire la Symmetrie ou correspondance du Tout auec ses Parties, c’est vne chose facile, et à la portée de tous les esprits: ce qui fait que l’ignorance en est sans excuse, parce qu’on peut l’acquerir presque sans peine, Bij PERFECTION 12.',\n",
       " \"et mesmes par vne estude entierement mechanique: mais le seul moyen de paruenir à sa perfection, et d’en auoir vne connoissance bien esclairée, c'est d’aller par le chemin de la Geometrie, qui est la source et la guide de tous les Arts. Or entre les Peintres, et les Sculpteurs de l’Antiquité, qui ont excellé en cette partie, Pline, Quintilien, et quelques-autres ont remarqué smgulierement Parrhasius, Praxitele, Zeuxis, Lisippe, Polyclete, Euphranor, & le celebre Asclepiodore, a qui Apelles, le plus considerable de tous, cedoit neantmoins en la iustesse des Proportions.\",\n",
       " 'DE LA COVLEVR, ,. Partie.',\n",
       " 'Par cette troisiesme Partie, qui est la Couleur, on ne doit pas seulement entendre le Coloris; car ce Talent, quoy que fort considerable en vn Peintre, cede neantmoins à la science des ombres, et des lumieres, laquelle est en quelque sorte vne branche de la Perspectiue, où le centre du corps lumineux represente l’œil; et la section qui se fait de ses rayons sur le plan, ou sur toute autre superficie, exprime precisément le vray contour, er la forme mesme du corps esDE LA PEINTVRE.',\n",
       " '17 clairé. Et quiconque sçaura faire son proffit de cette Remarque, il pourra trouuer diuers moyens tres-commodes pour la pratique de ces Perspectiues capricieuses qu’on void quelques-fois sur des surfaces irregulieres, lesquelles semblent si admirables, et si difficilles à ceux qui n’en ont pas le secret ny l’intelligence.',\n",
       " 'DESMOVVEMENS, OV DE L’EXPRESSION. 4 Partie.',\n",
       " 'Mais comme les trois premieres parties sont tres-necessaires à tous les Peintres, cette quatriesme, qui regarde l’expression des mouuemens de l’esprit, est excelléte par dessus les autres, et tout à fait admirable: car elle ne donne pas seulement la vie aux Figures par la representation de leurs gestes et de leurs passions, mais il semble encore qu’elles parlent et qu’elles raisonnent. Et c’est de là principalement qu’on doit iuger ce que vaut vn Peintre, puisqu’il est certain qu’il se peint luy-mesme dans ses tableaux, qui sont autant de miroirs du temperament de son humeur, et de son genie.',\n",
       " 'Il n’y a personne qui ne remarque facilement, en faisant comparaison des ComBiij PERFECTION 14 positions et des Figures de Raphael à celles de Michelange, que ce premier estoit la Douceur et la crace mesme; au lieu que tout au contraire Michelange estoit si Rustique, et si Mal-plaisant, qu’il n’auoit aucun esgard à la bien-seance. Ce qui se void manifestement dans son grand Ouurage de la Chapelle du Vatican, où, voulant representer le Iugement vniuersel de la fin du monde, sur l’autel mesme de ce Sanctuaire, il a introduit plusieurs figures en des actions extremement indecentes: au lieu qu’il paroist que Raphael a apporté de la modestie dans les Sujets les plus licentieux.',\n",
       " 'De là nous pouuons conjecturer combien il est important que cette partie de l’Expression, qui est la plus excellente de la Peinture, soit accompagnée d’vn iugement, et d’vne circonspection particuliere; puisque c’est par elle que l’on connoist la qualité de l’esprit du Peintre, qui bien loin de s’acquerir de l’honneur par ses Ouurages, lors qu’il choquera les regles de la bien-seance, sera sans doute blasmé et mesestimé d’vn chacun; puisque mesme les plus libertins entre les personnes de condition, s’abstien.',\n",
       " 'nent de proferer des paroles sales, cette DE LA PEINTVRE.',\n",
       " 'effronterie (quoy que passagere, et moins pernicieuse que celles qui blessent les yeux long-temps) n’estant pratiquée que par la plus vile canaille de la populace. Or le Peintre, qui fait profession d’vn Art si noble, est extremement obligé de garder la modestie en tous ses Ouurages, et de ne traitter jamais que des Sujets dignes d’estre vûs par des yeux chastes. Car comme il s’efforce, autant qu’il peut, de faire que ses Tableaux soient recherchez et considerez de tout le monde, il arriue assez ordinairement que ceux où il s’est donné trop de licence, venant à tomber entre des mains scrupuleuses, cessent de paroistre, et ainsi il est frustré de sa pretention.',\n",
       " \"Ce n’est pas pourtant qu’il faille auoir la delicatesse de certains bigots, qui ne sçauroient voir aucune sorte de nuditez; et qui par vne ineptie insupportable, sans auoir esgard à l’excellence d’vn Ouurage, ny à l'Histoire qui s’y represente, font recouurir et habiller par des barboüilleurs des pigures nües qui se trouuent quelques-fois dans des Tableaux de reputation, et par cette impertinence perdent leur Tableau, et rendent T'histoire en mesme temps ridicule.\",\n",
       " \"PERFECTION 16 Voila le premier escueil dont vn Peintre se doit prendre garde dans cette quatriesme Partie, qui concerne l’Expression: et quoy que d’abord la Remarque en semble intempestiue, vû que c’est ordinairement en de tels sujets que les Peintres rencontrent mieux à donner l’esprit et l’action à leurs Figures; neantmoins, quand on aura fait reflection sur la bassesse de ce talent libertin, et qu’on aura bien consideré qu’il est infiniment plus facile de reussir dans ces Representations folastres, que dans les Sujets seueres et heroiques, de la mesme sorte qu’il est plus aisé de faire Rire, que de donner de l'Admiration; je ne doute point qu’on ne mesprise toutes ces Representations extrauagantes, qui ne se voyent aussi jamais que dans les maisons de ie ne sçay quelles sortes gens qui se repaissent de ces niaiseries.\",\n",
       " 'Tellement qu’vn peintre qui se voudra signaler dans sa Profession, doit s’estudier à d’autres meilleures Idées, et tenir pour vne Maxime tres asseurée, que rien ne peut estre beau s’il n’est honneste. Et eela soit seulement dit par auance, et comme en passant, iusqu’à ce que dans l’Application que ie feray cy-aprés de chaque chose, ie particularise DE LA PEINTVRE.',\n",
       " 'larise dauantage, et examine par le destail tout ce qui pourra seruir à la Pratique de cét Auis.',\n",
       " 'DE LA POSITION REGVLIERE DES FIGVRES, 5. Partie.',\n",
       " \"Mais establissons auparauant nostre cinquiesme partie, touchant la Collocation ou Position reguliere des Figures dans le Tableau, puisqu'elle est la Base de tout l’Edifice de la Peinture, et pour ainsi dire, le lien et l’assemblage des quatre premieres, qui, sans celle-cy, n’ont ny forme, ny subsistance: car comme ce n’est pas assez à vn Architecte d’auoir fait vn grand amas de toutes sortes de materiaux, ny d’auoir donné la forme particuliere à chaque membre de son Bastiment, s’il ne sçait, aprés cela, les placer tous dans leur propre lieu, ny à vn Sculpteur d’auoir taillé piece à piece toutes les parties d’vn corps humain, auec vne iuste proportion, s’il ne sçait encore ensuite les mettre ensemble, posant chaqu’vne precisément en sa place, et en sa situation naturelle, de telle sorte, que non seulement il n’aille pas attacher vn bras au lieu d’vne jambe, ny mettre vn pié en la place d’vne main, mais PERFECION 18 qu’il ne prenne pas mesme vne main pour l’autre, ny la jambe gauche pour la droite, parce qu’autrement il feroit vn Monstre, et non pas vn homme: De mesme, vn Peintre auroit trauaillé en vain, et perdu son temps, si, aprés auoir satisfait aux quatre premieres parties, il demeuroit court en cette derniere, où consiste toute l’Eurithmie de l’Art, et le Magistere de la Peinture: parce qu’il est inutile d’auoir inuenté et composé vn Sujer, et de s’estre estudié à rechercher la beauté, et la iuste proportion de chaque Figure; d’estre excellent coloriste; de sçauoir donner les Ombres, et les Lumieres à tous les corps, auec leurs teintes, et leurs couleurs naturelles; et de posseder, encore auec cela, le diuin Talent de l’Expression des Mouuemens de l’esprit, et des passions, (qui est comme l’Ame de la Peinture) si, aprés toutes ces nobles Parties, on se trouue enfin despourueu d’intelligence au fait de la Position reguliere des pigures dans le Tableau.\",\n",
       " 'Il faut donc conclure, que si les autres, ou toutes ensemble, ou prises chacune à part, sont vtiles et auantageuses à vn Pein1re, celle-cy luy est absolument necessaire.',\n",
       " 'DE LA PEINTVRE.',\n",
       " '19 Car quoy qu’vn Tableau n’ait pas entierement satisfait à quelqu’vnedes quatre premieres Parties, ou que mesmes il soit foible, et en quelque sorte deffectueux en touttes ensemble; neantmoins si cette derniere, dont nous traitons, s’y trouue en sa perfection, l’ouurage sera toûjours estimable et digne d’vn Peintre: parce que l’Ordre est la sOurce, et le vray Principe des Sciences: Et pour le regard des Arts, il a cela de particulier, et de merueilleux, qu’il est le Pere de la Beauté, et qu’il donne mesme de la grace aux choses les plus mediocres, et les rend considerables.',\n",
       " 'Voyons donc en quoy consiste cette partie si importante, et par maniere de dire, si Totale, qui acheue non seulement de former vn peintre, mais qui comprend tout ce que la Peinture a de scientifique, et qui la tire d’entre les Arts mechaniques pour luy donner reng parmi les Sciences.',\n",
       " 'Les Geometres, qui sont les vrais Maistres de certe question, pour en exprimer l’Intelligence, se seruent du nom d’Optique, voulant dire par ce rerme-là, que c’est l’Art de voir les choses par la raison, et auec les yeux de l’Entendement: car on seroit bien Cij PERFECTION 20 impertinent de s’imaginer que les yeux du corps fussent d’eux-mesmes capables d’vne si sublime operation, que de pouuoir estre iuges de la beauté, et de l’excellence d’vn Tableau: d’où il s’ensuiuroit vne infinité d’absurditez. Et comme le Peintre fait profession d’imiter les choses selon qu’il les void, il est certain que s’il les void mal, il les representera conformes à sa mauuaise imagination, et fera vne mauuaise peinture; si- bien qu’auant que de prendre le crayon et les pinceaux, il faut qu’il ajuste son œil auec le raisonnement, par les Principes de l’Art, qui enseigne à voir les choses, non seulement ainsi qu’elles sont en elles mesmes, mais encore selon qu’elles doiuent estre figurées. Car ce seroit bien souuent vne lourde faute de les peindre precisément comme l’œil les void; quoy que cela semble vn paradoxe.',\n",
       " 'Or cet Art si necessaire, que les sçauans ont nommé l’Optique, et que les Peintres, et tous les Desseignateurs appellent communemẽt la Perspectiue, donne des moyens infaillibles de representer precisément sur vne surface (telle qu’est la toile d’vn tableau, vne parois, vne fueille de papier, ou telle DE LA PEINTVRE.',\n",
       " '21 autre chose) tout ce que l’œil void et peut comprendre d’vne seule œillade, pendant qu’il demeure ferme en vn mesme lieu.',\n",
       " 'Ie ne veux point m’arrester icy à traitter de ses Principes, ny des diuerses methodes que les Praticiens ont inuentées pour l’Execution; cela estant hors de mon dessein, et d’vne trop longue digression. Mais presupposant que le Lecteur en ait vne connoissance raisonnable; ie luy monstreray icy par des Exemples, et par l’EXamen critique de diuerses Pieces qui se voyent en estampe aprés Raphael (le plus celebre des Peintres MOdernes, et le plus exact en ses Ouurages) de quelle importance est cette Perspectiue ou Collocation reguliere des Figures dans vn Tableau, vû que c’est par elle qu’on decide precisément, et auec demonstration, ce qui est bien, et ce qui est mal.',\n",
       " 'Et on ne doit point m’imputer à presomption, si dans la reueüe que ie feray de ces Estampes, ie n’espargne point Raphael mesme, dans les choses où ie trouueray vn peu à redire; ne s’agissant pas icy de luy nuire, ny de le flatter: outre que sans doute vne partie des defauts que ie pourray rencontrer dans ces Estampes, viendront souuent Ciij PERFECTION 12 de l’impertinence des Graueurs, quiauront mal imité et alteré les Desseins originaux.',\n",
       " 'Car en effet, i’ay bien obserué que les Estampes d’André Mantegna, et d’Albert Durer, qui sont taillées de la propre main de leurs Autheurs, parroissent plus regulieres, et plus iustes que celles de Raphael, qui n’ont pas eu le mesme auantage: Et si la maniere de desseigner de ces deux grands Peintres, eust esté aussi plaisante, et aussi noble comme elle est precise, leurs Estampes n’auroient point d’egales; à la reserue neantmoins de celles que Marc-Antoine a executées sous la conduite de Raphael, qui prit vn soin extraordinaire de luy faire non seulement des Desseins finis, et fort arrestez, mais encore de l’instruire dans la maniere de sa Graueure. Si bien qu’on peut faire estat de ces Pieces de Marc-Antoine, comme des meilleures choses que la Peinture ait produites en ce genre là. Et il seroit fort à desirer pour les curieux, que tout ce qu’on void graué aprés Raphael fust de Marc Antoine; ou du moins ces grandes Compositions qu’il a peintes dans les Salles du Varican, au Capitole, et en diuers autres lieux de Rome: comme la Bataille de Constantin contre DE LA PEINTVRE.',\n",
       " '23 Maxence; l’Escole d’Athenes, l’Assemblée des Peres, et des Docteurs de l’Eglise autour du Saint Sacrement: et beaucoup d’autres semblables, auxquelles les mauuais oraueurs ont bien osté de leur perfection originale.',\n",
       " 'Or pour entabler nostre Critique par vn bon augure. i’estime qu’il est apropos, pour la gloire de Raphael, et pour nostre propre satisfaction, de commencer par les bons Exemples; et de nous donner comme vn auantgoust de quatre ou cinq des meilleures pieces de Maresrltone, ann que voy ant en suitte celles des autres, nous connoissions mieux quel malheur c’est à vn Peintre de tomber entre les mains dvn mauuais Graueur: et quelle perte ce nous a esté, que tant d’excellens Ouurages du mesme Genie se soient si notablement defigurez sous de tels burins.',\n",
       " 'PREMIERE ESTAMPE.',\n",
       " \"DV IVGEMENT DE PA'RIS.\",\n",
       " 'La premiere fueille qui porta le nom de Raphael hors de l’Italie, et qui fist connoistre à tous les Peintres de son siecle, qu’il estoit leur Coriphée, fut la noble et fameuse Estampe du Iugement de Pàris, ou RaPERFECTION 24 phael fist vne si heureuse tentatiue pour luy, et pour son Eleue Marc-Antoine, que depuis il continua de l’entretenir en ce mesme employ: et à cét effet il luy desseigna tout-exprés plusieurs autres belles choses, que nous n’aurions, peut-estre, point veües sans cette occasion, parce qu’il ne les a jamais peintes.',\n",
       " 'Examinons maintenant dans les Figures de cette Estampe, si le Peintre a suffisam.',\n",
       " 'ment satisfait à nos cinq Parties fondamentales: et afin de proceder auec ordre à nostre recherche, commençons par la premiere Partie, qui est l’lnuention Mais d’autant qu’il est absolument necessaire, pour en pouuoir faire vne discussion raisonnable, de sçauoir les circonstances de cette Histoire POËtique, la voicy en peu de mots.',\n",
       " 'Pàris, fils du Roy Priam, ayant esté exposé sur le Mont Ida, incontinent aprés sa naissance, et abandonné aux bestes sauuages (à cause d’vn songe funeste, et fatal à sa Patrie, que sa mere Hecube fist de luy durant sa grossesse) fut recueilli par vn des Bergers de la contrée, qui l’esleua comme son enfant. Ce ieune Prince inconneu à son nourricier, et à soy-mesme, par vne secrette vertu DE LA PEINTVRE.',\n",
       " \"25 vertu de son sang Royal, se rendit dés ses premieres années si parfait, qu’il surpassoit tous les autres de son àge, en force, en beauté, en adresse, et en tout ce qu’il y auoit de recommendable parmi eux. Cela, iusqu’icy, a quelque apparence d'vne veritable Histoire: Mais les Poëtes, qui sont en quelque façon les camarades des Peintres, y ont ensuite meslé plusieurs fantaisies capricieuses; et disent qu’en ce temps-là tous les Dieux ayant esté conuiez aux nopces de Pelée auec Thetis, hormis la seule Deesse Discorde; cette malicieuse, pour se venger du mespris qu’on auoit fait d’elle, ietta fecrettement dans la foule de l’assemblée, vne pomme d’or, sur laquelle estoit escrit, Soit donnée à la plus belle. Mercure, le plus intrigué de tous les Dieux, l’ayant aperceüe la ramassa, et lisant tout haut l’addresse de ce pernicieux present, aluma tant de ialousie entre les Deesses, qui se piquoient d'estre belles, que Iupiter mesme ne voulut pas en estre le Iuge, depeur d’offenser sa femme Iunon, s’il prononçoit en faueur d’vne autre; ou de paroistre suspect et interessé, s’il l’eust preferée. Les seules Riuales de Iunon, furent la fiere Minerue, et l’agreaD PERFECTION 26 ble Venus. Sibien que cette question estant remise, du commun consentement des trois pretendantes, au jugement du royal Berger Paris, (qui estoit luy-mesme pour lors vn parfait modelle de beauté) Mercure luy fut incontinent despesché de la part de lupiter, auec cette pomme, qu’il deuoit donner à celle des trois qu’il iugeroit estre la plus belle.\",\n",
       " \"Voyla ce que Raphael s’est proposé de representer dans ce Dessein; où, par vne consideration generale, et presque toûjours necessaire, il a placé les principales Figures du Sujet au milieu de son Ordonnance; et les afait voir dans vne grande varieté d’Aspects, et d’EXpressions: Car Minerue toute remplie de desdain de n’auoir pas eu le prix qu'elle pretendoit, tourne le dos à son Iuge, auec vne contenance de mespris extre- me. Venus, en faueur de qui la sentence fut prononcée, est au milieu de ses deux Riuales, receuant le Gage de sa victoire, auec vne modestie accompagnée de toute la grace qui se peut imaginer. Le Peintre a voulu nous la faire voir par le profil, qui est le costé plus auantageux, pour monstrer la forme et la regularité des parties d'vn DE LA PEINTVRE.\",\n",
       " '2 beau visage. Iunon, la plus orgueilleuse des pretendantes, outrée de despit de n’avoir pas esté preferée, paroist s’emporter à de terribles menaces contrePàris, qui neantmoins ne tesmoigne pas d’en estre esmeu, et demeurant sur son Siege, assis comme il appartient à la qualité de Iuge qu’il tient là, donne son Arrest, auec la Pomme fatale, qui causa ensuitte tant de desordres parmi la Grece, et enfin la ruine entiere de la deplorable Ville de Troye, lieu de la naissance de Pàris. Cette derniere Deesse paroist de front, comme plus audacieuse que les deux autres: et Raphael les a desseignées expressement toutes trois en des Aspects differens, pour donner autant qu’il estoit possible de contraste à ses pigures. Ie remarque mesme encore en celle du Berger Pàris quelque varieté de profil d’auec celuy de Venus : car si cette belle nous descouure dans son profil vne partie de son sein; Pàris au contraire se monstre par le costé des espaules: tant nostre Peintre est exact à faire que chaque partie de son Tableau soit diuersifiée.',\n",
       " 'Outre ces quatre pigures principales, où route l’Histoire estoit suffisamment expriDij PERFECION 28 mée, il a encore introduit Mercure en vne demarche qui donne visiblement à entendre, qu’ayant acheué sa commission, il est prest de retourner dire à Iupiter quel en a esté l’euenement, et qui est la bien-heureuse que la victoire auoit couronnée.',\n",
       " \"Aprés cela, le reste de cette composition n’est plus qu’vn accompagnement Poërique du genie du Peintre, pour enrichir l’ordonnance de son Tableau: car toutes ces Nymphes auec leurs cruches, et les deux figures d’hommes nuds et assis, tenans des roseaux en main, sans tesmoigner aucune attention à ce qui se pa sse, ne veulent dire autre-chose sinon que le Mont Ida est tres abondant en fleuues, et en fontaines: et apparemment celuy qui s'’appuye sur vn auiron, est le fleuue Xanthe, qui alloit border les murs de Troye; et son voisin est le fleuue Simoïs, lesquels ont tous deux leurs sources dans le mesme Mont, et arrosant par diuers destours la Campagne de la Troade, se vont enfin ioindre à l’emboucheure de la Mer Hellespontique, prés le Promontoire de Sigée.\",\n",
       " 'Or comme il n’y a dans cette grande Composition aucune partie que le Peintre n’ait raittée auec esprit, pour faire connoistre DELA PEINTVRE.',\n",
       " '27 que le Mont Ida estoit fort haut, et tres-fertile, il n’en a fait voir qu’vne partie, laquelle montant toûjours successiuement vers l’vn des angles de son Tableau, et se trouuant déja paralelle, et mesme plus esleuée que que lques nuages, fait iuger incontinent que la hauteur en est prodigieuse. La quantité d’arbres, et d’animaux dont il est couuert, monstrent aussi sa fertilité Mais de toute cette representation, le plus difficile à dechiffrer est ce qui se passe entre les Dieux dans les nües: car d’vn costé, Iupiter ve nant sur son Aigle, auec vne Foudre en main, porté par vn Vent, et accompagné de Dian e, auec deux autres Deesses; et Apollon de l’autre costé, frere de cette Diane, armé de son Zodiaque, et escorté de deux ieunes Caualliers (qui sont vray¬semblablement Castor et Pollux, les freres d’Helene) courans auec assez de fierté à la rencontre de Iupiter, semblent estre là comme vne espece de pronostic de la catastrophe qu’eut cette jalouse question, dont il s’aluma, bien-tost aprés, vn si terrible incendie contre le malheureux Iuge, qu’il mist sa Maison, sa Race, et sa Ville en cendres; et fist mesme entre les Dieux vn tel desordre, que, chaqu’vn Dii; PERFECTION prenant parti selon sa passion, il s’en forma vne ligue dans le Ciel, laquelle dura dix ans.',\n",
       " 'Le reste de cette Fable n’ayant plus de part en nostre Tableau, il est inutile que ie m’amuse à le raconter icy: peut-estre mesmes que ie sembleray déja auoir esté vn peu long: mais ie l’ay fait à dessein, qu’aprés qu’on aura consideré dans l’Estampe toutes ces remarques, et qu’il n’y a rien en cette riche Composition qui ne soit fort essentiel au Sujet, l’Idée du Peintre, et la gentillesse de son esprit en parroisse dauantage: car voyant qu’en si peu despace, et sans beaucoup de Figures, il nous a monstré tout-à-la fois vne suite de tant de choses diuerses, on admirera la force de ce Genïe d’Inuention, qui est le Talent dont nous traitons, et la premiere Partie de cét Examen.',\n",
       " 'La seconde, qui concerne la Proportion des Figures, ne demande pas icy vne longue discussion, elle est trop visible à ceux qui auront des yeux de Peintre. On peut seulement y obseruer, en passant, vne difference que Raphael a donnée fort iudicieusement à chaqu’ vne de ses Figures, conforDE LA PEINTVRE.',\n",
       " 'mement à leur qualité particuliere: car les trois Deesses, comme les plus nobles, et les principales du Tableau, sont d’vne taille plus belle et mieux formée que les autres: Le Berger Pàris, auec Mercure et Apollon, monstrent vne proportion plus esgayée, que les Italiens apellent Svelta: les deux Fleuues sont plus robustes, et plus pesans: et les Nymphes des fontaines sont vn peu grassettes, parce qu’elles representent la Fertilité.',\n",
       " 'La troisiesme Partie, qui touche la projeetion ou Dispensation des ombres et des lumieres sur les Objets, n’a point besoin, non plus que la precedente, d’estre examinée par le destail, tout y parroissant generale- ment assez regulier. Il suffira donc de prendre garde à vne licence ordinaire aux Peintres en de tels Sujets que celui-cy, oùApollon (qui est le Soleil, et par consequent le centre et la source de la lumiere vniuerselle) ayant à paroistre aussi sous la forme humaine comme vne rigure particuliere de l’Histoire qui se represente, non seulement il n’esclaire pas les autres rigures, mais il a besoin luy mesme d’estre esclairé et ombré, selon le poinct de lumiere que le Peintre donne à son Tableau.',\n",
       " \"PERFE CTION Pour la quatriesme Partie, qui est l'Expression, talent admirable, et le principal de la Peinture, qui monstre non seulement en chaque Figure, ce qu’elle fait, et ce qu’elle dit, mais encore ce qu’elle pense, qui est vne chose presque incroyable, ie la passeray aussi sans en faire beaucoup de discours, parceque ie l’ay déja suffisamment examinée dans la narration de cette Histoire, en parlant de l’Inuention, et de l’Intention du Peintre; où i’ay remarqué dans la contenance des trois Deesses, trois passions differentes iudicieusement exprimées. Le Mespris, en la premiere qui est Minerue, laquelle tournant le dos à son Iuge, luy iette vn regard par dessus l’espaule, en haussant le bras d’vne maniere fort despectueuse En la seconde Deesse (qui est Venus receuant le glorieux Prix de la Victoire) i’ay obserué vne Ioye secrette et modeste, accompagnee de toutes les graces dont la beauté est capable. Quant à Iunon, elle est tout à fait reconnoissable selon que les Poëtes nous la depeignent, Colere, Vindicatiue, Arrogãte: car elle menace fierement son Iuge, estendant le bras vers luy, d’vne façon extremement audacieuse. On void ensuite Mercure, DE LA PEINTVRE.\",\n",
       " \"3 cure, dans vne demarche qui monstre bien qu’il est diligent en ses messages, vû qu’en mesme-temps il parle et chemine, auecvne adresse et vne mine qui font bien connoistre qu’il estoit leste, et propre aux mestiers où il estoit employé. Le Berger Paris, qui tient icy enquelque sorte le premier rang, quoy que parmi desDiuinitez, est dans vne contenance fort posée, comme il conuient à vn Iuge: Son chien mesme, qui est à costé de luy, n'est ny endormi, ny importun à aboyer; et semble donner aussi de sa part, quelque attention à ce Iugement. Toutes les autres Figures des fleuues et des fontaines paroissent assez indifferentes à ce qui se passe, comme ie l’ay déja remarqué.\",\n",
       " 'Neantmoins i’auois estimé d’abord, que la Nymphe qui est assise proche des deux fleuues, et qui paroist si melancolique et si pensiue, pouuoit estre Oenone la Maistresse de Pàris, à qui cette affaire deuoit donner de la ialousie: mais sa cheueleure d herbes, et sa cruche ne quadrent point à cette pensée.',\n",
       " 'Dans les nües, Apollon auec ses deux ieunes auancoureurs, pleins d’ardeur et de precipitation, sont là comme les augures de la guerre, qui inonda peu de temps aprés toute E PERFECTION la Grece, par le furieux ressentiment qu’eurent les Deesses irritées contre leur Iuge; et par la vengence espouuentable qu’elles exercerent sur toute sa race. Ce qui monstre bien qu’il est toûjours perrilleux de se mesler des affaires et des contentions entre les Grands.',\n",
       " 'Ceux qui sçauent les principes de l’Astrologie judiciere, connoistront encore dans la position des Signes autour du Zodiaque, comme le Peintre n’a pas esté seulement exact à les mettre bien de suitte chacun en son ordre, mais qu’il estoit mesme intelligent en ce qui concerne la figuration des Horoscopes: car voulant representer les grands desastres qui deuoient n’aistre de cette fatale contestation, il a tourné vers le lieu où elle se passe, le Signe d’Ariés, qui est la maison de Mars, dans laquelle naissent les Tonnerres, et tous les desordres. Le Signe suiuant est le Taureau, maison de Venus, laquelle est là auec auantage. Les Gemeaux, qui vont aprés, tiennent encore le mesme parti, et sont de l’Histoire; ce Signe representant les deux ieunes caualiers auãcoureurs d’Apollon. De ces particularitez si recherchées on peut inferer combien le reste DE LA PEINTVRE.',\n",
       " 'de cette composition est iudicieux et étudié.',\n",
       " 'Il n’y a plus à considerer dans nostre Estampe, que la Figure de Iupiter, qui vient sur Eole, dans vn appareil extraordinaire, accompagné de trois ou quatre Diuinitez, le Foudre en la main, et son Aigle auprés de luy, fier et irrité, comme prenant aussi interest à ce demeslé. Tout cela nous donne encore vn presage de quelque tempeste.',\n",
       " 'Acheuons enfin d’examiner auec quelle intelligence nostre cinquiesme et principale Partie, touchant la position perspectiue des Figures aura esté obieluee dans cette Ordonnance Le commun des Peintres s’imagine que la perspectiue n’est qu’vne chose particuliere pour certaines representations d’Architecture, qu’ils appellent mesme des perspectiues, ne croyant pas qu’elle ait rien à voir dans les Histoires qui sont toutes de figures, telles que peutestre celle-cy: et en effet elle y paroist beaucoup moins sensiblement à l’œil de ces demi Peintres, qui ne la discernent que par ie ne sçay quelle pratique mechanique d’vn concours de lignes tendant à vn Poinct de veüe, qui est la borne de toute leur connoissance. Mais Eij PERFECTION les grands Maistres, qui sçauent qu’elle est la Base generale de leur Art, la vont recherchant et obseruant iusques aux moindres parties d’vnrableau, comme ie pretends de le monstrer dans cét exemple, qui est d’autant plus commode pour mon dessein, qu’on n’y voit d’abord aucune apparence que Raphael ait deu auoir en cette Composition la moindre pensée de Perspectiue; tant le Sujet paroist libre et desgagé de toute sorte de sujetion; vû qu’il n’y a ny degradation de Plan, ny Bastimens, ny aucune forme d’horizon, d’où les simples Praticiens de la Perspectiue lineale ayent moyen de tirer vne seule conjecture, sur laquelle ils puissent assoir la Boussole de leur mechanique. Mais il faut qu’ils sçachent, que c’est vn raffinement excellent dans la Peinture, d’y faire les choses exactement regulieres et precises, et d’en cacher l’Art.',\n",
       " \"Comme nçons donc par determiner lePoinct de veüe, puisque c'est comme le Centre où chaque partie du rableau a sa relation. Et par ee que nous n’auons dans celui-cy aucune guide lineale qui nous y conduise, il faut faire ensorte que la Raison nous le monstre.\",\n",
       " \"Le Sujet dont il s'agist en cette Histoire DE LA PEINTVRE.\",\n",
       " 'estant de la Veüe, et Pàris, entre toutes les autres Figures, faisant principalement cette fonction, le Peintre ne pouuoit pas colloquer plus iudicieusement son poinct de veüe qu’à l’œil de Pàris, qu’il a mesme pour cét effet representé de Profil, afin de monstrer encore par là qu’il n’y en doit auoir qu’vn précisement, comme les Geometres l’enseignent dans l’Optique; où ils representent la Vision par vne forme de Piramide radieuse, à la pointe de laquelle est l’œil.',\n",
       " 'Cela posé et bien entendu, on remarque aprés suffisamment daiis PUrdonnanee de cette Composition, que le plan, où sont les trois Deesses riuales, porte sa Degradation vers l’œil de Pàris, et que tout le reste du Tableau y est tourné. Or la Perspectiue estant vn Art composé de proportions reciproques, il s’ensuit que de l’intelligence d’vne partie on peut passer à celle d’vne autre; et par cette relation alterne venir enfin à la conoissance de toutes ensemble: Sibien que de ce premier Poinct de Veüe, et de la diminution successiue des trois premieres Figures, il est aisé d’inferer vn autre Poinct essentiel, et tres-necessaire pour la pratique de desseigner, qu’on nomme communeE iij PERFECION ment le Poinct de Distance, lequel determine l’espace qui est entre le Tableau et l’œil de celuy qui le regarde: quant à la ligne droite, qui est comprise entre le Poinct de Distance et le Poinct de Veüe, elle represente lAxe de la Piramide visuelle, lequel doit toûjours demeurer fixe et paralelle au niueau du Plan, et à la hauteur de l’horizon.',\n",
       " 'Ce Poinct de Distance a de certaines limites regulieres, hors desquelles il reussit mal: car s’il est trop proche, il fait paroistre le Plan si esleué en talu, et les diminutions des figur es si subites, que l’œil en demeure tout surpris: mais au contraire, s’il est esloigné plus qu’il ne faut, il rend les choses confuses et trop entassées; de sorte qu’il doit estre mis à vne distance moderée, que les Sçauans dans l’Optique ont establie à l’ouuerture de l’angle du Triangle Equilateral. Par cette Maxime generale on descouure incontinent où est ce terme precis de la distance que nous cherchons: C’est pourquoy ie ne m’y arresteray pas dauantage, vù qu’aussi bien le destail en est inutile à ceux qui sçauent déja cette pratique, et seroit trop difficile à conceuoir pour les autres qui n’en ont point encore entendu parler.',\n",
       " 'DE LA PEINTVRE.',\n",
       " 'Presupposant donc que ces premieres operations soient disposées selon l’Art, il ne faut plus que considerer si les figures ( tant celles qui posent à la maniere ordinaire sur le terrain, que celles qui sont esleuées dans l’air et parmi les nües) se trouuent en vn aspect conuenable à leur situation, eu esgard au poinct de Veüe; et si elles se diminüent proportionnement, à mesure qu’elles suiuent la degradation du Plan: car c’est en ces deux parties là seulement que consiste toute l’intention et tout l’effet de la perspectiue dans la peinture. Et quoy qu’elles soient presentement beaucoup negligées par ceux de la profession, neantmoins la consequence en est telle, que celuy qui les ignore n’est point digne du nom de Peintre: et tous les Tableaux où cette Partie est deffectueuse, sont tres- mesprisables et ridicules aux yeux des Sçauans, qui croyent voir autant de chimeres qu’il y a de corps representez hors de la possibilité naturelle.',\n",
       " 'L’importance de cette remarque se conoistra mieux par les exemples des mauuais Ouurages, que de celui-cy dont nous parlons, dans lequel tout est assez regulier et conforme à l’Art. Car si nous examinons le prePERFE CTION 74 nant son Arrest espouuantable, qui fera trembler les Anges mesmes, auec toute la Nature: et cependant dans ce mesme temps, que tout deuroit estre en vn tres-profond silence, et dans vne entiere consternation, les Trompettes sonnent, et font tout le plus grand bruit qu’ils peuuent: Ce qui seroit veritablement icy vne inconsideration tresremarquable, si elle n’estoit accompagnée de plusieurs autres encore plus impertinentes et moins pardonnables: Car durant ce tintamarre, et parmi l’effroy que deuroit causer cette Sentence irreuocable qui se prononce, et qui est si generalement importante à vn chaqu’vn, on ne void presque personne qui y donne de l’attention; mais la pluspart s’entretiennent et se parlent indiscrettement, comme s’ils n’auoient point d’interest à ce qui se passe. Il y en a mesme qui s’embrassent et font d’autres niaiseries extremement sottes.',\n",
       " 'Que dira Timanthe et ses Semblables à ce temeraire et tres ridicule competiteur, qui n’a pas le moindre Talent de Peintre, et qui neantmoins se vient presenter en concurrence auec eux, deuant des Juges es esclairez et tres-equitables, qui le vont DE LA PEINTVRE.',\n",
       " \"remplir de confusion, et chasser honteusement de leur assemblée, ne trouuant dans son inepte Composition, ny la Verité de l'Histoire qu’il pretend traitter; ny la Conuenance des figures à leur Sujet, et au lieu où elles sont peintes; ny la Discretion en ce qui est de l'honnesteté; ny le grand Mode d'exprimer les choses; ny enfin aucune partie de ce qui concerne le Costûme: outre que dans tout ce vaste et tumultueux entassement de figures, il n’y paroist aucun traict d’esprit, tant son Genïe est sterile et pauure. Poura-il bien seulement leur dire pourquoy il n’a point donné d’ailes à ces Anges, puisque c’est leur plus ordinaire marque dans la Peinture, et qui estoit extremement necessaire en ce cahos de figures, où celles des Corps et des Esprits, des Anges et des Demons, des Eleus et des Reprouuez ne sont point reconnoissables les vnes d’auec les autres: Car il depeint mesme les Anges sous des apparences d’hommes si grossiers et si materiels, et en des postures si peu conformes au trauail où il les employe, qu’on ne les peut regarder sans auersion, acause des contorsions extrauagantes et des grimaces qu’il leur fait faire, soit à embou.\",\n",
       " 'Kij PERFECTION cher leurs trompettes, soit à soustenir en l’air la Croix et les autres instrumens de la Passion: comme si par derision il s’estoit pleu à les rendre plus difformes et plus hideux que les Diables mesmes.',\n",
       " 'Ce qui me donne sujet de le soupçonner d’vn libertinage si insolent, c’est que ie voy qu’il a encore acheué de profaner son Ouurage par vne plus grande impieté, ayant eu l’audace d’introduire dans cette Histoire si sainte et si serieuse, la sotte Fable du Batelier des Enfers, nommé Charon par les POëtes du Paganisme, qui le feignoient estre sur les bords des Fleuues Styx, Cocyte, et Acheron, auec vne barque pour passer les ames des morts dans l’autre monde: qui est en ce lieu et dans ce Sujet, vne espece de sacrilege plus criminel et encore plus abominable que toutes ses autres effronteries; qui ne trouueroit pas mesme d’excuse auprés de Timanthe, ny deuantses Iuges, quoy que Payens, parce qu’ils auroient sans doute horreur de l’impieté de ce faux Chrestien.',\n",
       " 'Mais ie me perds insensiblement dans le labyrinthe de cette Peinture exorbitante, où il n’y a rien en general qui ne soit contraire aux noix du Costûme que nous venons DE LA PEINTVRE.',\n",
       " \"d’establir icy comme le Centre de la perfection de l’Art, auquel tout le Raisonnable, le Iudicieux, le Sçauant, et le Spirituel de la Peinture se doit referer. Et sans que i’ay estimé necessaire, ou du moins fort auantageux pour la demonstration des Principes de ce Traitté, de les faire voir par diuers EXemples; et qu’aprés les bons, que i’ay obseruez dans quelques Ouurages de Raphael, i'ay voulu encore les faire connoistre par leurs contraires, afin qu’ils laissassent dans l’esprit vne plus forte impression de leurs effets; l’aurois espargné tres-volontiers cette longue Dissertation, quiauii bien iera mal goustée par les Ouuriers qui n’ont appris la Peinture que comme vn mestier, n’ayant iamais eu pour but dans leur estude, que de desseigner et contourner artistement les choses qu’ils voyent, et de colorir toûjours auec le plus grand relief qu’ils peuuent, en quoy ils font consister toute l’excellence de leur Profession, et quelques fois ils y reussissent si bien, que leur ouurage s’en trouue plus mal, le considerant par la raison de l'Optique, et selon les regles de la Perspetiue aërée. Ce qui soit dit encore en passant, pour les ludicieux, auxquels il suffit Kiij PERFECTION d’estre auertis pour conceuoir aussi tost l’intelligence de ce Paradoxe.\",\n",
       " 'Or il est temps que nous reprenions le fil de nostre premier discours, et que Raphael reuienne en la place de Michelange pour nous remettre sur les bõnes voyes de la Peinture dont nous nous estions bien esgarez en prenant ce change Repassons donc sur nos premieres brizées, et acheuons d’examiner l’ingenieuse et deuote Idée que nostre vray Peintre Raphael a formée sur la Descente de la Croix de nostre Seigneur, où nous auons déja remarqué toutes les Parties qui donnent la perfection à vn Ouurage; à la reserue neantmoins de ce qui concerne le Costûme, au sujet duquel nous auons fait cette longue digression sur le Iugement de Michelange.',\n",
       " 'REPRISE DE LEXAMEN DE LA DESCENTE DE LA CROIX DE NOSTRE SEIGNEVR.',\n",
       " 'Mais comme i’ay assez amplement expliqué, par des exemples de toutes sortes, l’Intention de ce Costûme dans la Peinture, il n’est plus besoind’en faire vne si exacte recherche sur ce qui reste à examiner en nostreEstampe DE LA PEINTVRE.',\n",
       " 'de Raphael, où chaque figure peut suffisamment donner lieu de iuger que ce rare Peintre y estoit fort circonspect, comme il se verra facilement si on prend garde, que des neuf figures, dont cette Ordonnance de Tableau est composée, celle de toutes qui paroist d’abord la moins agissante dans ce Sujet plein d’Expression et d’Actiuité, et qui sembleroit par consequent la moins estudiée, c’est la Madelene; mais si on la considere aprés selon qu’elle est peinte dans saint Luc Chapitre vingt, lors que sa sœur Marthe se pleint à nostre Seigneur de ce qu’elle luy laissoit tout le soin du ministere de la maison, sans se mettre en peine de ce tracas, ny penser à mettre la main à aucune chose pour la soulager, elle paroistra sans doute icy plus ingenieusement exprimée par la seule compassion et par la douleur interieure où on la void, que si Raphael l’eust aussi mise bien empressée autour de la Vierge auec les deux autres Maries qui la soustiennent, ou qu’il l’eust reprelentée dans les transports d’vne affliction inconsolable, à la maniere des Peintres vulgaires qui croyent que pour qu’elle soit re.',\n",
       " \"connoissable, il faut qu'on la voye prosterPERFECTION 80 née le visage contre terre, ou embrassant le pié de la Croix toute esplorée, qu’elle ait ses cheueux espars en grande abondance sur les espaules, et toûjours sa boëte d’vnguent entre les mains, sans quoy il ne la prendroient iamais pour la Madelene. Mais nostre grand Peintre auoit bien d’autres Idées plus releuées et plus conformes à ce qu’en a dit l’Euangeliste.\",\n",
       " 'Ie laisse le reste de cette Composition à l’examen de nos Curieux intelligens, qui faisant l’application du Costûme sur chaqu’vne des autres figures, y trouueront tout extraordinairement bien pensé, et si raisonnable, qu’aprés cette estude, ils auront sans doute vn grand mespris pour les rapsodies de Michelange et de ses suiuans, et connoistront mieux combien l’Escole de Raphael estoit spirituelle, et excellente par dessus celle de ce Desseignateur mechanique.',\n",
       " 'Mais auant que de passer à vne autre Esatampe, ie veux encore esclaircir vn doute qui donneroit peut-estre à penser à quelques vns; c’est de voir là proche de la Croix, sur vn terrain qui ne paroist qu’vn rocher rout-à fait sterile, vn grand arbre seul, couuert DE LA PEINTVRE.',\n",
       " \"81 uert de fueilles comme en plein Esté, sans que l’Euangile ait fait mention de rien de semblable. Surquoy ayant estudié l’intention de nostre sçauant et tresiudicieux Compositeur, iay reconneu que c’estoit vn Cedre, parce qu’il est grand et droit et sans que est tres ingenieuse, parce que le Cedre est le vray Symbole de IesusChrist, qui est appellé l’Espoux en tant d’endroits du Vieil Testament, et particulierement au Cantique des Cantiques, où il est depeint trescurieusement, et sa Beauté comparée enfin aux Cedres du Mont Liban, Speeies eius vt Libani, electus vt Cedri, parce que cét Arbre est d’vne beauté extraordinaire, incorruptible, de tres-bonne odeur, inflexible, propre aux Edifices, et portant vne ombre fort salutaire: Desorte que par toutes ces excellentes proprietez, il conuient vniquement à representer mesme l’Eglise, et les principales restes qui la composent, comme les Apostres, les Prophetes, les saints Peres. Il peut encore estre pris mystiquement pour la Croix de nostre Sauueur, parce que l’huile de Cedre seruoit à guerir et purifer les Lepreux. Enfin il paroist visiblement que cela est mis L PERFECTION 32 icy auec vn raisonnement si iudicieux et si transcendant, que d’vn tel eschantillon on peut conclure à l’auantage de nostre rare Peintre Moderne, qu’il est veritablement digne de la mesme gloire qu’on a donnée aux plus celebres de l’Antiquité, puisque ses Ouurages monstrent le mesme Genïe qu’on admiroit en ceux de Thimanthe: car les moindres choses en apparence ne laissent pas de se trouuer grandes et considerables par lintention mysterieuse que le Peintre a eüe aux circonstances de son Sujet; et donnent autant à penseraux doctes, que les principales figures de l'Histoire: qui est le Talent que Pline considere singulierement dans tous les Ouurages de Timanthe, et d’où il prit occasion de dire de luy, que, In omnibus eius operibus intelligitur plus semper quám pingitur, et cum ars summa sit, Ingenium tamen vltra artem est. Lib.35. Cap. 1o. Paroles excellentes et tres-glorieuses à ce Peintre, lesquelles i'auois déja rapportées cy-deuant en nostte langue, au sujet de son incomparable Chef-dœuure du Sacrifice d’Iphigenie: mais ie les repete encore icy à dessain de les faire conuenir aussi à Raphael Neantmoinscomme ie preuoy que ceux d’entre nos Sçauants DE LA PEINTVRE.\",\n",
       " \"83 qui n'ont pas l’œil de l’esprit si esueillé ny si clairuoyant que les yeux du corps, et qui considerent plus les Tableaux par la Partie mechanique, c’est à dire par la delineation des figures, que par l’intention du Pein.\",\n",
       " 'tre, trouueront la consequence que ie tire 1cy à l’auantage de nostre Moderne, vn peu trop hardie eu esgard à son fondement, n’esta ns pas faits à iuger de la grandeur et de la force du Lion par vn de ses ongles; Ie veux preuenir les objections qu’ils y pourroient faire auec apparence de raison, si prenant le seus de cette Proposition à la rigueur, ils s’imaginoient que ma pensée fust de mettre entre ces deux Peintres vne telle egalité de merite et de suffisance, que ie leur donnasse le mesme reng. Il faut donc que ie m’explique là-dessus, et qu’on sçache premierement, que quelque estime que ie tesmoigne pour Raphael, mon sentiment est toùjours de rendre vne grande deference à ces Illustres Anciens pareils de Timanthe, et de croire que les Peintres de nostre Siecle leur sont inferieurs; et puis ie veux inferer de là, pour la recommendation de Raphael, qu’ayant sceu trouuer mieux que les autres, le chemin que ces grands Maistres LIj PERFECTION 34 auoient tenu, et qu’estant né auecvn Genie pareil au leur, il est mon seulement paruenu au premier reng des Modernes, mais encore il semble qu’il se soit comme incorporé dans la mesme secte de ces vieux originaux de la Peinture, qui nous ont laissé de si glorieuses Idées de leur excellence, dans les memoires des Historiens.',\n",
       " 'Or si nous considerons comment ils en parlent, et quelle chose leur paroissoit plus admirable dans leurs Ouurages, nous remarquerons facilement qu’ils faisoient tous vne singuliere estime de la Nouueauté, et pour ainsi dire, de l’Argutie et de l’Ingeniosité des pensées et des Inuentions, monstrant par là que la Peinture est vn Art tout spirituel: Car ce qui consiste seulement dans la Partie mechanique est si materiel, qu’ils ne le contoient presque pour rien; aussi ne regloiẽt-il pas le prix des Tableaux par la quantité ny par la grandeur des figures: Il arriuoit mesme quelques fois que la destresse du lieu à peindre et la sterilité du Sujet, donnoient occasion à ces beaux Genies d’en tirer de l’auantage, et de faire vne production d’esprit qui surpassoit en grandeur de reputation les Plus abondãtes Compositions. Ce que Pline DE LA PEINTVRE.',\n",
       " '85 nous apprend encore au mesme Chapitre, où il a fait vn si beau recit et vne si elegante description du Sacrifice d’Iphigenie depeint par Timanthe, dans lequel apparemment il y auoit vne assez nombreuse multitude de figures: car il parle ensuite, d’vn autre Ouurage de la mesme main, qui representoit vn Polypheme endormi, mais dans vn petit Tableau, dont le peu d’espace ne laissoit pas le moyen au Peintre d’y desseigner reellement vn corps gigantesque tel que deuoit estre celuy de ce prodigieux Cyclope: sibien que cette destresse donna lieu à l’Ingenieux Timanthe de faire connoistre que son esprit estoit en effet plus esleué et plus puissant que toutes les forces de la Peinture. Il s’auisa donc, pour suppléer au defaut de la matiere, de faire voir seulement aux yeux de l’esprit, ce qu’il ne pouuoit monstrer à ceux du corps.',\n",
       " \"1NGENIEVSE REPRESENTATION D'VN GRAND CYCLOPE DANS VN PETIT LIEV. PEINT PAR TIMANTHE.\",\n",
       " 'Pour cét effet, il introduisit vn gentil parergue dans son Sujet qui estoit de soy trop simple, n’ayant à representer qu’vne figure Liij PERFECTION 36 endormie, et vne figure enorme et hideuse.',\n",
       " \"O r cét accompagnement parergique estoit Vne tr ouppe de Satyres, qu’il mist à l’entour de son Cyclope dormant; les vns effrayez à vne rencontre si affreuse, et prenans la fuitte; d’autres le considerant de loin, auec vne contenance meslée de crainte et d’admiration, quelques-vns desquels s’estant vn peu approchez d’vn de ses bras qu’il estendoit assez loin du corps, taschoient de luy mesurer le poulce auec leurs thyrses, mais tout doucement sans le toucher, de peur qu’il ne s’esueillast, de sorte que par la comparaison qu’on faisoit de ces Satyres auprés du Cyclope (où ils paroissent plus petits mesme qu’vn de ses doigts) on iugeoit incontinent de la masse prodigieuse de ce Polypheme. Et cette pensée du Peintre fut trouuée si ingenieuse et si nouuelle, qu'elle donna vne grande reputation à son Tableau, qui neantmoins estoit de luymesme fort petit, et d’vn Sujet assez peu considerable.\",\n",
       " 'IMITATION DVMESME SVIET PAR IVLES ROMAIN.',\n",
       " 'Il me souuient d’auoir veu à Rome, dans le Palais de Vigna Madama, ce mesme SuDE LA PEINTVRE.',\n",
       " '8.',\n",
       " \"lante, quoy que la pensée n’en soit proprement qu’vne imitation de celle-cy; mais elle a pourtant ie ne sçay quoy de particulier, qui semble encore encherir en quelque façon sur l’Original: C’est vn Ouurage du plus excellent Esseue qu’ait fait Raphael, qu’on peut auec raison appeller son Maistre Disciple, Iules Romain, l'esprit le plus pellegrin (comme parlent les Italiens) que les derniers siecles ayent veu naistre pour la Peinture, auquel il semble que Raphael auoit deposé et comme transmis tout son Genie en mourant: aussi le fist il son principal heritier par son Testament.\",\n",
       " 'Ce Tableau est peint à fresque, sur vn mur qui fournissoit plus que l’estendüe necessaire à y pouuoir desseigner le Cyclope tout de son long, sans que le Peintre eust besoin d’autre artifice pour faire voir sa grandeur demesurée. Neantmoins comme l’hyperbole a quelques fois aussi bonne grace dans la Peinture que dans la Poësie, et mesme que le pinceau de ce Peintre estoit extraordinairement poëtique, il s’auisa d’introduire fort plaisamment dans cette Composition, d’antres Satyres plus drosles que ceux de PERFECTION Timanthe, folastrans autour du Cyclope pendant qu’il dort; quelques-vns desquels sestant saisis de ses chalumeaux, et les ayant tirez à l’escart, glissent (comme parlent les enfans) à escorchecu le long de chaque tuyau, tenans leurs thyrses entre les iambes pour en couler mieux; auec plusieurs autres singeries fort capricieuses, qui font rire, et donnent en mesme temps à connoistre quelle enorme gueule il falloit à cét effroyable Musicien pour emboucher vne telle fluste.',\n",
       " 'Voyla vne espece d’imitation si rare et si spirituelle, qu’elle peut aller en concurrence auec l’original mesme, et ie m’asseure que si Timanthe l’eust veüe, au lieu de prendre de la ialousie de cette galante emulation, il eust estimé la gentillesse d’esprit de nostre Moderne, et fait grand estat de son Ouurage.',\n",
       " 'Ce seul exemple de Iules Romain pourra seruir de boussole à ceux qui ayant déja fait habitude au Dessein et au Coloris, n’ont plus besoin que de s’embarquer dans le droit chemin de l’Art, et d’esueiller leur Genie à l’Inuention: Car alors il leur suffit de considerer les compositions des Maistres aux- DE LA PEINTVRE.',\n",
       " \"89 auxquels ils ont de l’lnclination, et d’en estudier generalement les Pensées et l’Intention, sans s’amuser à prendre chaque figure piece à piece dans vn Ouurage, comme font tous ces Copistes, qui, ne voyant que l’escorce de la Peinture, ont toûjours cette disgrace dans leur trauail, qu’ils ne sçauroient iamais paruenir à egaler leur original: au lieu que dans les operations de l'esprit, et dans l’Inuention, la Nature est tellement infinie, que l’Imitateur a presque toûjours de l’auantage sur le premier.\",\n",
       " 'C’est par cette route que Raphael et Iules Romain ont non seulement deuancé tous les autres Peintres de leur Siecle, mais se sont rendus encore en quelque façon comparables aux plus fameux de l’Antiquité.',\n",
       " 'Or pour faire quelque reflexion vtile sur ces deux diuerses Compositions de la mesme chose, c’est adire d’vn Polypheme dormant; la premiere, qui est de Timanthe, nous apprend qu’vn petit Tableau peut deuenir quelques-fois vn grand chef dœuure, selon que l’Idée du Peintre en est releuée: et de là on iuge encore, qu’il n’y a point de Sujet si pauure, qu’vn esprit fecond et ingenieux ne rende assez riche, et qu’il luy M PERFECTION est mesme souuent plus auantageux pour sa gloire, et pour la recommendation de son Ouurage, d’auoir à orner et cultiuer vne matiere sterile, que d’estre accablé sous l’abondance dvne grande Histoire, d’où il luy faille retrencher plustost quelque chose d’essentiel, que d’y adiouster du sien.',\n",
       " \"Pour l’autre Composition, qui est de nostre Moderne Iules Romain, elle nous monstre en effet, qu’vne Imitation ingenieuse peut egaler et mesme passer encore au dela de l’Original, et que par consequent il n’est pas moins glorieux d’imiter ainsi par concurrence d’esprit, la pensée d’vn autre, et de l’enrichir comme il a fait, qu’il est honteux à vn Peintre de copier mechaniquement figure à figure tout vn Tableau, sans y apporter du sien autre chose que la peine et la sujetion seruile d'vn simple Ouurier; ce trauail n’estant pas tant reputé l’Ouurage d’vn Peintre, que l’estude d’vn Apprenty.\",\n",
       " \"Aussi voyons nous que les Copistes qui ont l’esprit assez bas pour s’en tenir là, et en fairẽ leur capital, n'ont iamais esté contez au reng des peintres; entre lesquels ils sont seulement compris comme les Eunuques enre les hommes, estans incapables de proDE LA PEINTVRE.\",\n",
       " '91 duction, et n’ayant aucune espece particuliere.',\n",
       " \"Cette digression nous a vn peu escartez de Raphael, nostre principal et premier objet, quoy que neantmoins nous l’ayons toûjours suiui de veüe, et marché sur ses brizées, Iules Romain cependant nous faisant escorte et seruant de guide. Mais il est temps desormais de le rejoindre, pour ne prendre pas le change sur la fin de cette Dissertation, dont il a fourni iusques icy presque toute la matiere par ses excellens Ouurages, l’examen desquels nous a aidé merueilleusement à former l’idée visible et demonstratiue de la Verité et de la Necessité des Principes que nous auons establis pour arriuer à la Perfection de la Peinture. Reuenons donc à cette premiere Escole de Raphael, afin d’acheuer nostre discours du mesme stile et auec le mesme esprit que nous l’auons commencé. Or ce noble Peintre, de qui les Ouurages nous sont autant d’exemplaires où nous pouuons estudier les Regles de l’Art, en a tant produit de toutes sortes, que parmi cette abondance il est difficile de se resoudre à en choisir l’vn plustost que l’autre, celuy qu'on void le dernier semblant toûMij PEREECTION jours estre le plus beau: neantmoins comme ce n’est pas nostre intention de critiquer ses Compositions par le destail, pour en faire Vn iugement decisif de preference (qui seroit vne entreprise odieuse et temeraire) il suffit d’en prendre vne des plus remarquables qui soit en Estampe, afin que les Curieux l’ayant quand il leur plaira deuant les yeux, et la pouuant obseruer commodement et tout à loisir, ils en puissent faire aussi leur iugement auec nous.\",\n",
       " 'CINQVIESME ESTAMPE.',\n",
       " 'DV GYMNASE OVACADEMIE DES PHILOSOPHES DATHENES.',\n",
       " 'Or dans cette liberté de chois, ie n’en veux point chercher d’autre que celle que i’ay presentement entre les mains, puisque l’occasion me l’offre auec assez d’auantage pour m’en contenter; car en effet elle me paroist vne des plus belles ordonnnances qu’il ait iamais peintes, et d’vne tres grande Idée et tres-magnifique. C’est la representation d’vn de ces fameux Gymnases de la Grece, où l’on voidvne assemblée generale de tous les Sçauants de l’Antiquité, tant Philosophes que Geometres, Astrologues, et autres lllustres.',\n",
       " 'DE LA PEINTVRE.',\n",
       " 'Mais auant que d’en venir au particulier de cette Composition, ie veux auertir les Curieux, que le Graueur qui la desseignée et mise au iour, a esté mal informé du Sujet qu’elle represente, parce qu’il s’est auisé d’escrire au bas de sa Planche ces paroles, Paulus dthenis per Epicureos et Stoicos quosdam &c. comme pour dire que c’estoit saint Paul preschant dans l’Areopage, sur l’occasion d’vn Autel qu’il auoit vû dedié par les Atheniens au Dieu Inconneu. Cette Histoire est dans les Actes des Apostres, au Chapitre dixseptiesme.',\n",
       " 'Ce qui me donne sujet de faire obseruer cét inscription, est la consequence qu’il y a de sçauoir au vray l’Histoire dont il s’agist: car si ce beau Docteur-là nous disoit vray, la Composition de Raphael seroit fort inepte: au lieu que l’entendant bien, et conformement à l’Intention de l’Autheur, elle est excellente et admirable, ainsi que nous le verrons ensuitte. Pour ce qui est de ce Graueur là (de qui le mestier, comme celuy de tous les autres simples Copistes, n’est pas d’estre gens d’esprit) il seroit en quelque façon excusable dans cette ignorance, s’il auoit esté plus iuste et plus exact dans la precision de Miij PERFE CTION son dessein; mais il y a tant coulé de lourdes fautes en ce qui concerne la Perspectiue de l’Architecture, et dans la delineation des figures, que Raphael luy en eust asseurément bien voulu du mal, s’il eust vû de quelle sorte il defiguroit et alteroit son Ouurage.',\n",
       " \"Mais que dirons-nous d’vn de nos Peintres Modernes, fameux par sa pleume et par son pinceau, l’Historiographe de la Peinture, le Panegiriste de tous les Peintres ses contemporains, et de ses Predecesseurs de deux ou trois Siecles, Autheur de trois assez gros Volumes sur cette matiere, George Vasari, qui dans la vie d'vn chaqu’vn, nous a conté, comme par vn inuentaire, non seulement tous leurs Ouurages, mais deplus en avoulu estre encore l’interprete: enquoy il a fait paroistre la force et la qualité de son Genïe. Ce beau discoureur venant donc à l’expliquation de celui cy dont il est question; aprés auoir dit en general, par quel moyen Raphael fut appellé au seruice du Pa pe Iules II. il commence ainsi. La onde Raphaello nella sua arriuatta hauendo riceuute molre carrezze da Papa Giulio, cominciò nella camera della Segnatura vna soria, Quando iTheologi ac.\",\n",
       " 'DE LA PEINTVRE.',\n",
       " \"cordano la Philosofia et l'Astrologia con la Theologia, doue sono ritratti tutti i saui del mondo che disputano in vari modi. Sonui in disparte alcuni Astrologi che hanno fatto figure sopra certe tauolette et carratteri in vari modi di Geomanziaet d’Astrologia, et a i Vangelisti le mandano per certi angeli bellissimi, ì quali pangelisti le dichiarano. Frà costoro è vn Diogene con la sua tazza a giacere in sù le scale, figura molto considerata et astratta, che per la sua bellezza et ptr lo sue abito cosi accaso ê degna d’essere lodata. Similmente vi è Aristotile et Platone, l’vno col Timeo in mane, l’altro con l’Etica; doue intorno li fanno cerchio vna grande scola di Filosofi: ne si puó esprimere la bellezza di quelli Astrologi et Geometri che dissegnano con le seste in sù le tauole moltissime figure et caratteri. Frà i medesimi nella figura d’vn giouane di formosa bellezza, il quale apre le braccia per marauiglia, et china la testa, ê il ritratto di Federigo Il. duca di Mantoua, che fi trouaua allora in Roma. Euui similmeute vna figura, che chinata a terra con vn paio di seste in mano, le gira sopra le tauole, laquale dicons essere Bramante Architettore, che egli non é men desso, che se è fusse viuo, tanto é ben' ritratto. E allato a vna figura, che volta il didietro, et ha vna palla del cieloin mano, è il ritratto di Zoroastro, et allato a esso ê Raffaello Maestro di questa opera, ritratiosi da se medesimo nello pec.\",\n",
       " 'PERFECTION chio. Questo è vna testa giouane, et d’asp̧etto molto modesto, acompagnato da vna piaceuole et buona grazia, con la berretta nera in capo. Ne si può espri.',\n",
       " \"mere la bellezza, et la bontà, che si vede nelle teste, et fisure de Vangelisti, a' quali ha fatto nel viso vna certa attenzione, et accuratezza molto naturale, et massimamente a quelli che scriuono. Et cosi fece dietro ad vn San Matieo, mentre che egli caua di quelle tauole doue sono le figure, i caratteri tenuteli da vn Angelo, et che le distende in sì vn libro, vn vecchis, che messesi vna carta in su'l ginocchio copia tanto quanto San Matteo distende: Et mentre che stà attento in quel disagio, pare che egli torca le mascella et la testa, secondo che egli allarga et allonga la penna. Et oltra le minuzie delle considerazioni, che sono pure assai, vi è il componimento di tutta la storia, che certo é spartito tanio con ordine et misura, che egli moslro veramente vn si fatto saggio di se, che fece conoscere che egli voleua frá coloro, che toccano i pemnelli, tenere il campo senza contrasto.\",\n",
       " 'Adornò ancora questa opera di vna prospettiua, et di molte figure, finite con tanto delcata et dolce ma- niera, che fu cagione che Papa Giulio facesse buttare a terra tutte le storie de gli altri maestri er vecchi et moderni. &c.',\n",
       " \"Or comme la langue Italienne n’est pas à l'vsage de tout le monde, voicy vne tres- naifue DE LA PEINTVRE.\",\n",
       " 'naifue Traduction de ce long passage.',\n",
       " ', Tellement donc que Raphael à son ar, riuée, ayant receu beaucoup de caresses \"du Pape lules, commença à peindre dans \" la chambre de la Signature, vne histoire \"Quand les Theologiens accordent la Philosophie et l’Astrologie auec la Theolo, gie; où sont representez au naturel tous les , Sages du monde, qui disputent en diuerses , manieres. Il y a là à l’escart quelques Astro\" logues qui ont tracé des figures sur de cer,taines Tablettes, et des caracteres en plu, sieurs sortes de Geomance et d’Astrologie, \"et les enuoyent aux Euangelistes par de cer,tains Anges tres beaux, lesquels Euangelistes les expliquent. Entre ceux. là est vn ,Diogene auec sa tasse, couché sur les escaliers, figure fort pleine de consideration et ,abstracte, qui par sa beauté et par son habit ,ainsi agencé est digne d’estre loüée. Sem\\', blablement Aristote y est aussi et Platon, l’vn auec le Timée en main, l’autre auec ,,l’Ethique; où alentour, vne grande Escole ,de Philosophes les enuironnent. On ne , sçauroit exprimer la beauté de ces Astro, logues et Geometres qui desseignent auec , le compas sur des Tables plusieurs figures 5 » PERFECTION 8 ,,et caracteres Entre ceux-là mesmes, dans ,,la figure d’vn ieune homme d’vne exellen, te beauté, lequel estend les bras par admi,ration et baisse la teste, est le portrait de , Federic II. Duc de Mantoüe, lequel se ,trouuoit pour lors dans Rome.',\n",
       " ',, Il y a semblablement vne figure qui pen,\"chée à terre auec vn compas en main, \" le contourne sur la table, laquelle on dit \"estre Bramante Architecte, parce qu’il n’est ,pas moins luy-mesme que s’il estoit vif, \" tant il est bien representé: Et à son costé \"il ya vne figure qui tourne le dos, et tient vn globe du Ciel en sa main, c’est le portrait de Zoroastre; et à costé de luy est ,Raphael Maistre de l’Ouurage, s’estant \" peint luy mesme dans le miroir. Celuilà , est vne teste ieune et d’vn regard fort modeste, accompagnée d’vne plaisante et \"bonne grace, auec vne birette noire sur \"la teste. Et on ne peut exprimer la beauté ,et la bonté qui se void dans les testes et ,figures des Euangelistes, auxquels il a fait ,dans le visage vne certaine attention et \" Vne naifueté fort naturelle, et principale,Ilnent à ceux qui escriuent. Et ainsi il fist derriere saint Mathieu, cependant qu’il 7 DE LA PEINTVRE.',\n",
       " '99 »copie de ces tablettes, où il y a des figu,res et caracteres, qui luy sont tenües par \" vn Ange, et qu’il les transcrit dans vn liure, vn vieillard, qui s’estant mis vne ,fueille de papier sur le genoüil, copie tout ,ce que saint Marc escrit: et pendant qu’il \"est attentif en ce trauail, il semble qu’il , tourne la machoire et la teste, selon qu’il ,estend ou qu’il esloigne sa pleume. Et ou\" tre le menu destail des considerations qui \" sont en grand nombre, il y a la composi,tion de toute l’histoire, qui est certes com,partie auec tant d’ordre et de mesure, qu’il monstra veritablement vne telle espreuue ,,de luy, qu’il fist connoistre que parmi tous 7 ceux qui manioient les pinceaux, il vou» loit tenir le champ sans contraste.',\n",
       " ', ll orna encore cét Ouurage d’vne Perspectiue et de plusieurs figures, acheuées auec , Vne si delicate et douce maniere, que cela ,fut cause que le Pape Iules fist ietter par \" terre toutes les Histoires des autres Mai\"stres tant vieux que modernes, &c.',\n",
       " 'Voyla vne longue citation à la verité, mais elle est aussi fort necessaire pour faire connoistre à fond et visiblement la qualité de Nelprit de cét Historien: car à moins que NI 100 PERFECTION d’vne telle demonstration, ample, et toute originale comme est cellecy, ie n’aurois iamais pû persuader lineptie et la bassesse des raisonnemens de ce grand Diseur de rien; parce que ses liures ont esté iusqu’à cette heure estimez et tenus fort chers par les Amateurs de la Peinture, qui ont en effet quelque raison de les rechercher, d’autant qu’on y trouue en general les principales circonstances de la Vie des Peintres, et le catalogué de leurs plus considerables Ouurages: outre que l’Autheur estant passablement bon Desseignateur, et, comme il paroist assez, ayant plus l’esprit au bout des doigts qu’à la teste, il enrichit son discours de leurs Portraits, qui font sans doute la plus curieuse et la meilleure partie de ses liures.',\n",
       " 'Mais quoy que par cette qualité de Desseignateur on eust lieu de croire en quelque façon qu’il estoit bon Peintre, neantmoins l’extrauagance de son Idée (qui luy a fait voir ou plustost fantastiquer tant de chymeres dans cette Composition de Raphael, qui la rendroient tout-à-fait impertinente) est comme vne preuue indubitable non seulement de son ignorance dans DE LA PEINTVRE.',\n",
       " '101 la veritable connoissance de la Peinture.',\n",
       " 'mais encore de la foiblesse et de l’incapacité de son Genie aux deux principaux Talents de cette excellente et tres-iudicieuse Profession, qui sont l’Inuention et le Costûme, dont il monstre bien, par ses ridicules admirations, qu’il n’auoit pas mesme vne legere teinture, ny aucune disposition naturelle à les acquerir, Et c’a esté vne espece de disgrace à Raphael, d’auoir eu vn tel Panegyriste de ses Ouurages, qui en les pensant loüer ne fait que les auilir par le contresens et par le mauuais visage qu’il leur donne.',\n",
       " \"Comme il n’estoit pas permis anciennement à tout le monde d’aller à Corynthe, ce n’est pas aussi le fait indifferemment de tous les Peintres, d’examiner et de raisonner sur les Tableaux de ce rare Maistre: et il luy auroit esté beaucoup plus auantageux que Vasari se fust contenté de parler de luy en simplenistorien, sans se mesler d’estre l’lnterprete de ses pensées aux Compositions de ses Ouurages: Car si celuy dont il fait icy la description à sa mode, et qu’il s’efforce de rendre admirable par ses exaggerations extrauagantes, n'estoit plus visible que Niij PERFECTION 102 dans ses escrits, que pourroit-on en iuger de raisonnable? Ces sottes loüanges font toûjours beaucoup plus de preiudice que d’honneur, et en de telles occasions il est assez apropos de dire que Pessimum inimicorum genus laudantes. Parce que les impertinens flateurs nuissent souuent dauantage que les veritables ennemis.\",\n",
       " \"Ie demanderois volontiers à ce nouuueau Philostrate, où il a trouué que les Theologiens ayent iamais eu dessein d’accorder la Philosophie, l'Astrologie, et la Geomance auec l’Euangile, pour accommoder cette vision fantastique à vne des plus raisonna.\",\n",
       " 'bles Compositions de Raphael, dont l’intelligence estoit d’elle-mesme si facile et si naturelle. Mais quand, par supposition, cela seroit vray, qu’auroit afaire Diogene parmi tous ces Doctes-là, luy qui ne faisant profession d’aucune Science, menoit vne vie de chien, aboyant sans cesse aprés tout le monde, sans se proposer aucun autre objet dans sa Morale, que de mespriser et fouler aux pieds l’honneur qu’on rendoit aux gens d’esprit; desorte que dans cette affectation brutale il aymoit mieux paroistre vn Belistre qu’vn Philosophe honneste-homme; et DE LA PEINTVRE.',\n",
       " '103 n’eust asseurément iamais pris parti d’aucun costé dans cette question, où il n’eust aussi rien entendu. Neantmoins au iugement de nostre Panegyriste, c’est icy vne figure qui luy paroist singulierement considerable entre les autres de cette fameuse Assemblée: Car d’abord il la remarque toute la premiere ,luy donnant ces beaux Eloges. Entre ceux- ,là, dit-il, est vn Diogene auec sa tasse, cou,ché sur les escaliers. Voyla vne place et Vne posture bien honnorable et bien decente à vn Consultant, et vn meuble auprés de luy bien conuenable au mestier qu’il luy fait fair e. Il eust d’eu plustost en vne telle occasion porter sa lanterne que sa tasse, vû que la besogne où Vasari les employe, luy et tous ses compagnons, est assez obscure pour auoir besoin qu’on leur esclaire. Mais pour inspirer plus fortement au Lecteur son Idée admiratiue sur la representation de ce Diogene, il adjouste cette belle et iudicieuse , reflexion en ces beaux termes, Figure, dit\"il, fort pleine de consideration et abstra,te, qui, par sa beauté et par son habit ainsi ,,agencé, est digne d’estre loüée. Veritablement ce Stile est si chimerique, qu’on pourroit croire que Vasari fait plustost le perPERFECTION 104 sonnage d’vn Pascariel et d’vn Harlequin que d’vn Historien; ou du moins il monstre qu’il estoit mauuais Physionomiste, et qu’il connoissoit encore plus mal l’esprit et l’humeur bourrüe de ce Cynique, lequel n’estoit nullement abstract, ny d’oüé d’aucune consi deration raisonnable, sa vilaine maniere d’agir l’ayant rendu trop disgracié, et toutafait incapable de ces qualitez. Aussi Raphael s’est-il bien gardé de luy donner la moindre Expression dans sa contenance, dans son habit, ny dans sa Physionomie, d’où l’on pûst tirer aucun iugement auantageux; au contraire voulant monstrer la rusticité de ce Philosophe sauuage, au beau milieu de l’Assemblée generale de tous les Illustres de l’Antiquité, il l’a mis tout seul, abandonné d’vn chaqu’vn, et couché comme vne beste sur les escaliers de ce Gymnase Academique auec vn mine renfrognée, et vn equipage reuenant à la sotte vie qu’il professoit.',\n",
       " 'Ie ne veux pas m’amuser icy dauantage à faire vne glose continüe iusqu’à la fin de cette longue et tres-importune rapsodie de Vasari, mon inclination estant naturelle- ment ennemye de toute sorte de critique: Neant- DE LA PEINTVRE.',\n",
       " '105 Neantmoins ie n’ay pû me taire de voir nostre pauure Raphael entre les mains d’vn si dangereux amy comme celui-là, qui en pensant le flater luy fait vn outrage insupportable, par la fole Commission qu’il s’est donnée d’interpreter ses Ouurages, et d’estre le truchement de ses intentions. Ce petit eschantillon en est vne preuue si demonstratiue, qu’il faudroit auoir l’œil de l’esprit tout-à fait poché pour n’en voir pas l’importance: car il n’y a rien de si beau ny de si parfait, qui ne puisse estre rendu tres-difforme par ces sottes gens, qui infectent de leur ineptie toutes les choses dont ils se meslent de discourit, parce qu’ils les prennent toûjours mal et à contresens.',\n",
       " \"Or ce que ie trouue extraordinairement ridicule en celui cy, c’est qu’il ne se contente pas de dechiffrer dans l’Ordonnance Historique de nostre Peintre, les figures quiy sont reellement visibles à tout le monde, mais qu’il en remarque encore d’autres que personne n’y a iamais veües que luy, et auxquelles Raphael n'a iamais pensé: Ce sont ces beaux Anges par lesquels il dit, que , les Astrologues enuoyent leurs Caracte, res de Geomance aux Euangelistes pour PERFECTION 106 les expliquer. Si ce Discoureur eust entendu ce que c’est que des Caracteres de Geomance, il n’eust pas donné la charge à des Anges de les aller proposer aux Euangelistes, et il eust bien sçeu que les Astrologues ne se meslent point de cette maudite espece de diuination sousterraine et diabolique.\",\n",
       " 'Mais ie me rengage encore insenfiblement dans la suite de ces resueries, qui sont vn vray labyrinte, d’oǹ il est extremement difficile de sortir, quand vne fois on s’y trouue embarassé. Laissons donc là ce chetifConteur de fables, et considerons plustost la chose dans le Dessein mesme de Raphael, que de nous en rapporter aux contes d’vn tel Discoureur: Car quoy que l’Estampe qu’on en void soit assez defectueuse en quelques parties de la delineation, elle nous representera neantmoins beaucoup plus auantageusement l’Idée de cette excellente Composition, que tout ce qui s’en peut dire en parolles; parce que les Productions de la Peinture veulent estre veües et considerées auec les yeux: Et si ces grands Maistres de l’Antiquité ( dont les Ouurages ne sont plus visibles que dans le recit des Historiens) DE LA PEINTVRE.',\n",
       " '107 eussent eu le mesme vsage que nous auons aujourdhuy de la Graueure et des Estampes, qui est vn tresor inestimable dans nostre siecle, et dont les Anciens n’ont point ioüy, à nostre tres-grand dommage, les Desseins precis des Tableaux que Philostrate nous preconise, eussent sans doute mieux parlé que luy, et son liure auroit esté infiniment plus considerable et plus vtile, s’il les y eust pú aussi commodément inserer en ce temps là, qu’on le fait en celuy-cy.',\n",
       " 'Seruons nous donc ihaneenaire de holtre auantage, et considerons nous mesmes de nos propres yeux cette noble et magnifique Composition sur son Estampe, que nous trouunerons certainement plus intelligible et plus raisonnable que le discours amphibologique de Vasari, duquel on peur dire auec vne application assez iuste Asinus portans mysteria. Car il nous fait ce Tableau si sottement emblematique par ses imaginations extrauagantes, qu’au lieu de donner de l’admiration aux Sçauants, si on le croyoit, il rendroit le Peintre et son Ouurage tresridicules. Ilne faut donc rien chercher dauãtage dans cette Peinture, que ce qui s’y void cxpressément; er tenir pour tout asseuré que O i PERFECTION 108 Raphael n’a point eu dessein de nous proposer d’Emblême en ce Sujet-là, qui n’est autre chose qu’vne naifue representation d’vn de ces fameux Gymnases de Grece, où les Philosophes et toute sorte d’Academiciens faisoient leur lieu d’Assemblée, pour s’entretenir de leurs Estudes, et se diuertir aux Exercices.',\n",
       " 'Vitruue d’escrit la forme de ces Edifices publics au cinquiesme Liure, Chapitre vnze, et les nomme Xistes, Palestres, Exedres, selon leur vsage particulier, qu’il explique.',\n",
       " 'Et Palladio dans son Traitté de l’Architecture, Liure troisiesme, Chapitre vingt et vn, en parle encore plus clairement, parce qu’il en fait la demonstration oculaire par vn Dessein ample et fort exact. Sibien qu’il n’est point besoin que ie m’arreste à en faire icy vn plus long discours.',\n",
       " 'Or comme le plus celebre de tous et le plus noble a esté celuy d’Athenes, il y a de l’apparence que Raphael se l’est proposé; et les Curieux d’Estampes appellent aussi communément cette Piece, l’Escole d’Athenes. Nous pouuons bien dire encore icy en passant, que Vasari ne regardoit la struture de cét Edifice, que comme vne PerDE LA PEINTVRE.',\n",
       " '109 spectiue faite à plaisir, sans autre intention que d’enrichir le fond du Tableau; quoy qu’en effet ce soit la principale partie de ,cette Histoire: Ill orna, dit-il, cét Ouurage ,d’vne Perspectiue. Mais c’est l’ordinaire de ceux, comme celui cy, qui voyent les choses qui ne sont point, de ne voir pas bien aussi celles qui sont, tant la Perspectiue de leur iugement est renuersée.',\n",
       " \"Presupposant donc qu’on ait vne intelligence raisonnable de la Forme et de l’Vsage de ces Gymnases, il suffit que nous en considerions icy le departement des Philosophes et des Studieux, n’ayant rien à voir dans ce Dessein de tout ce qui se passoit au reste des Exercices du corps, dont la pluspart se faisoient dans les departemens du dehors, acause du bruit et du tumulte que les Luiteurs, ceux qui manioient les Armes, qui s’exerçoient à lancer le Dard, à la Course, et à d’autres semblables applications violentes, faisoient par tout leur Quartier s ce qui eust sans doute interrompu et troublé les cõferences de ceux qui ne demandoient que le repos dans leur entretien. C’est vers ces derniers que nostre Peintre nous a attirez, pour nous donner la satisfaction d’y PERFECTION I10 voir les deux plus Illustres Chefs des Sciences qui ayent iamais paru dans le monde, le diuin Platon et le sçauant Aristote son grand nisciple, quoy que peu conforme aux sentimens et au genie de son Maistre, dont il deuint à la fin Riual par vne malignité ingrate et ialouse, qui le rendit extremément odieux à toute la Ville d’Athenes, d’où il fut contraint de s’absenter iusques aprés la mort de Platon. Ce que ie remarque expressément, afin qu’on obserue dans la Peinture, qu’il semble que Raphael ait voulu monstrer aux gens d’esprit, par la conrenance et par la physionomie qu’il a donnée à l’vn et à l’autre, la diuersité de leurs Genies: Car le premier et le plus considerable sans doute, puisqu’il merita le nom de Diuin parmi ces grands hommes, fait assez entendre par l'action du bras et de la main qu’il tient leuez vers le Ciel, qu’il entretenoit ses Auditeurs de speculations sublimes et transcendantes: mais l’autre qui estoit plus scolastique, fait le personnage d’vn Pedant seuere qui dogmatise: en effetaussi il est demeuré dans les Colleges auec les Pedants, et Platon a eu le partage des galants hommes.\",\n",
       " 'DE LA PEINTVRE.',\n",
       " '111 Veritablement Raphael a triomphé dans cette Expression, qu’il a sçeu accompagner encore d’vn air de physionomie fort conuenable à l’esprit de l’vn et de l’autre; Platon monstrant vne certaine douceur affable, et vne noblesse sur le visage, qui le rend extremement venerable; et Aristote au contraire paroist contencieux et tout renfrogné.',\n",
       " 'Aprés auoir donc placé, comme il falloit, au lieu le plus apparent de son Tableau, ces deux principaux Coriphées des Philosophes sçauants (car il y en a eu encore d’autres fort celebres seulement par leur Sagesse et par l’exemple d’vne belle vie morale, tel que fut Socrate) nostre Peintre s’eft donné moins de sujetion au reste de ses figures, dont la pluspart ne sont en effet que les Auditeurs de ces premiers: car quoy qu’il semble y en auoir là de diuerses Classes, c’est à dire des Geometres, des Astrologues.',\n",
       " \"des Cosmographes, neantmoins Platon estoit excellemment tout cela: sibien qu'on peut croire auec raison qu’ils sont aussi là comme ses Disciples. Ce n’est pas pourtant, à mon auis, qu’il y eust aucun inconuenient de les prendre pour des Ptolemées, des ArPERFECTION It2 chimedes, des Euclides; et de s’y imaginer encore quelques autres chefs de Sectes, puisqu’en effet nous y voyons bien Diogene, qui n’estoit pas vn grand Astrologue, ny vn grand Sophiste, et qui vrai-semblablement ne se trouuoit là que pour se mocquer; car la Peinture a ses Priuileges et ses Licences aussi-bien que la Poësie, et ne s’astreint pas si fort aux Loix de la verité, qu’elle n’introduise presque toûjours quelque fiction dans ses representations, qui ne sert que d’ornement à son Histoire: et c’est principalement en cette partie que le peintre fait mieux paroistre la gentillesse de son esprit; outre que les Sujets vagues et composez, comme ceIui cy, laissent toûjours vne grande liberté à l’Inuention; sibien qu’il suffit de se contenir dans les limites de la vrai-semblance, sans captiuer son Genie soûs la rigueur de la verité precise.\",\n",
       " 'Considerant donc nostre Tableau dans cette veüe là, on peut donner à chaque figure quelque application plus ingenieuse, que si on se contentoit en general de les passer toutes pour de simples Academiciens, Sectateurs de nos deux grands Gymnasiarques. Et il ya bien de l’apparence que Raphael DE LA PEINTVRE.',\n",
       " \"15 phael s'est proposé quelque chose de plus recherché dans cette ample et magnifique Composition: car pourquoy auroit-il mis vne couronne sur la teste de cét Astrologue ou Geographe qui tient vn Globe en sa main, s’il n’eust voulu faire voir par là que c’est Ptolemée, qu’il a honoré de cette marque, parce qu’on le nomme par excellence le Prince des Astrologues et des Geographes.\",\n",
       " \"Neantmoins comme il n’estoit ny contemporain ny compatriote de ces premiers, cela pourroit faire naistre quelque scrupule aux Critiques de les voir ensemble. Mais cette licence est ordinaire parmi les poëtes, et consequemment aussi permise aux peintres: tesmoin l’incomparable Virgile, qui a si bien ajusté la Reyne Didon auec sonÆnée, qu’il les fait coucher ensemble, quoy qu’il y eust vn grand interualle de temps entre l'vn et l’autre, et que Didon fust plus ieune au moins de trois siecles. On peut croire encore, et mesme plus probablement, eu esgard au pays et à la cronologie, que cette figure assise et placée vers le milieu du Tableau, et sur le deuant du Plan, laquelle paroist toute pensiue et comme malade, loustenant sa teste auec la main, et acou116 FERFECTION dée sur vn bout de table, est le Philosophe Epicure, qui escrit son restament dans vne lettre qu’il addressa à Idomenée son particulier amy, selon qu’il est rapporté par Dior genes Laertius, parce que ce fut la derniere et vne des plus admirables actions de toute la vie de ce grand homme, vûqu’estant dans des douleurs incroyables de la Pierre, dont il mourut aussi-tost aprés, il ne laissa pas de conseruer la quietude d’esprit iusques au bout, et de raisonner toûjours de la mesme sorte qu’il eust pû faire en pleine santé: Ce qui monstre bien que les sentimens et les preceptes de ce Philosophe n’estoient pas tels qu’on les croit, et que le plaisir qu’il appelloit le Souuerain Bien n’est pas cette volupté honteuse dont on le descrie.\",\n",
       " 'Il sera facile de faire d’autres semblables.',\n",
       " 'obseruations sur le reste des figures de cet- te Peinture, qui fourniront vne ample matiere aux studieux qui s’y voudront diuertir car dans cette Escole generale, et ouuerte à toute sorte de Vertueux, on traittoit non seulement des Sciences speculatiues, mais encore de l’Art militaire, de la Politique, de L’œconomie, de la Medecine, de laPoësie, de la Musique, de la Peinture, et des Me DE LA PEINTVRE.',\n",
       " \"I15 chaniques; comme il se void manifestenent par les liures, qu’Aristote en a composez: tellement que dans vne varieté si estendüe et si libre, il n’y a figure, pour estrangere qu’elle paroisse dans ce Gymnase, à qui on ne puisse trouuer quelque pretexte d’y estre venüe. Cela neantmoins n’e st pas sans bornes, au dela desquelles il y auroit de l’extrauagance de se licentier, comme a fait nostre Historien pictoresque Vasari, qui, sans discretion et sans esprit, et contre toute apparence d’aucune possibilité, a tellement confondu l’ordre des temps et des choses, dans l’application chymerique qu’il a donnée à cette Peinture, qu’il seroit capable d’estourdir et d’hebeter vn Lecteur credule qui se voudroit amuser à recueillir quelque fruit de ses resueries: Car par ie ne sçay quelle demangeaison de paroistre docte, il introduit là vn certain Roy Zoroastre, dont asseurément Raphael n’entendit iamais parler, et qui vint au monde prés de deux mille ans auant Platon, et dans vn païs extremement esloigné du sien, outre que ce vieil Roy Scythe ne fut celebre que par la Magie, dont Pline croit qu’il a esté l’Inuenteur: qui est ne estude de laquelle iamais personne ne PERFECTION I16 sist profession dans les cymnases. Mais voyez encore l’adresse et la perspicacité de nostre Italien Vasari à le reconnoistre parmi tant ,,d’autres; Il y a, dit-il, vne figure quitour-, ne le dos, c'est le portrait de Zoroastre.\",\n",
       " 'vn autre que Vasari eust esté sans doute bien empesché a remarquer ainsi le portrait d’vn homme qui tourne le dos.',\n",
       " 'Ie n’ose poursuiure dauantage l’examen de ce qu’il va continuant de dire ensuite, de peur de me rendre trop ennuyeux dans ma critique, et de m’ennuyer aussi moymesme à vne lecture si rapsodieuse. Ie feray mieux de couper icy le fil de cette Dissertation, que i’ay aussi-bien déja estendüe beaucoup au dela de ce que ie m’estois proposé au commencement, où ie ne faisois cstat que de donner lIdée generale de la Perfection de la Peinture, suiuant les MaXimes des anciens Maistres; et d’en faire comme vne espece de demonstration oculaire par l’exemple de quelques vns des plus reguliers Ouurages de Raphael, à dessein d’ouurir les yeux de l’esprit à plusieurs Peintres de nostre temps, qui ont déja de grandes dispositions à deuenir excellents dans leur Profession, n’ayant plus besoin pour DE LA PEINTVRE.',\n",
       " '17 cela que d’estre auertis des choses fondamentales de la perfection de l’Art, dont l’eXecution aprés leur sera facile, et sans lesquelles neantmoins ils n’iront iamais qu’en tastonnant comme des aueugles dans le chemin espineux de la Peinture.',\n",
       " \"Cette verité est tellement establie par les Principes que i’ay proposez au commencement de ce Discours, qu’elle ne sçauroit plus desormais estre remise icy en question par des esprits raisonnables. Il se pourra faire neantmoins que la preoccupation de ceux à qui la Fortune où les Cabales ont déja fait part de cette fausse reputation (dont auoiẽt aussi esté felicitez auant eux, les Saints Martins de Boulogne, les Maistres Rousses, les Tintorets, les Pauls Veroneses, les Parmesans, les Freminets, les Iosepins, et vn nombre d’autres tels Desseignateurs praticiens de la mesme espece) les rendra si lasches et si stupides, qu’ils aymeront mieux ioüir et demeurer dans la possession de ce faux bien, que de se donner en leur trauail la sujetion que demande necessairement l'estude et la contention d’esprit des Sçauants Maistres: car il est certain que les belles choses coustent à produire, et sont difPiJ PERFECTION 18 ficiles; et que les secondes pensées des gens d'esprit sont d’ordinaire plus iudicieuses que les premieres: d’où l’on doit aussi conclure que ceux-là d’entre les Peintres à qui toutes sortes de Sujets semblent si indifferents et si egaux à traitter et à historier qu’ils n’en trouuent point de plus difficile l’vn que l’autre, et qui aprés la premiere Idée qui leur est venüe pour vn Tableau ne cherchent rien dauantage, mais s’y arrestent de telle sorte, qu’ils n’y changent n’y adjoustent aucune chose; ces Peintres-là, disje, n’ont que des Genïes superficiels, dont les Q uurages ne donneront iamais guere de curiosité aux Intelligents, qui n’y trouuant rien de rare ny d’estudié, seront assez satisfaits de les auoir vûs vne fois comme en passant.\",\n",
       " 'Or ie n’appelle estudié que ce qui concerne les operations d’esprit, et les iudicieuses Obseruations sur la Pattie du Costûme, lequel est comme vn lien, ou vn Com.',\n",
       " \"posé de l’Inuention et de l’Expression, les deux plus nobles de nos cinq Principes, où consiste tout ce qu’il y a d’ingenieux et de sublime dans la Peinture; les trois autres, c'est à-dire, la Proportion, le Coloris, et la DE LA PEINTVRE.\",\n",
       " '119.',\n",
       " 'Delineation Perspectiue, regardant plustost le mechanique de l’Art, que le Spirituel, et n’estant, par maniere de dire, que les Instruments de la Science de la Peinture: sibien que ceux qui appliquent tout leur esprit à ces Parties là, trauaillent plustost en gens de mestier, qu’il n’estudient; Aussi- ne sont-il nommez par les Sçauants, que des Desseignateurs praticiens, et n’auroient iamais esté considerables parmi les Peintres.',\n",
       " 'anciens. Neantmoins parce qu’ils sont en bien plus grand nombre que les autres, l’A.',\n",
       " 'bus courant, et vne certaine ignorance presomptueuse qui regne aujourdhuy sur cét Art là leur a tellement abandonné la possession du nom de Peintres, et donné tant d’auantages de Fortune sur les vrais- Sçauants, que ces derniers ne ioüissent pour l’ordinaire que bien tard des fruicts de la gloire legitime qui leur est deüe, demeurant presque toûjours opprimez durant leur vie par la multitude, et par la cabale des Ignorants, chez qui la Peinture est mainte- nant vne Idole fort materielle; au lieu qu’autres-fois elle estoit considerée comme vne Déesse toute spirituelle.',\n",
       " \"Le pauure Dominiquin, le plus sçauant PERFECTION 120 de tous les Eleues des Caraces, et peutestre le seul digne du nom de Peintre, a esprouué fort longtemps cette disgrace; quoy que presque tous ses Competiteurs luy fusent extremement inferieurs, et tres-indignes de venir en concurrence auec luy: car si nous en exceptons le Guide, qui fut veritablement plus fauorisé que luy de la Nature pour le Talent de la Grace qui la rendu singulier dans tout son siecle, mais qui ne luy estoit aussi aucunement comparable dans celuy de l’Expression, et moins encore dans l’intelligence de la regularité Perspectiue; que pourra-on dire de l’aueuglement des Peintres de nostre temps qui luy prefererent des Iosepins, des Lanfrancs, et d’autres semblables manieristes, dont les Ouurages n’ayant que le faux esclat d’vne ie ne sçay qu’elle Nouueauté que ceux d’aujourdhuy appellent vne purie de Dessein, et vne Franchise de pinceau, que l’ignorance des veritables beautez et des Principes de l’Art leur fait admirer, n’ont eu aussi de reputation qu’autant qu’a duré cette faueur passagere de la Fortune; sibien qu’ils ne trouuent plus maintenant de place dans les cabinets des Curieux, qui s'en sont lasséz tout aussi-tost et detrompez.\",\n",
       " 'Cette DE LA PEINTVRE.',\n",
       " '121 Cette mesme extrauagance de iugement, secondée encore de la ialousie naturelle aux Italiens, qui ne veulent pas souffrir que la Peinture face part de ses bonnes graces à d’autres que de leur Nation, auoit commencé de rendre aussi vne pareille injustice à nostre Illustre François Nicolas Poussin, le plus digne fauori qu’elle ait trouué depuis ces fameux Anciens Apellés, Timanthe, protogenes et leurs semblables.',\n",
       " 'Or quoy qu’il soit difficile que ie puise rendre ce tesmoignage à la Verité sans estre suspect de flaterie, parlant d’vn homme viuant et né François; neantmoins comme ses Ouurages ont déja si hautement triomphé de tous sesialoux, et rendu l’Enuie confuse et muette contre luy, et que son merite a eu la force, quoy qu’en vn pays estranger, de se produire et de s’esleuer auec tant d’esclat par dessus tous ses Riuaux, qu’il s’est fait voir de quatre cent lieües à la Cour de France, dans le regne le plus fauorable aux Vertueux qu’on puisse esperer, vû que le Roy mesme, qui luy fist l’honneur de ietter les yeux sur luy, et de l’appeller à son seruice, estoit bon Desseignateur, et vniuersellement intelligent en tous les beaux Arts.',\n",
       " \"PERFE CTION 122 Ce fut vne conjoncture extraordinairement auantageuse à nostre Peintre, et vne Iustice que la Fortune luy voulut faire; car elle n’est pas toûjours aueugle ny ennemie du merite des galants hommes. Depuis ce temps là toute la reputation de ses Riuaux a plustost serui d’establissement à sa Gloire, qu'elle n’y a fait d’obstacles et on connoist aujourdhuy visiblement, par le parangon de leurs Ouurages aux siens, que ce Poussin est en effet vn grand Aygle dans sa Profession, ou pour en parler plus nettement et sans figure, c’est le Peintre le plus acheué, et le plus parfait de tous les Modernes. Cela n’est pas difficile à faire voir aux Sçauants, qui examinent et iugent des choses à la maniere des Geometres, c’est-adire à la rigueur, par la pure demonstration, et par l’Analyse de leurs Principes, sans dõner aucune entrée à l’Opinion, ou à la Faueur, qui sont les Pestes de la Verité. Mais les autres qui n’ont que des cõnoissances superficielles, et qui neantmoins presument beaucoup de leur Iuge- ment, prendront cecy pour vn Paradoxe, et se rendront par ce moyen incapables d’estre esclaircis de sa verité: C’est pourquoy ien laisse ladiscussion, et me contente d’auoir DE LA PEINTVRE.\",\n",
       " \"125 establi dans ce Discours les Maximes fondamentales et la methode qu’il faut tenir pour son examen, sans m’interesser dauantage dans ce demeslé. l’adjousteray seulement encore par forme d’auis, que ceux qui auront assez de curiosité pour en venir iusques à la preuue decisiue, ils la trouueront suffisamment demonstrée dans son Ouurage des septSacrements qu’on void à paris chez Monsieur de Chantelou Maistre d’Hostel ordinaire du Roy, amy intime de cét Illustre Poussin. C’est vne suite de sept Tableaux vniformes, de grandeur mediocre, mais d’vne estude extraordinaire, où ce noble Peintre semble auoir fait la derniere preuue, non seulement de la regularité de l'Art, selon toutes les Parties qui sont expliquées en ce Traitté, mais encore de sa plus haute excellence, par la Nouueauté de ses lnuentions, par la Noblesse de ses ldées sur chaque Sujet, par la sçauante et iudicieuse Obseruation du Costûme (enquoy il est presque vnique) par la Force de ses Expressions, et en vn mot, par toutes les mesmes Qualitez de ces grands Genïes de l’Antiquité, entre lesquels il auroit tenu, à mon auis, vn des premiers Rengs, puisque Qij PERFECTION 124 nous voyons communément dans ses Ouurages toutes le smesmes Parties d’excellence que Pline et les autres ont remarquées de leurs Apellés, Zeuxis, Timanthe, Protogenes, et du reste de cette premiere Classe de la Peinture. Car si Apellés leur a semblé si admirable d’auoir sçeu representer le bruit du Tonnerre, on peut voir aussi dahs ce Sujet mesme, dont ie parle, que nostre Poussin a peint la Voix, laquelle est d’autant plus difficile à exprimer, qu'elle est moins sensible en son effet. I’ay remarqué ce trait in genieux au premier Tableau des sept Sacrements, où Saint Iean conferant le Baptesme à nostre Seigneur, ceux d’alentour qui se trouuent aussi là presens pour le receuoir aprés leur Maistre, font connoistre visiblement par la surprise et l’estonnement où ils paroissent, regardant en haut et de tous costez, qu’ils entendent cette Voix celeste qui dist, Voicy mon Fils bien-aimé.\",\n",
       " 'Le mesme pline qui a proposé, comme vn miracle dans la Peinture, cette Expression du Tonnerre, y adjouste encore, que ce grand Maistre Apellés se plaisoit aussi à representer les Histoires des Agonisans. Or il se rencontre icy, par ie ne sçay qu’elle conDE LA PEINTVRE.',\n",
       " '125 currence fortuite, que le Sacrement de l’Extreme-Onction à presenté le mesme Sujet à nostre peintre, qui, voulant traitter ce saint Mystere soûs vne Idée noble et magnifique selon son Genïe, a choisi pour cét effet la personne d’vn Capitaine Romain dans l’Agonie, enuironné de tous ses plus proches; de sa Mere, de sa Femme, de ses Enfans, et d’vn grand nombre de Domestiques, tous diuersement afflgez, ou de regret, ou de compassion; entre lesquels, et dans le lieu le plus apparent, il a peint le Prestre qui assiste le pauure mourant, et luy admi- nistre les saintes Huiles auec vne deuotion pleine de pitié.',\n",
       " 'Ce seroit vn troplong discours que d’entreprendre icy la description de toutes les belles considerations, et des circonstances iudicieuses qui se voyent dans cette admirable Composition: l’auray plustost fait de dire en vn mot, qu’elle estvn vray Paralelle du fameux Chef-d’œuure de Timanthe sur le Sacrifice d’Iphigenie, dont i’ay déja cydeuant parlé, et que Pline et Quintilien nous depeignent comme le plus rare, le plus ingenieux et le plus parfait Tableau de l’Antiquité. Mais de sçauoir maintenant lequel Qi FERFECTION 126 des deux, ou leur Antique, ou nostre Moderne a exprimé son Sujet auec plus d’art, et d’vne maniere plus pathetique, c’est vne question à quoy ie ne touche point, me contentant seulement de dire qu’entre les Peintres Modernes nostre Poussin est comme vn autre Timanthe.',\n",
       " 'La mesme raison qui me retient de m’engager plus auant dans l’examen de cette excellente Composition m’oblige encore à laisser le reste du grand Ouurage dont elle ne fait qu’vne septiesme partie: outre que cette entreprise seroit desormais de trop longue haleine pour moy, qui ay déja bien passé les bornes que ie m’estois proposeés au commencement de ce Discours.',\n",
       " \"I'en diray donc seulement en general vne chose qui me semble rare, et en cela digne d’estreremarquée, auec laquelle ie veux conclure: C’est que chacun detous ces Tableaux est tellement excellent en son espece, qu’on n’en sçauroit particulariser vn seul entre les sept qui ait le moindre auantage sur aucun des autres de la part du Peintre: car quoy que l’Histoire des diuers Misteres qu’ils representent ne fust pas toûjours egalement abondante ny commode pour lExpresfion, DE LA PEINTVRE.\",\n",
       " '127 neantmoins ce puissant Genie a sibien sçeu proportionner chaque partie de son Sujet general au terme de l’egalité entre-elles, et leur donner vne Perfection si relatiue à leur Tout, qu’il en a fait vn Ouurage indiuisible, ne laissant par ce moyen point de lieu au chois d’en souhaitter l’vn plustost que l’autre. Car bien que chaque Tableau pris à part, et separé de cette Vnion, ou, pour ainsi dire, de cette Encyclopedie des Sacrements, soit communément consideré comme vne Histoire comple tte et independante du reste, neantmoins la principale Intention de nostre Peintre ayant esté d’en former vn Corps mystique, composé de ces sept membres sacrez (qui est la plus noble Idée qui pouuoit naistre dans la pensée d’vn Peintre Chrestien, et qui luy est si particuliere qu’il ne paroist point qu’elle soit venüe à aucun autre auant luy) il s’est estudié d’en faire vn Chef-d’œuure dans lequel il se monstrast telleme nt Maistre des Sujets qu’il traitte, que des plus steriles et des plus simples, on vist qu’il en sçauoit faire autant que des plus riches et magnifiques, la fecondité de son esprit n’ayant besoin d’aucune aide venant de la part de la Matiere; ce qui toutesPERFECTION 128 fois semble d’abord aussi incroyable à dire comme il paroist veritable et qu’il est visible dans cét Ouurage, par l’egalité qu’il a introduitte auec tant d’art en chaque Partie, que rien n’y domine: car cette vniformité de Perfection est vn effet de la derniere excellence où l’on puisse atteindre.',\n",
       " 'Ie pensois finir par cette demonstration, qui luy eust certainement esté glorieuse, en mettant vne de ces sept Compositions en paralelle d’vn pareil Sujet traitté, ou par Leonard de Vinci, ou par Raphael, car aprés ces deux grands Chefs des Peintres Modernes, il n’en faut plus chercher d’autre capable de cette noble contestation. Mais depuis, ayant bien consideré que ces manieres de comparaisons sont presque toûjours odieuses, i’ayme mieux en laisser faire le iugement à vn chacun, sans rien decider icy; me contentant seulement de dire que i’auois ietté les yeux pour cét effet sur le prin cipal Ouurage de Leonard de Vinci, c’est adire sur cette fameuse Cene de Nostre Seigneur qu’il fist à Milan, du temps du grand Roy François premier, laquelle eut vn tel succés pour lafortune du Peintre, qu’elle luy valut les bonnes graces de ce tres-illustre Monarque DE LA PEINTVRE.',\n",
       " '129 narque, qui luy fist l’honneur de l’appeller à sa Cour, et de le retenir toûjours depuis à son seruice. Or nous auons dans la Paroisse Royale de saint Germain à Paris, vne excellemment bonne Copie de cette Cene, que quelques vns croyent estre de la propre main de Leonard de Vinci.',\n",
       " 'La mesme Histoire a aussi esté traittée diuerses fois par Raphael, et tout cela se trouue en Estampe, qui est vn moyen assez commode pour en pouuoir faire le Parangon auec celle que nous auons dans l’Ouurage des sept Sacrements de nostre Poussin.',\n",
       " 'Mais pour venir à cette tres-delicate Critique auec la circonspection requise, suiuant toûjours la Boussole de nos Principes, il faudra se souuenir, auant toutes choses, de quelle importance nous y auons establi l’Obseruation du Costûme, dans lequel consiste le Principal Magistere de la Peinture, et qui en est, pour ainsi dire, l’esprit Raisonnable; comme le reste du mechanique, le Coloris, et la Delineation des figures, en fait simplement le Corps auec ses Organes.',\n",
       " 'Desorte que sans l’intelligence de cette premiere Partie, rien ne sçauroit estre bon aux yeux des Sçauants, qui sont toûjours R FERFECTION 130 .',\n",
       " 'plus choquez des fautes de iugement, et de l’obmission des Circonstances essentielles et necessaires à l’Histoire qu’on represente, que de ce qui pourroit estre deffectueux dans la Partie mechanique.',\n",
       " 'Voyla le nœud de nostre Question, qui ne sera pas si malaisé à desmesler lors qu’on sera pleinement instruit des Ceremonies de la Cene, et sur tout de la maniere dont on se mettoit à table en ces temps-là; qui est icy vne consideration fort importante, et sans laquelle il est impossible de conceuoir comme quoy saint Iean pouuoit reposer sa teste sur la poitrine de Nostre Seigneur: Car en la posture qu’on le void dans quelques Tableaux, il y a vne Indecence qui ne se peut iamais excuser.',\n",
       " \"Ensuite de cette grande et principale Obseruation (dont toute la gloire est veritablemẽt deüe à nostre Sçauant et tres iudicieux Poussin, puisqu’auant luy on ne trouue point qu’elle ait esté mise en œuure par aucun Peintre) Il faut qu’il paroisse encore visiblement, que, comme cette Action se passa de nuict, les figures ne soient esclairées que d'vnelumiere artificielle: car sans cela, qu’elle vray-semblance, ou qu’elle conformité; DE LA PEINTVRE.\",\n",
       " '151 auroit-il de la Cene à sa Representation. Or ces deux Points sont tellement essentiels et necessaires, qu’on ne s’en peut dispenser sans faire vne faute inexcusable contre le Costûme.',\n",
       " \"Aprés ces deux rigoureuses Obligations, on pourra passer à d’autres recherches moins importantes, mais qui neantmoins ne laissent pas d’auoir besoin d’estre accompagnées de certaines Circonstances remarquables, sans lesquelles il resteroit quelque chose à desirer: comme si au fort de l’emotion qui s’esleua parmi les Apostres, quand Nostre Seigneur les eut auertis que quelqu’vn d’entre eux deuoit le trahir cette nuict là; on voyoit saint Iean se reposant, et mesme endormi sur le costé de Nostre Seigneur, sans s’en mettre en peine auec les autres; ce seroit vn contre-temps tout-à-fait desauantageux à cette Expression. Et c’est à dessein que ie remarque cctte absurdité entre les autres, parce qu’elle est ordinaire au commun des Peintres, et que mesme elle a eschappé à Albert Durer dans vne de ses Estampes, quoy que ce grand Maistre ait eu peu d’egaux en sa Profession; à cela prés neantmoins qu’il n'estoit guere entendu au fait du Custûme.\",\n",
       " 'l.',\n",
       " 'PERFECTION 132 Ce seroit aussi vne mesprise assez notable, de placer saint Iean ailleurs qu’au costé de Nostre Seigneur, puisque autrement il n’auroit pû reposer sur sa poitrine, ce qui est expressément remarqué dans l’Euangile.',\n",
       " \"On continüera d’examiner de semblables choses, qui feront connoistre incontinent quel est l'Esprit et le lugement du Peintre: Aprés quoy, il sera iuste de prononcer en faueur du plus Ingenieux et du plus Correct sur le Costûme; à l’exemple de ces celebres Arbitres de l’Antiquité, dont nous auons fait mention, auxquels nous ne sommes pas moins obligez que ceux mesmes qu’ils ont immortalisez dans leurs escrits, puisque par la description qu’ils ont faite de leurs Tableaux, auec des raisonnements excellents sur le merite et sur la qualité des diuers Genĩes de ces fameux Peintres de la Grece, ils ont conserué l’Idée de la Perfection de l'Art, qui ne seroit plus conneüe aujourdhuy sans eux.\",\n",
       " 'C’est dans ces beaux Liures que nostre Illustre Moderne Nicolas Poussin s’est sibien instruit, et conformé aux plus celebres Anciens, par l’auantage extraordinaire qu’il a sú dauoir estudié aux Lettres humaines DE LA PEINTVRE.',\n",
       " '133 auant que de prendre le pinceau; ce qui est presentement aussi rare entre les Peintres, comme il est absolument necessaire à ceux qui aspirent à la Perfection de l’Art: Car puisque la Poësie et la Peinture ne sont qu’vne mesme Forme de Genïe, et qu’il est certain que, pour estre Poëte, il ne suffit pas de faire des Vers bien mesurez, auec des paroles agreables à l’oreille, si ce qu’on dit n’est encore quelque chose de sçauant et d’ingenieux: ll s’ensuit aussi que dans l’Escole de la Peinture, celuy qui n’applique son esprit qu’à desseigner aprés vn Modelle, et qui appuye toute son estude sur le Pinceau, ne sera iamais qu’vn Ouurier mechanique, trés-indigne de la Qualité de Peintre, comme cét autre ne passe que pour vn simple versificateur.',\n",
       " 'Sibien qu’au seruice de cette Noble et Glorieuse Princesse des Arts la Peinture, qui est toute Esprit, Il faut auoir des Talents et des Connoissances extraordinaires pour oser pretendre à l’honneur de ses bonnes graces; et ceux qui par la bassesse et la pesanteur de leur Nature ne se peuuent esleuer plus haut que la partie mechanique, ressemblent à ces mauuais Courtisans de Riu pERFECTION Penelope, lesquels n’ayant pas l’esprit de s’insinüer fauorablement dans son entretien par ticulier, ny assez d’addresse ou de merite pour se rendre considerables auprés d’Elle, demeuroient derriere les plus galants, et cstoient reduits à faire la Cour à ses Suiuantes.',\n",
       " \"Nεloεe aεεc acaae e i e é e ieiaiieίe i TABLE 1 i syAi DES ARTICLES DECETRAITTE' E l’Inuention, premiere Partie de la AMPeinture.\",\n",
       " 'De la Proportion, 2. partie.',\n",
       " 'page r1.',\n",
       " 'p. 11.',\n",
       " 'De la Couleur, ou application des Ombres et des Lumieres,;. partie.',\n",
       " 'p. 12 Des Mouuemens, ou Expression des passions, 4. partie.',\n",
       " 'p. 13.',\n",
       " 'De la Perspectiue, ou Position reguliere des Figures, 5. parrie.',\n",
       " 'Examen du Iugement de Pàris, desseigné par Raphael, et mis en Estampe.',\n",
       " 'p. 23.',\n",
       " 'Examen du Massacre des Innocens, desseigné par Raphael, et mis en Estampe. p 46.',\n",
       " 'Examen de la Descente de la Croix de Nostre Seigneur, peinte par Raphael, et mise en Estampe.',\n",
       " 'Explication du Costûme, Principe fondamental et vniuersel pour toutes les parties TABLE de la Peinture.',\n",
       " 'p. yu.',\n",
       " 'Examen du Iugement Vniuersel de la Fin du monde, peint par Michelange, et qui se void en Estampe.',\n",
       " 'p. 70.',\n",
       " 'Dans cét EXamen on trouuera quatre Considerations qu’il faut obseruer necessairement dans la Composition d’vne Histoire.',\n",
       " 'Suitte de l’Examen de la Descente de la Croix de Nostre Seigneur.',\n",
       " 'p. 78.',\n",
       " 'Ingenieuse Representation d’vn grand Cy clope dans vn petit lieu, peint par Timanthe, peintre Ancien.',\n",
       " 'p. 85.',\n",
       " 'Imitation du mesme Sujet peint par Iules Romain, peintre Moderne.',\n",
       " 'p. 86.',\n",
       " 'Examen du Gymnase, ou Academie des Philosophes d’Athenes, peint par Raphael, et qui se void en Estampe.',\n",
       " 'p. 92.',\n",
       " 'Sur ce Sujet ie rapporte vne tres-imper- tinente explication de cette Peinture de Raphael, que George Vasari en a donnée dans son Liure de la Vie des Peintres; et ie la cite dans les propres termes de l’Autheur, et fort amplement, afin que par cette longuerapsodie toute chymerique onconnoisse mieux combien il est important de sçauoir au vray l’Histoire qui se represente dans vn Tableau, pour en pouuoir faire vn iugement raisonnable.',\n",
       " 'FIN.',\n",
       " 'PRIVILEGE DV ROY OVIS PAR LA GRACE DE DIEV, LROYDEFRANCE ET DE NAVARRE.',\n",
       " \"A nos Amez et Feaux Conseillers, les Gens tenans nos Cours de Parlement, Maistre des Requestes ordinaires de nostre Hostel, Baillifs, Senechaux, Preuosts leurs Lieutenans, et tous autres nos Iustissiers et Officiers qu’il appartiendra, SALVT. Nostre amé et feal Conseiller, et Aumônier ordinaire, Roland Freart de Chantelou, Sieur de Chambray Nous a fait remonstrer qu’il desireroit faire imprimer vn Liure intitulé, Idée de la Perfection de la Peinture, s’il auoit sur ce nos Lettres necessaires qu’il nous a supplié humblement luy vouloir accorder. A CES CAVSES, desirant traiter fauorablement ledit Sieur de Chambray, Nous luy auons permis et octroyé de nostre Grace specialle, pleine Puissance et Auctorité Royalle, Permettons et Accordons de faire imprimer ledit Liure en tel volume et caractere qu’il voudra pour le mettre en vente et distribuer, et ce durant le temps de dix ans, à commancer du jour qu’il sera acheué d’imprimer: Auec deffences à tous Imprimeurs, Libraires tant de nos Subjets qu’estrangers, et toutes autres personnes de quelque qualité qu’elles soient d’imprimer: ny faire imprimer, vendre ou faire vendre, et distribuer ledit Liures durant ledit temps, soûs couleur d’autre marque, noms supposez, Titres, Epitômes, Extraict ou Abregé, Augmentation, Correction ou autre deguisement que se soit, sans le consentement dudit sieur de Chambray, ou de ceux qui auront charge ou pouuoir de luy, à peine de trois mil liures d’amande, moitié à ceux qui auront droit de luy, l'autre aux Pauures du grand Hospital, confiscation des Exemplaires, et de tous despens, dommages et interests. A la charge d’en mettre deux Exemplaires en nostre Biblioteque publique, et vn dans celle de nostre tres cher et feal le sieur Seguier Comte de Gien, Chancelier et Garde des Seaux de France, auant que de les exposer en vente. Et de raporter és mains de nostre amé et feal Conseiller et grand Audiancier de France en quartier, les recepicez de nos Bibliotequaires, et du sieur Cramoisy Commis par nostredit Chancelier de la deliurance actuelle desdits Exemplaires à peine de nullité du present Priuiz lege. Enjoignons au Scyndie des Marchands Libraires de saisir ou faire saisir tous les Exemplaires qui auront esté faits à faute d’auoir esté satisfaits aux clauses portées par ces presentes. SI vovs MANDONS ET oR- DONNONS, que vous fassiez, souffriez et laissiez joüir lesdits de Chambray, et ceux qui au ront droit et pouuoir de luy, plainement et paisiblement; A ce faire souffrir et obeir tous ceux qu’il appartiendra, nonobstant oppositions ou appellations quelconques: VOVLONS qu’en mettant à la fin ou au commancement dudit Liure l’Extrait de ces presentes, elles soient tenües pour duëment signiffiées; Et qu’au coppies d’icelles, collationnées par vn de nos amez et feaux Conseillers, Secretaires foy soit adjoustée comme au present Original, nonobstant clameur de Harro, Chartre-Normande, prise à partie, et autre chose à ce contraire. Car tel est nostre plaisir. DONNE' à Paris le 3o. Mars, l’An de grace 1662, et de nostre Reigne le dix-neufiesme.\",\n",
       " 'Par le Roy en son Conseil Le FRANC.',\n",
       " 'Les Exemplaires ont esté fournis.',\n",
       " 'Acheué d’imprimer pour la premiere fois le 1es tare dpri 16ér.']"
      ]
     },
     "execution_count": 20,
     "metadata": {},
     "output_type": "execute_result"
    }
   ],
   "source": [
    "sentences"
   ]
  },
  {
   "cell_type": "code",
   "execution_count": 26,
   "id": "96aa4423-e8b8-4bef-8159-a56737834077",
   "metadata": {},
   "outputs": [],
   "source": [
    "topic_model = BERTopic(language=\"french\", min_topic_size=20)\n",
    "\n",
    "topics, probs = topic_model.fit_transform(sentences)"
   ]
  },
  {
   "cell_type": "code",
   "execution_count": 27,
   "id": "64cadf03-7db9-4f58-94ac-c19bc3d7a900",
   "metadata": {},
   "outputs": [
    {
     "data": {
      "text/html": [
       "<div>\n",
       "<style scoped>\n",
       "    .dataframe tbody tr th:only-of-type {\n",
       "        vertical-align: middle;\n",
       "    }\n",
       "\n",
       "    .dataframe tbody tr th {\n",
       "        vertical-align: top;\n",
       "    }\n",
       "\n",
       "    .dataframe thead th {\n",
       "        text-align: right;\n",
       "    }\n",
       "</style>\n",
       "<table border=\"1\" class=\"dataframe\">\n",
       "  <thead>\n",
       "    <tr style=\"text-align: right;\">\n",
       "      <th></th>\n",
       "      <th>Topic</th>\n",
       "      <th>Count</th>\n",
       "      <th>Name</th>\n",
       "      <th>Representation</th>\n",
       "      <th>Representative_Docs</th>\n",
       "    </tr>\n",
       "  </thead>\n",
       "  <tbody>\n",
       "    <tr>\n",
       "      <th>0</th>\n",
       "      <td>0</td>\n",
       "      <td>316</td>\n",
       "      <td>0_de_et_la_que</td>\n",
       "      <td>[de, et, la, que, les, le, il, qu, qui, en]</td>\n",
       "      <td>[127 neantmoins ce puissant Genie a sibien sç...</td>\n",
       "    </tr>\n",
       "    <tr>\n",
       "      <th>1</th>\n",
       "      <td>1</td>\n",
       "      <td>76</td>\n",
       "      <td>1_la_de_peintvre_dv</td>\n",
       "      <td>[la, de, peintvre, dv, partie, axiome, estampe...</td>\n",
       "      <td>[DE LA PEINTVRE., DE LA PEINTVRE., DE LA PEINT...</td>\n",
       "    </tr>\n",
       "  </tbody>\n",
       "</table>\n",
       "</div>"
      ],
      "text/plain": [
       "   Topic  Count                 Name  \\\n",
       "0      0    316       0_de_et_la_que   \n",
       "1      1     76  1_la_de_peintvre_dv   \n",
       "\n",
       "                                      Representation  \\\n",
       "0        [de, et, la, que, les, le, il, qu, qui, en]   \n",
       "1  [la, de, peintvre, dv, partie, axiome, estampe...   \n",
       "\n",
       "                                 Representative_Docs  \n",
       "0  [127 neantmoins ce puissant Genie a sibien sç...  \n",
       "1  [DE LA PEINTVRE., DE LA PEINTVRE., DE LA PEINT...  "
      ]
     },
     "execution_count": 27,
     "metadata": {},
     "output_type": "execute_result"
    }
   ],
   "source": [
    "topic_model.get_topic_info()"
   ]
  },
  {
   "cell_type": "code",
   "execution_count": 28,
   "id": "5b46a711-59fe-4e2c-a9d9-7e65d3dfcc71",
   "metadata": {},
   "outputs": [
    {
     "ename": "ValueError",
     "evalue": "zero-size array to reduction operation maximum which has no identity",
     "output_type": "error",
     "traceback": [
      "\u001b[0;31m---------------------------------------------------------------------------\u001b[0m",
      "\u001b[0;31mValueError\u001b[0m                                Traceback (most recent call last)",
      "Cell \u001b[0;32mIn[28], line 1\u001b[0m\n\u001b[0;32m----> 1\u001b[0m \u001b[43mtopic_model\u001b[49m\u001b[38;5;241;43m.\u001b[39;49m\u001b[43mvisualize_topics\u001b[49m\u001b[43m(\u001b[49m\u001b[43m)\u001b[49m\n",
      "File \u001b[0;32m/media/maxime/DATA/Projet_Grand_Siecle/RAG_historical_document_HTR/.env/lib/python3.12/site-packages/bertopic/_bertopic.py:2429\u001b[0m, in \u001b[0;36mBERTopic.visualize_topics\u001b[0;34m(self, topics, top_n_topics, use_ctfidf, custom_labels, title, width, height)\u001b[0m\n\u001b[1;32m   2396\u001b[0m \u001b[38;5;250m\u001b[39m\u001b[38;5;124;03m\"\"\"Visualize topics, their sizes, and their corresponding words.\u001b[39;00m\n\u001b[1;32m   2397\u001b[0m \n\u001b[1;32m   2398\u001b[0m \u001b[38;5;124;03mThis visualization is highly inspired by LDAvis, a great visualization\u001b[39;00m\n\u001b[0;32m   (...)\u001b[0m\n\u001b[1;32m   2426\u001b[0m \u001b[38;5;124;03m```\u001b[39;00m\n\u001b[1;32m   2427\u001b[0m \u001b[38;5;124;03m\"\"\"\u001b[39;00m\n\u001b[1;32m   2428\u001b[0m check_is_fitted(\u001b[38;5;28mself\u001b[39m)\n\u001b[0;32m-> 2429\u001b[0m \u001b[38;5;28;01mreturn\u001b[39;00m \u001b[43mplotting\u001b[49m\u001b[38;5;241;43m.\u001b[39;49m\u001b[43mvisualize_topics\u001b[49m\u001b[43m(\u001b[49m\n\u001b[1;32m   2430\u001b[0m \u001b[43m    \u001b[49m\u001b[38;5;28;43mself\u001b[39;49m\u001b[43m,\u001b[49m\n\u001b[1;32m   2431\u001b[0m \u001b[43m    \u001b[49m\u001b[43mtopics\u001b[49m\u001b[38;5;241;43m=\u001b[39;49m\u001b[43mtopics\u001b[49m\u001b[43m,\u001b[49m\n\u001b[1;32m   2432\u001b[0m \u001b[43m    \u001b[49m\u001b[43mtop_n_topics\u001b[49m\u001b[38;5;241;43m=\u001b[39;49m\u001b[43mtop_n_topics\u001b[49m\u001b[43m,\u001b[49m\n\u001b[1;32m   2433\u001b[0m \u001b[43m    \u001b[49m\u001b[43muse_ctfidf\u001b[49m\u001b[38;5;241;43m=\u001b[39;49m\u001b[43muse_ctfidf\u001b[49m\u001b[43m,\u001b[49m\n\u001b[1;32m   2434\u001b[0m \u001b[43m    \u001b[49m\u001b[43mcustom_labels\u001b[49m\u001b[38;5;241;43m=\u001b[39;49m\u001b[43mcustom_labels\u001b[49m\u001b[43m,\u001b[49m\n\u001b[1;32m   2435\u001b[0m \u001b[43m    \u001b[49m\u001b[43mtitle\u001b[49m\u001b[38;5;241;43m=\u001b[39;49m\u001b[43mtitle\u001b[49m\u001b[43m,\u001b[49m\n\u001b[1;32m   2436\u001b[0m \u001b[43m    \u001b[49m\u001b[43mwidth\u001b[49m\u001b[38;5;241;43m=\u001b[39;49m\u001b[43mwidth\u001b[49m\u001b[43m,\u001b[49m\n\u001b[1;32m   2437\u001b[0m \u001b[43m    \u001b[49m\u001b[43mheight\u001b[49m\u001b[38;5;241;43m=\u001b[39;49m\u001b[43mheight\u001b[49m\u001b[43m,\u001b[49m\n\u001b[1;32m   2438\u001b[0m \u001b[43m\u001b[49m\u001b[43m)\u001b[49m\n",
      "File \u001b[0;32m/media/maxime/DATA/Projet_Grand_Siecle/RAG_historical_document_HTR/.env/lib/python3.12/site-packages/bertopic/plotting/_topics.py:92\u001b[0m, in \u001b[0;36mvisualize_topics\u001b[0;34m(topic_model, topics, top_n_topics, use_ctfidf, custom_labels, title, width, height)\u001b[0m\n\u001b[1;32m     90\u001b[0m     embeddings \u001b[38;5;241m=\u001b[39m UMAP(n_neighbors\u001b[38;5;241m=\u001b[39m\u001b[38;5;241m2\u001b[39m, n_components\u001b[38;5;241m=\u001b[39m\u001b[38;5;241m2\u001b[39m, metric\u001b[38;5;241m=\u001b[39m\u001b[38;5;124m\"\u001b[39m\u001b[38;5;124mhellinger\u001b[39m\u001b[38;5;124m\"\u001b[39m, random_state\u001b[38;5;241m=\u001b[39m\u001b[38;5;241m42\u001b[39m)\u001b[38;5;241m.\u001b[39mfit_transform(embeddings)\n\u001b[1;32m     91\u001b[0m \u001b[38;5;28;01melse\u001b[39;00m:\n\u001b[0;32m---> 92\u001b[0m     embeddings \u001b[38;5;241m=\u001b[39m \u001b[43mUMAP\u001b[49m\u001b[43m(\u001b[49m\u001b[43mn_neighbors\u001b[49m\u001b[38;5;241;43m=\u001b[39;49m\u001b[38;5;241;43m2\u001b[39;49m\u001b[43m,\u001b[49m\u001b[43m \u001b[49m\u001b[43mn_components\u001b[49m\u001b[38;5;241;43m=\u001b[39;49m\u001b[38;5;241;43m2\u001b[39;49m\u001b[43m,\u001b[49m\u001b[43m \u001b[49m\u001b[43mmetric\u001b[49m\u001b[38;5;241;43m=\u001b[39;49m\u001b[38;5;124;43m\"\u001b[39;49m\u001b[38;5;124;43mcosine\u001b[39;49m\u001b[38;5;124;43m\"\u001b[39;49m\u001b[43m,\u001b[49m\u001b[43m \u001b[49m\u001b[43mrandom_state\u001b[49m\u001b[38;5;241;43m=\u001b[39;49m\u001b[38;5;241;43m42\u001b[39;49m\u001b[43m)\u001b[49m\u001b[38;5;241;43m.\u001b[39;49m\u001b[43mfit_transform\u001b[49m\u001b[43m(\u001b[49m\u001b[43membeddings\u001b[49m\u001b[43m)\u001b[49m\n\u001b[1;32m     94\u001b[0m \u001b[38;5;66;03m# Visualize with plotly\u001b[39;00m\n\u001b[1;32m     95\u001b[0m df \u001b[38;5;241m=\u001b[39m pd\u001b[38;5;241m.\u001b[39mDataFrame(\n\u001b[1;32m     96\u001b[0m     {\n\u001b[1;32m     97\u001b[0m         \u001b[38;5;124m\"\u001b[39m\u001b[38;5;124mx\u001b[39m\u001b[38;5;124m\"\u001b[39m: embeddings[:, \u001b[38;5;241m0\u001b[39m],\n\u001b[0;32m   (...)\u001b[0m\n\u001b[1;32m    102\u001b[0m     }\n\u001b[1;32m    103\u001b[0m )\n",
      "File \u001b[0;32m/media/maxime/DATA/Projet_Grand_Siecle/RAG_historical_document_HTR/.env/lib/python3.12/site-packages/umap/umap_.py:2891\u001b[0m, in \u001b[0;36mUMAP.fit_transform\u001b[0;34m(self, X, y, force_all_finite)\u001b[0m\n\u001b[1;32m   2855\u001b[0m \u001b[38;5;28;01mdef\u001b[39;00m \u001b[38;5;21mfit_transform\u001b[39m(\u001b[38;5;28mself\u001b[39m, X, y\u001b[38;5;241m=\u001b[39m\u001b[38;5;28;01mNone\u001b[39;00m, force_all_finite\u001b[38;5;241m=\u001b[39m\u001b[38;5;28;01mTrue\u001b[39;00m):\n\u001b[1;32m   2856\u001b[0m \u001b[38;5;250m    \u001b[39m\u001b[38;5;124;03m\"\"\"Fit X into an embedded space and return that transformed\u001b[39;00m\n\u001b[1;32m   2857\u001b[0m \u001b[38;5;124;03m    output.\u001b[39;00m\n\u001b[1;32m   2858\u001b[0m \n\u001b[0;32m   (...)\u001b[0m\n\u001b[1;32m   2889\u001b[0m \u001b[38;5;124;03m        Local radii of data points in the embedding (log-transformed).\u001b[39;00m\n\u001b[1;32m   2890\u001b[0m \u001b[38;5;124;03m    \"\"\"\u001b[39;00m\n\u001b[0;32m-> 2891\u001b[0m     \u001b[38;5;28;43mself\u001b[39;49m\u001b[38;5;241;43m.\u001b[39;49m\u001b[43mfit\u001b[49m\u001b[43m(\u001b[49m\u001b[43mX\u001b[49m\u001b[43m,\u001b[49m\u001b[43m \u001b[49m\u001b[43my\u001b[49m\u001b[43m,\u001b[49m\u001b[43m \u001b[49m\u001b[43mforce_all_finite\u001b[49m\u001b[43m)\u001b[49m\n\u001b[1;32m   2892\u001b[0m     \u001b[38;5;28;01mif\u001b[39;00m \u001b[38;5;28mself\u001b[39m\u001b[38;5;241m.\u001b[39mtransform_mode \u001b[38;5;241m==\u001b[39m \u001b[38;5;124m\"\u001b[39m\u001b[38;5;124membedding\u001b[39m\u001b[38;5;124m\"\u001b[39m:\n\u001b[1;32m   2893\u001b[0m         \u001b[38;5;28;01mif\u001b[39;00m \u001b[38;5;28mself\u001b[39m\u001b[38;5;241m.\u001b[39moutput_dens:\n",
      "File \u001b[0;32m/media/maxime/DATA/Projet_Grand_Siecle/RAG_historical_document_HTR/.env/lib/python3.12/site-packages/umap/umap_.py:2784\u001b[0m, in \u001b[0;36mUMAP.fit\u001b[0;34m(self, X, y, force_all_finite)\u001b[0m\n\u001b[1;32m   2780\u001b[0m \u001b[38;5;28;01mif\u001b[39;00m \u001b[38;5;28mself\u001b[39m\u001b[38;5;241m.\u001b[39mtransform_mode \u001b[38;5;241m==\u001b[39m \u001b[38;5;124m\"\u001b[39m\u001b[38;5;124membedding\u001b[39m\u001b[38;5;124m\"\u001b[39m:\n\u001b[1;32m   2781\u001b[0m     epochs \u001b[38;5;241m=\u001b[39m (\n\u001b[1;32m   2782\u001b[0m         \u001b[38;5;28mself\u001b[39m\u001b[38;5;241m.\u001b[39mn_epochs_list \u001b[38;5;28;01mif\u001b[39;00m \u001b[38;5;28mself\u001b[39m\u001b[38;5;241m.\u001b[39mn_epochs_list \u001b[38;5;129;01mis\u001b[39;00m \u001b[38;5;129;01mnot\u001b[39;00m \u001b[38;5;28;01mNone\u001b[39;00m \u001b[38;5;28;01melse\u001b[39;00m \u001b[38;5;28mself\u001b[39m\u001b[38;5;241m.\u001b[39mn_epochs\n\u001b[1;32m   2783\u001b[0m     )\n\u001b[0;32m-> 2784\u001b[0m     \u001b[38;5;28mself\u001b[39m\u001b[38;5;241m.\u001b[39membedding_, aux_data \u001b[38;5;241m=\u001b[39m \u001b[38;5;28;43mself\u001b[39;49m\u001b[38;5;241;43m.\u001b[39;49m\u001b[43m_fit_embed_data\u001b[49m\u001b[43m(\u001b[49m\n\u001b[1;32m   2785\u001b[0m \u001b[43m        \u001b[49m\u001b[38;5;28;43mself\u001b[39;49m\u001b[38;5;241;43m.\u001b[39;49m\u001b[43m_raw_data\u001b[49m\u001b[43m[\u001b[49m\u001b[43mindex\u001b[49m\u001b[43m]\u001b[49m\u001b[43m,\u001b[49m\n\u001b[1;32m   2786\u001b[0m \u001b[43m        \u001b[49m\u001b[43mepochs\u001b[49m\u001b[43m,\u001b[49m\n\u001b[1;32m   2787\u001b[0m \u001b[43m        \u001b[49m\u001b[43minit\u001b[49m\u001b[43m,\u001b[49m\n\u001b[1;32m   2788\u001b[0m \u001b[43m        \u001b[49m\u001b[43mrandom_state\u001b[49m\u001b[43m,\u001b[49m\u001b[43m  \u001b[49m\u001b[38;5;66;43;03m# JH why raw data?\u001b[39;49;00m\n\u001b[1;32m   2789\u001b[0m \u001b[43m    \u001b[49m\u001b[43m)\u001b[49m\n\u001b[1;32m   2791\u001b[0m     \u001b[38;5;28;01mif\u001b[39;00m \u001b[38;5;28mself\u001b[39m\u001b[38;5;241m.\u001b[39mn_epochs_list \u001b[38;5;129;01mis\u001b[39;00m \u001b[38;5;129;01mnot\u001b[39;00m \u001b[38;5;28;01mNone\u001b[39;00m:\n\u001b[1;32m   2792\u001b[0m         \u001b[38;5;28;01mif\u001b[39;00m \u001b[38;5;124m\"\u001b[39m\u001b[38;5;124membedding_list\u001b[39m\u001b[38;5;124m\"\u001b[39m \u001b[38;5;129;01mnot\u001b[39;00m \u001b[38;5;129;01min\u001b[39;00m aux_data:\n",
      "File \u001b[0;32m/media/maxime/DATA/Projet_Grand_Siecle/RAG_historical_document_HTR/.env/lib/python3.12/site-packages/umap/umap_.py:2830\u001b[0m, in \u001b[0;36mUMAP._fit_embed_data\u001b[0;34m(self, X, n_epochs, init, random_state)\u001b[0m\n\u001b[1;32m   2826\u001b[0m \u001b[38;5;28;01mdef\u001b[39;00m \u001b[38;5;21m_fit_embed_data\u001b[39m(\u001b[38;5;28mself\u001b[39m, X, n_epochs, init, random_state):\n\u001b[1;32m   2827\u001b[0m \u001b[38;5;250m    \u001b[39m\u001b[38;5;124;03m\"\"\"A method wrapper for simplicial_set_embedding that can be\u001b[39;00m\n\u001b[1;32m   2828\u001b[0m \u001b[38;5;124;03m    replaced by subclasses.\u001b[39;00m\n\u001b[1;32m   2829\u001b[0m \u001b[38;5;124;03m    \"\"\"\u001b[39;00m\n\u001b[0;32m-> 2830\u001b[0m     \u001b[38;5;28;01mreturn\u001b[39;00m \u001b[43msimplicial_set_embedding\u001b[49m\u001b[43m(\u001b[49m\n\u001b[1;32m   2831\u001b[0m \u001b[43m        \u001b[49m\u001b[43mX\u001b[49m\u001b[43m,\u001b[49m\n\u001b[1;32m   2832\u001b[0m \u001b[43m        \u001b[49m\u001b[38;5;28;43mself\u001b[39;49m\u001b[38;5;241;43m.\u001b[39;49m\u001b[43mgraph_\u001b[49m\u001b[43m,\u001b[49m\n\u001b[1;32m   2833\u001b[0m \u001b[43m        \u001b[49m\u001b[38;5;28;43mself\u001b[39;49m\u001b[38;5;241;43m.\u001b[39;49m\u001b[43mn_components\u001b[49m\u001b[43m,\u001b[49m\n\u001b[1;32m   2834\u001b[0m \u001b[43m        \u001b[49m\u001b[38;5;28;43mself\u001b[39;49m\u001b[38;5;241;43m.\u001b[39;49m\u001b[43m_initial_alpha\u001b[49m\u001b[43m,\u001b[49m\n\u001b[1;32m   2835\u001b[0m \u001b[43m        \u001b[49m\u001b[38;5;28;43mself\u001b[39;49m\u001b[38;5;241;43m.\u001b[39;49m\u001b[43m_a\u001b[49m\u001b[43m,\u001b[49m\n\u001b[1;32m   2836\u001b[0m \u001b[43m        \u001b[49m\u001b[38;5;28;43mself\u001b[39;49m\u001b[38;5;241;43m.\u001b[39;49m\u001b[43m_b\u001b[49m\u001b[43m,\u001b[49m\n\u001b[1;32m   2837\u001b[0m \u001b[43m        \u001b[49m\u001b[38;5;28;43mself\u001b[39;49m\u001b[38;5;241;43m.\u001b[39;49m\u001b[43mrepulsion_strength\u001b[49m\u001b[43m,\u001b[49m\n\u001b[1;32m   2838\u001b[0m \u001b[43m        \u001b[49m\u001b[38;5;28;43mself\u001b[39;49m\u001b[38;5;241;43m.\u001b[39;49m\u001b[43mnegative_sample_rate\u001b[49m\u001b[43m,\u001b[49m\n\u001b[1;32m   2839\u001b[0m \u001b[43m        \u001b[49m\u001b[43mn_epochs\u001b[49m\u001b[43m,\u001b[49m\n\u001b[1;32m   2840\u001b[0m \u001b[43m        \u001b[49m\u001b[43minit\u001b[49m\u001b[43m,\u001b[49m\n\u001b[1;32m   2841\u001b[0m \u001b[43m        \u001b[49m\u001b[43mrandom_state\u001b[49m\u001b[43m,\u001b[49m\n\u001b[1;32m   2842\u001b[0m \u001b[43m        \u001b[49m\u001b[38;5;28;43mself\u001b[39;49m\u001b[38;5;241;43m.\u001b[39;49m\u001b[43m_input_distance_func\u001b[49m\u001b[43m,\u001b[49m\n\u001b[1;32m   2843\u001b[0m \u001b[43m        \u001b[49m\u001b[38;5;28;43mself\u001b[39;49m\u001b[38;5;241;43m.\u001b[39;49m\u001b[43m_metric_kwds\u001b[49m\u001b[43m,\u001b[49m\n\u001b[1;32m   2844\u001b[0m \u001b[43m        \u001b[49m\u001b[38;5;28;43mself\u001b[39;49m\u001b[38;5;241;43m.\u001b[39;49m\u001b[43mdensmap\u001b[49m\u001b[43m,\u001b[49m\n\u001b[1;32m   2845\u001b[0m \u001b[43m        \u001b[49m\u001b[38;5;28;43mself\u001b[39;49m\u001b[38;5;241;43m.\u001b[39;49m\u001b[43m_densmap_kwds\u001b[49m\u001b[43m,\u001b[49m\n\u001b[1;32m   2846\u001b[0m \u001b[43m        \u001b[49m\u001b[38;5;28;43mself\u001b[39;49m\u001b[38;5;241;43m.\u001b[39;49m\u001b[43moutput_dens\u001b[49m\u001b[43m,\u001b[49m\n\u001b[1;32m   2847\u001b[0m \u001b[43m        \u001b[49m\u001b[38;5;28;43mself\u001b[39;49m\u001b[38;5;241;43m.\u001b[39;49m\u001b[43m_output_distance_func\u001b[49m\u001b[43m,\u001b[49m\n\u001b[1;32m   2848\u001b[0m \u001b[43m        \u001b[49m\u001b[38;5;28;43mself\u001b[39;49m\u001b[38;5;241;43m.\u001b[39;49m\u001b[43m_output_metric_kwds\u001b[49m\u001b[43m,\u001b[49m\n\u001b[1;32m   2849\u001b[0m \u001b[43m        \u001b[49m\u001b[38;5;28;43mself\u001b[39;49m\u001b[38;5;241;43m.\u001b[39;49m\u001b[43moutput_metric\u001b[49m\u001b[43m \u001b[49m\u001b[38;5;129;43;01min\u001b[39;49;00m\u001b[43m \u001b[49m\u001b[43m(\u001b[49m\u001b[38;5;124;43m\"\u001b[39;49m\u001b[38;5;124;43meuclidean\u001b[39;49m\u001b[38;5;124;43m\"\u001b[39;49m\u001b[43m,\u001b[49m\u001b[43m \u001b[49m\u001b[38;5;124;43m\"\u001b[39;49m\u001b[38;5;124;43ml2\u001b[39;49m\u001b[38;5;124;43m\"\u001b[39;49m\u001b[43m)\u001b[49m\u001b[43m,\u001b[49m\n\u001b[1;32m   2850\u001b[0m \u001b[43m        \u001b[49m\u001b[38;5;28;43mself\u001b[39;49m\u001b[38;5;241;43m.\u001b[39;49m\u001b[43mrandom_state\u001b[49m\u001b[43m \u001b[49m\u001b[38;5;129;43;01mis\u001b[39;49;00m\u001b[43m \u001b[49m\u001b[38;5;28;43;01mNone\u001b[39;49;00m\u001b[43m,\u001b[49m\n\u001b[1;32m   2851\u001b[0m \u001b[43m        \u001b[49m\u001b[38;5;28;43mself\u001b[39;49m\u001b[38;5;241;43m.\u001b[39;49m\u001b[43mverbose\u001b[49m\u001b[43m,\u001b[49m\n\u001b[1;32m   2852\u001b[0m \u001b[43m        \u001b[49m\u001b[43mtqdm_kwds\u001b[49m\u001b[38;5;241;43m=\u001b[39;49m\u001b[38;5;28;43mself\u001b[39;49m\u001b[38;5;241;43m.\u001b[39;49m\u001b[43mtqdm_kwds\u001b[49m\u001b[43m,\u001b[49m\n\u001b[1;32m   2853\u001b[0m \u001b[43m    \u001b[49m\u001b[43m)\u001b[49m\n",
      "File \u001b[0;32m/media/maxime/DATA/Projet_Grand_Siecle/RAG_historical_document_HTR/.env/lib/python3.12/site-packages/umap/umap_.py:1087\u001b[0m, in \u001b[0;36msimplicial_set_embedding\u001b[0;34m(data, graph, n_components, initial_alpha, a, b, gamma, negative_sample_rate, n_epochs, init, random_state, metric, metric_kwds, densmap, densmap_kwds, output_dens, output_metric, output_metric_kwds, euclidean_output, parallel, verbose, tqdm_kwds)\u001b[0m\n\u001b[1;32m   1084\u001b[0m n_epochs_max \u001b[38;5;241m=\u001b[39m \u001b[38;5;28mmax\u001b[39m(n_epochs) \u001b[38;5;28;01mif\u001b[39;00m \u001b[38;5;28misinstance\u001b[39m(n_epochs, \u001b[38;5;28mlist\u001b[39m) \u001b[38;5;28;01melse\u001b[39;00m n_epochs\n\u001b[1;32m   1086\u001b[0m \u001b[38;5;28;01mif\u001b[39;00m n_epochs_max \u001b[38;5;241m>\u001b[39m \u001b[38;5;241m10\u001b[39m:\n\u001b[0;32m-> 1087\u001b[0m     graph\u001b[38;5;241m.\u001b[39mdata[graph\u001b[38;5;241m.\u001b[39mdata \u001b[38;5;241m<\u001b[39m (\u001b[43mgraph\u001b[49m\u001b[38;5;241;43m.\u001b[39;49m\u001b[43mdata\u001b[49m\u001b[38;5;241;43m.\u001b[39;49m\u001b[43mmax\u001b[49m\u001b[43m(\u001b[49m\u001b[43m)\u001b[49m \u001b[38;5;241m/\u001b[39m \u001b[38;5;28mfloat\u001b[39m(n_epochs_max))] \u001b[38;5;241m=\u001b[39m \u001b[38;5;241m0.0\u001b[39m\n\u001b[1;32m   1088\u001b[0m \u001b[38;5;28;01melse\u001b[39;00m:\n\u001b[1;32m   1089\u001b[0m     graph\u001b[38;5;241m.\u001b[39mdata[graph\u001b[38;5;241m.\u001b[39mdata \u001b[38;5;241m<\u001b[39m (graph\u001b[38;5;241m.\u001b[39mdata\u001b[38;5;241m.\u001b[39mmax() \u001b[38;5;241m/\u001b[39m \u001b[38;5;28mfloat\u001b[39m(default_epochs))] \u001b[38;5;241m=\u001b[39m \u001b[38;5;241m0.0\u001b[39m\n",
      "File \u001b[0;32m/media/maxime/DATA/Projet_Grand_Siecle/RAG_historical_document_HTR/.env/lib/python3.12/site-packages/numpy/_core/_methods.py:44\u001b[0m, in \u001b[0;36m_amax\u001b[0;34m(a, axis, out, keepdims, initial, where)\u001b[0m\n\u001b[1;32m     42\u001b[0m \u001b[38;5;28;01mdef\u001b[39;00m \u001b[38;5;21m_amax\u001b[39m(a, axis\u001b[38;5;241m=\u001b[39m\u001b[38;5;28;01mNone\u001b[39;00m, out\u001b[38;5;241m=\u001b[39m\u001b[38;5;28;01mNone\u001b[39;00m, keepdims\u001b[38;5;241m=\u001b[39m\u001b[38;5;28;01mFalse\u001b[39;00m,\n\u001b[1;32m     43\u001b[0m           initial\u001b[38;5;241m=\u001b[39m_NoValue, where\u001b[38;5;241m=\u001b[39m\u001b[38;5;28;01mTrue\u001b[39;00m):\n\u001b[0;32m---> 44\u001b[0m     \u001b[38;5;28;01mreturn\u001b[39;00m \u001b[43mumr_maximum\u001b[49m\u001b[43m(\u001b[49m\u001b[43ma\u001b[49m\u001b[43m,\u001b[49m\u001b[43m \u001b[49m\u001b[43maxis\u001b[49m\u001b[43m,\u001b[49m\u001b[43m \u001b[49m\u001b[38;5;28;43;01mNone\u001b[39;49;00m\u001b[43m,\u001b[49m\u001b[43m \u001b[49m\u001b[43mout\u001b[49m\u001b[43m,\u001b[49m\u001b[43m \u001b[49m\u001b[43mkeepdims\u001b[49m\u001b[43m,\u001b[49m\u001b[43m \u001b[49m\u001b[43minitial\u001b[49m\u001b[43m,\u001b[49m\u001b[43m \u001b[49m\u001b[43mwhere\u001b[49m\u001b[43m)\u001b[49m\n",
      "\u001b[0;31mValueError\u001b[0m: zero-size array to reduction operation maximum which has no identity"
     ]
    }
   ],
   "source": [
    "topic_model.visualize_topics()"
   ]
  },
  {
   "cell_type": "code",
   "execution_count": 24,
   "id": "cad831e4-76bd-4c6a-a030-6fa140d5990b",
   "metadata": {},
   "outputs": [
    {
     "data": {
      "application/vnd.plotly.v1+json": {
       "config": {
        "plotlyServerURL": "https://plot.ly"
       },
       "data": [
        {
         "coloraxis": "coloraxis",
         "hovertemplate": "x: %{x}<br>y: %{y}<br>Similarity Score: %{z}<extra></extra>",
         "name": "0",
         "type": "heatmap",
         "x": [
          "0_de_et_la",
          "1_axiome_estampe_av",
          "2_peintvre_la_de"
         ],
         "xaxis": "x",
         "y": [
          "0_de_et_la",
          "1_axiome_estampe_av",
          "2_peintvre_la_de"
         ],
         "yaxis": "y",
         "z": [
          [
           1.000000238418579,
           0.517206609249115,
           0.6018033623695374
          ],
          [
           0.517206609249115,
           0.9999997019767761,
           0.6660059690475464
          ],
          [
           0.6018033623695374,
           0.6660059690475464,
           1
          ]
         ]
        }
       ],
       "layout": {
        "coloraxis": {
         "colorbar": {
          "title": {
           "text": "Similarity Score"
          }
         },
         "colorscale": [
          [
           0,
           "rgb(247,252,240)"
          ],
          [
           0.125,
           "rgb(224,243,219)"
          ],
          [
           0.25,
           "rgb(204,235,197)"
          ],
          [
           0.375,
           "rgb(168,221,181)"
          ],
          [
           0.5,
           "rgb(123,204,196)"
          ],
          [
           0.625,
           "rgb(78,179,211)"
          ],
          [
           0.75,
           "rgb(43,140,190)"
          ],
          [
           0.875,
           "rgb(8,104,172)"
          ],
          [
           1,
           "rgb(8,64,129)"
          ]
         ]
        },
        "height": 800,
        "hoverlabel": {
         "bgcolor": "white",
         "font": {
          "family": "Rockwell",
          "size": 16
         }
        },
        "legend": {
         "title": {
          "text": "Trend"
         }
        },
        "margin": {
         "t": 60
        },
        "showlegend": true,
        "template": {
         "data": {
          "bar": [
           {
            "error_x": {
             "color": "#2a3f5f"
            },
            "error_y": {
             "color": "#2a3f5f"
            },
            "marker": {
             "line": {
              "color": "#E5ECF6",
              "width": 0.5
             },
             "pattern": {
              "fillmode": "overlay",
              "size": 10,
              "solidity": 0.2
             }
            },
            "type": "bar"
           }
          ],
          "barpolar": [
           {
            "marker": {
             "line": {
              "color": "#E5ECF6",
              "width": 0.5
             },
             "pattern": {
              "fillmode": "overlay",
              "size": 10,
              "solidity": 0.2
             }
            },
            "type": "barpolar"
           }
          ],
          "carpet": [
           {
            "aaxis": {
             "endlinecolor": "#2a3f5f",
             "gridcolor": "white",
             "linecolor": "white",
             "minorgridcolor": "white",
             "startlinecolor": "#2a3f5f"
            },
            "baxis": {
             "endlinecolor": "#2a3f5f",
             "gridcolor": "white",
             "linecolor": "white",
             "minorgridcolor": "white",
             "startlinecolor": "#2a3f5f"
            },
            "type": "carpet"
           }
          ],
          "choropleth": [
           {
            "colorbar": {
             "outlinewidth": 0,
             "ticks": ""
            },
            "type": "choropleth"
           }
          ],
          "contour": [
           {
            "colorbar": {
             "outlinewidth": 0,
             "ticks": ""
            },
            "colorscale": [
             [
              0,
              "#0d0887"
             ],
             [
              0.1111111111111111,
              "#46039f"
             ],
             [
              0.2222222222222222,
              "#7201a8"
             ],
             [
              0.3333333333333333,
              "#9c179e"
             ],
             [
              0.4444444444444444,
              "#bd3786"
             ],
             [
              0.5555555555555556,
              "#d8576b"
             ],
             [
              0.6666666666666666,
              "#ed7953"
             ],
             [
              0.7777777777777778,
              "#fb9f3a"
             ],
             [
              0.8888888888888888,
              "#fdca26"
             ],
             [
              1,
              "#f0f921"
             ]
            ],
            "type": "contour"
           }
          ],
          "contourcarpet": [
           {
            "colorbar": {
             "outlinewidth": 0,
             "ticks": ""
            },
            "type": "contourcarpet"
           }
          ],
          "heatmap": [
           {
            "colorbar": {
             "outlinewidth": 0,
             "ticks": ""
            },
            "colorscale": [
             [
              0,
              "#0d0887"
             ],
             [
              0.1111111111111111,
              "#46039f"
             ],
             [
              0.2222222222222222,
              "#7201a8"
             ],
             [
              0.3333333333333333,
              "#9c179e"
             ],
             [
              0.4444444444444444,
              "#bd3786"
             ],
             [
              0.5555555555555556,
              "#d8576b"
             ],
             [
              0.6666666666666666,
              "#ed7953"
             ],
             [
              0.7777777777777778,
              "#fb9f3a"
             ],
             [
              0.8888888888888888,
              "#fdca26"
             ],
             [
              1,
              "#f0f921"
             ]
            ],
            "type": "heatmap"
           }
          ],
          "heatmapgl": [
           {
            "colorbar": {
             "outlinewidth": 0,
             "ticks": ""
            },
            "colorscale": [
             [
              0,
              "#0d0887"
             ],
             [
              0.1111111111111111,
              "#46039f"
             ],
             [
              0.2222222222222222,
              "#7201a8"
             ],
             [
              0.3333333333333333,
              "#9c179e"
             ],
             [
              0.4444444444444444,
              "#bd3786"
             ],
             [
              0.5555555555555556,
              "#d8576b"
             ],
             [
              0.6666666666666666,
              "#ed7953"
             ],
             [
              0.7777777777777778,
              "#fb9f3a"
             ],
             [
              0.8888888888888888,
              "#fdca26"
             ],
             [
              1,
              "#f0f921"
             ]
            ],
            "type": "heatmapgl"
           }
          ],
          "histogram": [
           {
            "marker": {
             "pattern": {
              "fillmode": "overlay",
              "size": 10,
              "solidity": 0.2
             }
            },
            "type": "histogram"
           }
          ],
          "histogram2d": [
           {
            "colorbar": {
             "outlinewidth": 0,
             "ticks": ""
            },
            "colorscale": [
             [
              0,
              "#0d0887"
             ],
             [
              0.1111111111111111,
              "#46039f"
             ],
             [
              0.2222222222222222,
              "#7201a8"
             ],
             [
              0.3333333333333333,
              "#9c179e"
             ],
             [
              0.4444444444444444,
              "#bd3786"
             ],
             [
              0.5555555555555556,
              "#d8576b"
             ],
             [
              0.6666666666666666,
              "#ed7953"
             ],
             [
              0.7777777777777778,
              "#fb9f3a"
             ],
             [
              0.8888888888888888,
              "#fdca26"
             ],
             [
              1,
              "#f0f921"
             ]
            ],
            "type": "histogram2d"
           }
          ],
          "histogram2dcontour": [
           {
            "colorbar": {
             "outlinewidth": 0,
             "ticks": ""
            },
            "colorscale": [
             [
              0,
              "#0d0887"
             ],
             [
              0.1111111111111111,
              "#46039f"
             ],
             [
              0.2222222222222222,
              "#7201a8"
             ],
             [
              0.3333333333333333,
              "#9c179e"
             ],
             [
              0.4444444444444444,
              "#bd3786"
             ],
             [
              0.5555555555555556,
              "#d8576b"
             ],
             [
              0.6666666666666666,
              "#ed7953"
             ],
             [
              0.7777777777777778,
              "#fb9f3a"
             ],
             [
              0.8888888888888888,
              "#fdca26"
             ],
             [
              1,
              "#f0f921"
             ]
            ],
            "type": "histogram2dcontour"
           }
          ],
          "mesh3d": [
           {
            "colorbar": {
             "outlinewidth": 0,
             "ticks": ""
            },
            "type": "mesh3d"
           }
          ],
          "parcoords": [
           {
            "line": {
             "colorbar": {
              "outlinewidth": 0,
              "ticks": ""
             }
            },
            "type": "parcoords"
           }
          ],
          "pie": [
           {
            "automargin": true,
            "type": "pie"
           }
          ],
          "scatter": [
           {
            "fillpattern": {
             "fillmode": "overlay",
             "size": 10,
             "solidity": 0.2
            },
            "type": "scatter"
           }
          ],
          "scatter3d": [
           {
            "line": {
             "colorbar": {
              "outlinewidth": 0,
              "ticks": ""
             }
            },
            "marker": {
             "colorbar": {
              "outlinewidth": 0,
              "ticks": ""
             }
            },
            "type": "scatter3d"
           }
          ],
          "scattercarpet": [
           {
            "marker": {
             "colorbar": {
              "outlinewidth": 0,
              "ticks": ""
             }
            },
            "type": "scattercarpet"
           }
          ],
          "scattergeo": [
           {
            "marker": {
             "colorbar": {
              "outlinewidth": 0,
              "ticks": ""
             }
            },
            "type": "scattergeo"
           }
          ],
          "scattergl": [
           {
            "marker": {
             "colorbar": {
              "outlinewidth": 0,
              "ticks": ""
             }
            },
            "type": "scattergl"
           }
          ],
          "scattermapbox": [
           {
            "marker": {
             "colorbar": {
              "outlinewidth": 0,
              "ticks": ""
             }
            },
            "type": "scattermapbox"
           }
          ],
          "scatterpolar": [
           {
            "marker": {
             "colorbar": {
              "outlinewidth": 0,
              "ticks": ""
             }
            },
            "type": "scatterpolar"
           }
          ],
          "scatterpolargl": [
           {
            "marker": {
             "colorbar": {
              "outlinewidth": 0,
              "ticks": ""
             }
            },
            "type": "scatterpolargl"
           }
          ],
          "scatterternary": [
           {
            "marker": {
             "colorbar": {
              "outlinewidth": 0,
              "ticks": ""
             }
            },
            "type": "scatterternary"
           }
          ],
          "surface": [
           {
            "colorbar": {
             "outlinewidth": 0,
             "ticks": ""
            },
            "colorscale": [
             [
              0,
              "#0d0887"
             ],
             [
              0.1111111111111111,
              "#46039f"
             ],
             [
              0.2222222222222222,
              "#7201a8"
             ],
             [
              0.3333333333333333,
              "#9c179e"
             ],
             [
              0.4444444444444444,
              "#bd3786"
             ],
             [
              0.5555555555555556,
              "#d8576b"
             ],
             [
              0.6666666666666666,
              "#ed7953"
             ],
             [
              0.7777777777777778,
              "#fb9f3a"
             ],
             [
              0.8888888888888888,
              "#fdca26"
             ],
             [
              1,
              "#f0f921"
             ]
            ],
            "type": "surface"
           }
          ],
          "table": [
           {
            "cells": {
             "fill": {
              "color": "#EBF0F8"
             },
             "line": {
              "color": "white"
             }
            },
            "header": {
             "fill": {
              "color": "#C8D4E3"
             },
             "line": {
              "color": "white"
             }
            },
            "type": "table"
           }
          ]
         },
         "layout": {
          "annotationdefaults": {
           "arrowcolor": "#2a3f5f",
           "arrowhead": 0,
           "arrowwidth": 1
          },
          "autotypenumbers": "strict",
          "coloraxis": {
           "colorbar": {
            "outlinewidth": 0,
            "ticks": ""
           }
          },
          "colorscale": {
           "diverging": [
            [
             0,
             "#8e0152"
            ],
            [
             0.1,
             "#c51b7d"
            ],
            [
             0.2,
             "#de77ae"
            ],
            [
             0.3,
             "#f1b6da"
            ],
            [
             0.4,
             "#fde0ef"
            ],
            [
             0.5,
             "#f7f7f7"
            ],
            [
             0.6,
             "#e6f5d0"
            ],
            [
             0.7,
             "#b8e186"
            ],
            [
             0.8,
             "#7fbc41"
            ],
            [
             0.9,
             "#4d9221"
            ],
            [
             1,
             "#276419"
            ]
           ],
           "sequential": [
            [
             0,
             "#0d0887"
            ],
            [
             0.1111111111111111,
             "#46039f"
            ],
            [
             0.2222222222222222,
             "#7201a8"
            ],
            [
             0.3333333333333333,
             "#9c179e"
            ],
            [
             0.4444444444444444,
             "#bd3786"
            ],
            [
             0.5555555555555556,
             "#d8576b"
            ],
            [
             0.6666666666666666,
             "#ed7953"
            ],
            [
             0.7777777777777778,
             "#fb9f3a"
            ],
            [
             0.8888888888888888,
             "#fdca26"
            ],
            [
             1,
             "#f0f921"
            ]
           ],
           "sequentialminus": [
            [
             0,
             "#0d0887"
            ],
            [
             0.1111111111111111,
             "#46039f"
            ],
            [
             0.2222222222222222,
             "#7201a8"
            ],
            [
             0.3333333333333333,
             "#9c179e"
            ],
            [
             0.4444444444444444,
             "#bd3786"
            ],
            [
             0.5555555555555556,
             "#d8576b"
            ],
            [
             0.6666666666666666,
             "#ed7953"
            ],
            [
             0.7777777777777778,
             "#fb9f3a"
            ],
            [
             0.8888888888888888,
             "#fdca26"
            ],
            [
             1,
             "#f0f921"
            ]
           ]
          },
          "colorway": [
           "#636efa",
           "#EF553B",
           "#00cc96",
           "#ab63fa",
           "#FFA15A",
           "#19d3f3",
           "#FF6692",
           "#B6E880",
           "#FF97FF",
           "#FECB52"
          ],
          "font": {
           "color": "#2a3f5f"
          },
          "geo": {
           "bgcolor": "white",
           "lakecolor": "white",
           "landcolor": "#E5ECF6",
           "showlakes": true,
           "showland": true,
           "subunitcolor": "white"
          },
          "hoverlabel": {
           "align": "left"
          },
          "hovermode": "closest",
          "mapbox": {
           "style": "light"
          },
          "paper_bgcolor": "white",
          "plot_bgcolor": "#E5ECF6",
          "polar": {
           "angularaxis": {
            "gridcolor": "white",
            "linecolor": "white",
            "ticks": ""
           },
           "bgcolor": "#E5ECF6",
           "radialaxis": {
            "gridcolor": "white",
            "linecolor": "white",
            "ticks": ""
           }
          },
          "scene": {
           "xaxis": {
            "backgroundcolor": "#E5ECF6",
            "gridcolor": "white",
            "gridwidth": 2,
            "linecolor": "white",
            "showbackground": true,
            "ticks": "",
            "zerolinecolor": "white"
           },
           "yaxis": {
            "backgroundcolor": "#E5ECF6",
            "gridcolor": "white",
            "gridwidth": 2,
            "linecolor": "white",
            "showbackground": true,
            "ticks": "",
            "zerolinecolor": "white"
           },
           "zaxis": {
            "backgroundcolor": "#E5ECF6",
            "gridcolor": "white",
            "gridwidth": 2,
            "linecolor": "white",
            "showbackground": true,
            "ticks": "",
            "zerolinecolor": "white"
           }
          },
          "shapedefaults": {
           "line": {
            "color": "#2a3f5f"
           }
          },
          "ternary": {
           "aaxis": {
            "gridcolor": "white",
            "linecolor": "white",
            "ticks": ""
           },
           "baxis": {
            "gridcolor": "white",
            "linecolor": "white",
            "ticks": ""
           },
           "bgcolor": "#E5ECF6",
           "caxis": {
            "gridcolor": "white",
            "linecolor": "white",
            "ticks": ""
           }
          },
          "title": {
           "x": 0.05
          },
          "xaxis": {
           "automargin": true,
           "gridcolor": "white",
           "linecolor": "white",
           "ticks": "",
           "title": {
            "standoff": 15
           },
           "zerolinecolor": "white",
           "zerolinewidth": 2
          },
          "yaxis": {
           "automargin": true,
           "gridcolor": "white",
           "linecolor": "white",
           "ticks": "",
           "title": {
            "standoff": 15
           },
           "zerolinecolor": "white",
           "zerolinewidth": 2
          }
         }
        },
        "title": {
         "font": {
          "color": "Black",
          "size": 22
         },
         "text": "<b>Similarity Matrix</b>",
         "x": 0.55,
         "xanchor": "center",
         "y": 0.95,
         "yanchor": "top"
        },
        "width": 800,
        "xaxis": {
         "anchor": "y",
         "constrain": "domain",
         "domain": [
          0,
          1
         ],
         "scaleanchor": "y"
        },
        "yaxis": {
         "anchor": "x",
         "autorange": "reversed",
         "constrain": "domain",
         "domain": [
          0,
          1
         ]
        }
       }
      },
      "text/html": [
       "<div>                            <div id=\"edaa7418-5cba-40f3-9950-a3d1fa051d68\" class=\"plotly-graph-div\" style=\"height:800px; width:800px;\"></div>            <script type=\"text/javascript\">                require([\"plotly\"], function(Plotly) {                    window.PLOTLYENV=window.PLOTLYENV || {};                                    if (document.getElementById(\"edaa7418-5cba-40f3-9950-a3d1fa051d68\")) {                    Plotly.newPlot(                        \"edaa7418-5cba-40f3-9950-a3d1fa051d68\",                        [{\"coloraxis\":\"coloraxis\",\"name\":\"0\",\"x\":[\"0_de_et_la\",\"1_axiome_estampe_av\",\"2_peintvre_la_de\"],\"y\":[\"0_de_et_la\",\"1_axiome_estampe_av\",\"2_peintvre_la_de\"],\"z\":[[1.000000238418579,0.517206609249115,0.6018033623695374],[0.517206609249115,0.9999997019767761,0.6660059690475464],[0.6018033623695374,0.6660059690475464,1.0]],\"type\":\"heatmap\",\"xaxis\":\"x\",\"yaxis\":\"y\",\"hovertemplate\":\"x: %{x}\\u003cbr\\u003ey: %{y}\\u003cbr\\u003eSimilarity Score: %{z}\\u003cextra\\u003e\\u003c\\u002fextra\\u003e\"}],                        {\"template\":{\"data\":{\"histogram2dcontour\":[{\"type\":\"histogram2dcontour\",\"colorbar\":{\"outlinewidth\":0,\"ticks\":\"\"},\"colorscale\":[[0.0,\"#0d0887\"],[0.1111111111111111,\"#46039f\"],[0.2222222222222222,\"#7201a8\"],[0.3333333333333333,\"#9c179e\"],[0.4444444444444444,\"#bd3786\"],[0.5555555555555556,\"#d8576b\"],[0.6666666666666666,\"#ed7953\"],[0.7777777777777778,\"#fb9f3a\"],[0.8888888888888888,\"#fdca26\"],[1.0,\"#f0f921\"]]}],\"choropleth\":[{\"type\":\"choropleth\",\"colorbar\":{\"outlinewidth\":0,\"ticks\":\"\"}}],\"histogram2d\":[{\"type\":\"histogram2d\",\"colorbar\":{\"outlinewidth\":0,\"ticks\":\"\"},\"colorscale\":[[0.0,\"#0d0887\"],[0.1111111111111111,\"#46039f\"],[0.2222222222222222,\"#7201a8\"],[0.3333333333333333,\"#9c179e\"],[0.4444444444444444,\"#bd3786\"],[0.5555555555555556,\"#d8576b\"],[0.6666666666666666,\"#ed7953\"],[0.7777777777777778,\"#fb9f3a\"],[0.8888888888888888,\"#fdca26\"],[1.0,\"#f0f921\"]]}],\"heatmap\":[{\"type\":\"heatmap\",\"colorbar\":{\"outlinewidth\":0,\"ticks\":\"\"},\"colorscale\":[[0.0,\"#0d0887\"],[0.1111111111111111,\"#46039f\"],[0.2222222222222222,\"#7201a8\"],[0.3333333333333333,\"#9c179e\"],[0.4444444444444444,\"#bd3786\"],[0.5555555555555556,\"#d8576b\"],[0.6666666666666666,\"#ed7953\"],[0.7777777777777778,\"#fb9f3a\"],[0.8888888888888888,\"#fdca26\"],[1.0,\"#f0f921\"]]}],\"heatmapgl\":[{\"type\":\"heatmapgl\",\"colorbar\":{\"outlinewidth\":0,\"ticks\":\"\"},\"colorscale\":[[0.0,\"#0d0887\"],[0.1111111111111111,\"#46039f\"],[0.2222222222222222,\"#7201a8\"],[0.3333333333333333,\"#9c179e\"],[0.4444444444444444,\"#bd3786\"],[0.5555555555555556,\"#d8576b\"],[0.6666666666666666,\"#ed7953\"],[0.7777777777777778,\"#fb9f3a\"],[0.8888888888888888,\"#fdca26\"],[1.0,\"#f0f921\"]]}],\"contourcarpet\":[{\"type\":\"contourcarpet\",\"colorbar\":{\"outlinewidth\":0,\"ticks\":\"\"}}],\"contour\":[{\"type\":\"contour\",\"colorbar\":{\"outlinewidth\":0,\"ticks\":\"\"},\"colorscale\":[[0.0,\"#0d0887\"],[0.1111111111111111,\"#46039f\"],[0.2222222222222222,\"#7201a8\"],[0.3333333333333333,\"#9c179e\"],[0.4444444444444444,\"#bd3786\"],[0.5555555555555556,\"#d8576b\"],[0.6666666666666666,\"#ed7953\"],[0.7777777777777778,\"#fb9f3a\"],[0.8888888888888888,\"#fdca26\"],[1.0,\"#f0f921\"]]}],\"surface\":[{\"type\":\"surface\",\"colorbar\":{\"outlinewidth\":0,\"ticks\":\"\"},\"colorscale\":[[0.0,\"#0d0887\"],[0.1111111111111111,\"#46039f\"],[0.2222222222222222,\"#7201a8\"],[0.3333333333333333,\"#9c179e\"],[0.4444444444444444,\"#bd3786\"],[0.5555555555555556,\"#d8576b\"],[0.6666666666666666,\"#ed7953\"],[0.7777777777777778,\"#fb9f3a\"],[0.8888888888888888,\"#fdca26\"],[1.0,\"#f0f921\"]]}],\"mesh3d\":[{\"type\":\"mesh3d\",\"colorbar\":{\"outlinewidth\":0,\"ticks\":\"\"}}],\"scatter\":[{\"fillpattern\":{\"fillmode\":\"overlay\",\"size\":10,\"solidity\":0.2},\"type\":\"scatter\"}],\"parcoords\":[{\"type\":\"parcoords\",\"line\":{\"colorbar\":{\"outlinewidth\":0,\"ticks\":\"\"}}}],\"scatterpolargl\":[{\"type\":\"scatterpolargl\",\"marker\":{\"colorbar\":{\"outlinewidth\":0,\"ticks\":\"\"}}}],\"bar\":[{\"error_x\":{\"color\":\"#2a3f5f\"},\"error_y\":{\"color\":\"#2a3f5f\"},\"marker\":{\"line\":{\"color\":\"#E5ECF6\",\"width\":0.5},\"pattern\":{\"fillmode\":\"overlay\",\"size\":10,\"solidity\":0.2}},\"type\":\"bar\"}],\"scattergeo\":[{\"type\":\"scattergeo\",\"marker\":{\"colorbar\":{\"outlinewidth\":0,\"ticks\":\"\"}}}],\"scatterpolar\":[{\"type\":\"scatterpolar\",\"marker\":{\"colorbar\":{\"outlinewidth\":0,\"ticks\":\"\"}}}],\"histogram\":[{\"marker\":{\"pattern\":{\"fillmode\":\"overlay\",\"size\":10,\"solidity\":0.2}},\"type\":\"histogram\"}],\"scattergl\":[{\"type\":\"scattergl\",\"marker\":{\"colorbar\":{\"outlinewidth\":0,\"ticks\":\"\"}}}],\"scatter3d\":[{\"type\":\"scatter3d\",\"line\":{\"colorbar\":{\"outlinewidth\":0,\"ticks\":\"\"}},\"marker\":{\"colorbar\":{\"outlinewidth\":0,\"ticks\":\"\"}}}],\"scattermapbox\":[{\"type\":\"scattermapbox\",\"marker\":{\"colorbar\":{\"outlinewidth\":0,\"ticks\":\"\"}}}],\"scatterternary\":[{\"type\":\"scatterternary\",\"marker\":{\"colorbar\":{\"outlinewidth\":0,\"ticks\":\"\"}}}],\"scattercarpet\":[{\"type\":\"scattercarpet\",\"marker\":{\"colorbar\":{\"outlinewidth\":0,\"ticks\":\"\"}}}],\"carpet\":[{\"aaxis\":{\"endlinecolor\":\"#2a3f5f\",\"gridcolor\":\"white\",\"linecolor\":\"white\",\"minorgridcolor\":\"white\",\"startlinecolor\":\"#2a3f5f\"},\"baxis\":{\"endlinecolor\":\"#2a3f5f\",\"gridcolor\":\"white\",\"linecolor\":\"white\",\"minorgridcolor\":\"white\",\"startlinecolor\":\"#2a3f5f\"},\"type\":\"carpet\"}],\"table\":[{\"cells\":{\"fill\":{\"color\":\"#EBF0F8\"},\"line\":{\"color\":\"white\"}},\"header\":{\"fill\":{\"color\":\"#C8D4E3\"},\"line\":{\"color\":\"white\"}},\"type\":\"table\"}],\"barpolar\":[{\"marker\":{\"line\":{\"color\":\"#E5ECF6\",\"width\":0.5},\"pattern\":{\"fillmode\":\"overlay\",\"size\":10,\"solidity\":0.2}},\"type\":\"barpolar\"}],\"pie\":[{\"automargin\":true,\"type\":\"pie\"}]},\"layout\":{\"autotypenumbers\":\"strict\",\"colorway\":[\"#636efa\",\"#EF553B\",\"#00cc96\",\"#ab63fa\",\"#FFA15A\",\"#19d3f3\",\"#FF6692\",\"#B6E880\",\"#FF97FF\",\"#FECB52\"],\"font\":{\"color\":\"#2a3f5f\"},\"hovermode\":\"closest\",\"hoverlabel\":{\"align\":\"left\"},\"paper_bgcolor\":\"white\",\"plot_bgcolor\":\"#E5ECF6\",\"polar\":{\"bgcolor\":\"#E5ECF6\",\"angularaxis\":{\"gridcolor\":\"white\",\"linecolor\":\"white\",\"ticks\":\"\"},\"radialaxis\":{\"gridcolor\":\"white\",\"linecolor\":\"white\",\"ticks\":\"\"}},\"ternary\":{\"bgcolor\":\"#E5ECF6\",\"aaxis\":{\"gridcolor\":\"white\",\"linecolor\":\"white\",\"ticks\":\"\"},\"baxis\":{\"gridcolor\":\"white\",\"linecolor\":\"white\",\"ticks\":\"\"},\"caxis\":{\"gridcolor\":\"white\",\"linecolor\":\"white\",\"ticks\":\"\"}},\"coloraxis\":{\"colorbar\":{\"outlinewidth\":0,\"ticks\":\"\"}},\"colorscale\":{\"sequential\":[[0.0,\"#0d0887\"],[0.1111111111111111,\"#46039f\"],[0.2222222222222222,\"#7201a8\"],[0.3333333333333333,\"#9c179e\"],[0.4444444444444444,\"#bd3786\"],[0.5555555555555556,\"#d8576b\"],[0.6666666666666666,\"#ed7953\"],[0.7777777777777778,\"#fb9f3a\"],[0.8888888888888888,\"#fdca26\"],[1.0,\"#f0f921\"]],\"sequentialminus\":[[0.0,\"#0d0887\"],[0.1111111111111111,\"#46039f\"],[0.2222222222222222,\"#7201a8\"],[0.3333333333333333,\"#9c179e\"],[0.4444444444444444,\"#bd3786\"],[0.5555555555555556,\"#d8576b\"],[0.6666666666666666,\"#ed7953\"],[0.7777777777777778,\"#fb9f3a\"],[0.8888888888888888,\"#fdca26\"],[1.0,\"#f0f921\"]],\"diverging\":[[0,\"#8e0152\"],[0.1,\"#c51b7d\"],[0.2,\"#de77ae\"],[0.3,\"#f1b6da\"],[0.4,\"#fde0ef\"],[0.5,\"#f7f7f7\"],[0.6,\"#e6f5d0\"],[0.7,\"#b8e186\"],[0.8,\"#7fbc41\"],[0.9,\"#4d9221\"],[1,\"#276419\"]]},\"xaxis\":{\"gridcolor\":\"white\",\"linecolor\":\"white\",\"ticks\":\"\",\"title\":{\"standoff\":15},\"zerolinecolor\":\"white\",\"automargin\":true,\"zerolinewidth\":2},\"yaxis\":{\"gridcolor\":\"white\",\"linecolor\":\"white\",\"ticks\":\"\",\"title\":{\"standoff\":15},\"zerolinecolor\":\"white\",\"automargin\":true,\"zerolinewidth\":2},\"scene\":{\"xaxis\":{\"backgroundcolor\":\"#E5ECF6\",\"gridcolor\":\"white\",\"linecolor\":\"white\",\"showbackground\":true,\"ticks\":\"\",\"zerolinecolor\":\"white\",\"gridwidth\":2},\"yaxis\":{\"backgroundcolor\":\"#E5ECF6\",\"gridcolor\":\"white\",\"linecolor\":\"white\",\"showbackground\":true,\"ticks\":\"\",\"zerolinecolor\":\"white\",\"gridwidth\":2},\"zaxis\":{\"backgroundcolor\":\"#E5ECF6\",\"gridcolor\":\"white\",\"linecolor\":\"white\",\"showbackground\":true,\"ticks\":\"\",\"zerolinecolor\":\"white\",\"gridwidth\":2}},\"shapedefaults\":{\"line\":{\"color\":\"#2a3f5f\"}},\"annotationdefaults\":{\"arrowcolor\":\"#2a3f5f\",\"arrowhead\":0,\"arrowwidth\":1},\"geo\":{\"bgcolor\":\"white\",\"landcolor\":\"#E5ECF6\",\"subunitcolor\":\"white\",\"showland\":true,\"showlakes\":true,\"lakecolor\":\"white\"},\"title\":{\"x\":0.05},\"mapbox\":{\"style\":\"light\"}}},\"xaxis\":{\"anchor\":\"y\",\"domain\":[0.0,1.0],\"scaleanchor\":\"y\",\"constrain\":\"domain\"},\"yaxis\":{\"anchor\":\"x\",\"domain\":[0.0,1.0],\"autorange\":\"reversed\",\"constrain\":\"domain\"},\"coloraxis\":{\"colorbar\":{\"title\":{\"text\":\"Similarity Score\"}},\"colorscale\":[[0.0,\"rgb(247,252,240)\"],[0.125,\"rgb(224,243,219)\"],[0.25,\"rgb(204,235,197)\"],[0.375,\"rgb(168,221,181)\"],[0.5,\"rgb(123,204,196)\"],[0.625,\"rgb(78,179,211)\"],[0.75,\"rgb(43,140,190)\"],[0.875,\"rgb(8,104,172)\"],[1.0,\"rgb(8,64,129)\"]]},\"margin\":{\"t\":60},\"title\":{\"font\":{\"size\":22,\"color\":\"Black\"},\"text\":\"\\u003cb\\u003eSimilarity Matrix\\u003c\\u002fb\\u003e\",\"y\":0.95,\"x\":0.55,\"xanchor\":\"center\",\"yanchor\":\"top\"},\"hoverlabel\":{\"font\":{\"size\":16,\"family\":\"Rockwell\"},\"bgcolor\":\"white\"},\"width\":800,\"height\":800,\"showlegend\":true,\"legend\":{\"title\":{\"text\":\"Trend\"}}},                        {\"responsive\": true}                    ).then(function(){\n",
       "                            \n",
       "var gd = document.getElementById('edaa7418-5cba-40f3-9950-a3d1fa051d68');\n",
       "var x = new MutationObserver(function (mutations, observer) {{\n",
       "        var display = window.getComputedStyle(gd).display;\n",
       "        if (!display || display === 'none') {{\n",
       "            console.log([gd, 'removed!']);\n",
       "            Plotly.purge(gd);\n",
       "            observer.disconnect();\n",
       "        }}\n",
       "}});\n",
       "\n",
       "// Listen for the removal of the full notebook cells\n",
       "var notebookContainer = gd.closest('#notebook-container');\n",
       "if (notebookContainer) {{\n",
       "    x.observe(notebookContainer, {childList: true});\n",
       "}}\n",
       "\n",
       "// Listen for the clearing of the current output cell\n",
       "var outputEl = gd.closest('.output');\n",
       "if (outputEl) {{\n",
       "    x.observe(outputEl, {childList: true});\n",
       "}}\n",
       "\n",
       "                        })                };                });            </script>        </div>"
      ]
     },
     "metadata": {},
     "output_type": "display_data"
    }
   ],
   "source": [
    "topic_model.visualize_heatmap()"
   ]
  },
  {
   "cell_type": "code",
   "execution_count": 25,
   "id": "28ee45a3-93c1-4d80-ac38-8ae3672ace92",
   "metadata": {},
   "outputs": [
    {
     "data": {
      "application/vnd.plotly.v1+json": {
       "config": {
        "plotlyServerURL": "https://plot.ly"
       },
       "data": [
        {
         "hoverinfo": "text",
         "marker": {
          "color": "rgb(61,153,112)"
         },
         "mode": "lines",
         "type": "scatter",
         "x": [
          0,
          0.5897930061475897,
          0.5897930061475897,
          0
         ],
         "xaxis": "x",
         "y": [
          -15,
          -15,
          -25,
          -25
         ],
         "yaxis": "y"
        },
        {
         "hoverinfo": "text",
         "marker": {
          "color": "rgb(61,153,112)"
         },
         "mode": "lines",
         "type": "scatter",
         "x": [
          0,
          0.9344748366435198,
          0.9344748366435198,
          0.5897930061475897
         ],
         "xaxis": "x",
         "y": [
          -5,
          -5,
          -20,
          -20
         ],
         "yaxis": "y"
        }
       ],
       "layout": {
        "autosize": false,
        "height": 245,
        "hoverlabel": {
         "bgcolor": "white",
         "font": {
          "family": "Rockwell",
          "size": 16
         }
        },
        "hovermode": "closest",
        "plot_bgcolor": "#ECEFF1",
        "showlegend": false,
        "template": {
         "data": {
          "bar": [
           {
            "error_x": {
             "color": "#2a3f5f"
            },
            "error_y": {
             "color": "#2a3f5f"
            },
            "marker": {
             "line": {
              "color": "white",
              "width": 0.5
             },
             "pattern": {
              "fillmode": "overlay",
              "size": 10,
              "solidity": 0.2
             }
            },
            "type": "bar"
           }
          ],
          "barpolar": [
           {
            "marker": {
             "line": {
              "color": "white",
              "width": 0.5
             },
             "pattern": {
              "fillmode": "overlay",
              "size": 10,
              "solidity": 0.2
             }
            },
            "type": "barpolar"
           }
          ],
          "carpet": [
           {
            "aaxis": {
             "endlinecolor": "#2a3f5f",
             "gridcolor": "#C8D4E3",
             "linecolor": "#C8D4E3",
             "minorgridcolor": "#C8D4E3",
             "startlinecolor": "#2a3f5f"
            },
            "baxis": {
             "endlinecolor": "#2a3f5f",
             "gridcolor": "#C8D4E3",
             "linecolor": "#C8D4E3",
             "minorgridcolor": "#C8D4E3",
             "startlinecolor": "#2a3f5f"
            },
            "type": "carpet"
           }
          ],
          "choropleth": [
           {
            "colorbar": {
             "outlinewidth": 0,
             "ticks": ""
            },
            "type": "choropleth"
           }
          ],
          "contour": [
           {
            "colorbar": {
             "outlinewidth": 0,
             "ticks": ""
            },
            "colorscale": [
             [
              0,
              "#0d0887"
             ],
             [
              0.1111111111111111,
              "#46039f"
             ],
             [
              0.2222222222222222,
              "#7201a8"
             ],
             [
              0.3333333333333333,
              "#9c179e"
             ],
             [
              0.4444444444444444,
              "#bd3786"
             ],
             [
              0.5555555555555556,
              "#d8576b"
             ],
             [
              0.6666666666666666,
              "#ed7953"
             ],
             [
              0.7777777777777778,
              "#fb9f3a"
             ],
             [
              0.8888888888888888,
              "#fdca26"
             ],
             [
              1,
              "#f0f921"
             ]
            ],
            "type": "contour"
           }
          ],
          "contourcarpet": [
           {
            "colorbar": {
             "outlinewidth": 0,
             "ticks": ""
            },
            "type": "contourcarpet"
           }
          ],
          "heatmap": [
           {
            "colorbar": {
             "outlinewidth": 0,
             "ticks": ""
            },
            "colorscale": [
             [
              0,
              "#0d0887"
             ],
             [
              0.1111111111111111,
              "#46039f"
             ],
             [
              0.2222222222222222,
              "#7201a8"
             ],
             [
              0.3333333333333333,
              "#9c179e"
             ],
             [
              0.4444444444444444,
              "#bd3786"
             ],
             [
              0.5555555555555556,
              "#d8576b"
             ],
             [
              0.6666666666666666,
              "#ed7953"
             ],
             [
              0.7777777777777778,
              "#fb9f3a"
             ],
             [
              0.8888888888888888,
              "#fdca26"
             ],
             [
              1,
              "#f0f921"
             ]
            ],
            "type": "heatmap"
           }
          ],
          "heatmapgl": [
           {
            "colorbar": {
             "outlinewidth": 0,
             "ticks": ""
            },
            "colorscale": [
             [
              0,
              "#0d0887"
             ],
             [
              0.1111111111111111,
              "#46039f"
             ],
             [
              0.2222222222222222,
              "#7201a8"
             ],
             [
              0.3333333333333333,
              "#9c179e"
             ],
             [
              0.4444444444444444,
              "#bd3786"
             ],
             [
              0.5555555555555556,
              "#d8576b"
             ],
             [
              0.6666666666666666,
              "#ed7953"
             ],
             [
              0.7777777777777778,
              "#fb9f3a"
             ],
             [
              0.8888888888888888,
              "#fdca26"
             ],
             [
              1,
              "#f0f921"
             ]
            ],
            "type": "heatmapgl"
           }
          ],
          "histogram": [
           {
            "marker": {
             "pattern": {
              "fillmode": "overlay",
              "size": 10,
              "solidity": 0.2
             }
            },
            "type": "histogram"
           }
          ],
          "histogram2d": [
           {
            "colorbar": {
             "outlinewidth": 0,
             "ticks": ""
            },
            "colorscale": [
             [
              0,
              "#0d0887"
             ],
             [
              0.1111111111111111,
              "#46039f"
             ],
             [
              0.2222222222222222,
              "#7201a8"
             ],
             [
              0.3333333333333333,
              "#9c179e"
             ],
             [
              0.4444444444444444,
              "#bd3786"
             ],
             [
              0.5555555555555556,
              "#d8576b"
             ],
             [
              0.6666666666666666,
              "#ed7953"
             ],
             [
              0.7777777777777778,
              "#fb9f3a"
             ],
             [
              0.8888888888888888,
              "#fdca26"
             ],
             [
              1,
              "#f0f921"
             ]
            ],
            "type": "histogram2d"
           }
          ],
          "histogram2dcontour": [
           {
            "colorbar": {
             "outlinewidth": 0,
             "ticks": ""
            },
            "colorscale": [
             [
              0,
              "#0d0887"
             ],
             [
              0.1111111111111111,
              "#46039f"
             ],
             [
              0.2222222222222222,
              "#7201a8"
             ],
             [
              0.3333333333333333,
              "#9c179e"
             ],
             [
              0.4444444444444444,
              "#bd3786"
             ],
             [
              0.5555555555555556,
              "#d8576b"
             ],
             [
              0.6666666666666666,
              "#ed7953"
             ],
             [
              0.7777777777777778,
              "#fb9f3a"
             ],
             [
              0.8888888888888888,
              "#fdca26"
             ],
             [
              1,
              "#f0f921"
             ]
            ],
            "type": "histogram2dcontour"
           }
          ],
          "mesh3d": [
           {
            "colorbar": {
             "outlinewidth": 0,
             "ticks": ""
            },
            "type": "mesh3d"
           }
          ],
          "parcoords": [
           {
            "line": {
             "colorbar": {
              "outlinewidth": 0,
              "ticks": ""
             }
            },
            "type": "parcoords"
           }
          ],
          "pie": [
           {
            "automargin": true,
            "type": "pie"
           }
          ],
          "scatter": [
           {
            "fillpattern": {
             "fillmode": "overlay",
             "size": 10,
             "solidity": 0.2
            },
            "type": "scatter"
           }
          ],
          "scatter3d": [
           {
            "line": {
             "colorbar": {
              "outlinewidth": 0,
              "ticks": ""
             }
            },
            "marker": {
             "colorbar": {
              "outlinewidth": 0,
              "ticks": ""
             }
            },
            "type": "scatter3d"
           }
          ],
          "scattercarpet": [
           {
            "marker": {
             "colorbar": {
              "outlinewidth": 0,
              "ticks": ""
             }
            },
            "type": "scattercarpet"
           }
          ],
          "scattergeo": [
           {
            "marker": {
             "colorbar": {
              "outlinewidth": 0,
              "ticks": ""
             }
            },
            "type": "scattergeo"
           }
          ],
          "scattergl": [
           {
            "marker": {
             "colorbar": {
              "outlinewidth": 0,
              "ticks": ""
             }
            },
            "type": "scattergl"
           }
          ],
          "scattermapbox": [
           {
            "marker": {
             "colorbar": {
              "outlinewidth": 0,
              "ticks": ""
             }
            },
            "type": "scattermapbox"
           }
          ],
          "scatterpolar": [
           {
            "marker": {
             "colorbar": {
              "outlinewidth": 0,
              "ticks": ""
             }
            },
            "type": "scatterpolar"
           }
          ],
          "scatterpolargl": [
           {
            "marker": {
             "colorbar": {
              "outlinewidth": 0,
              "ticks": ""
             }
            },
            "type": "scatterpolargl"
           }
          ],
          "scatterternary": [
           {
            "marker": {
             "colorbar": {
              "outlinewidth": 0,
              "ticks": ""
             }
            },
            "type": "scatterternary"
           }
          ],
          "surface": [
           {
            "colorbar": {
             "outlinewidth": 0,
             "ticks": ""
            },
            "colorscale": [
             [
              0,
              "#0d0887"
             ],
             [
              0.1111111111111111,
              "#46039f"
             ],
             [
              0.2222222222222222,
              "#7201a8"
             ],
             [
              0.3333333333333333,
              "#9c179e"
             ],
             [
              0.4444444444444444,
              "#bd3786"
             ],
             [
              0.5555555555555556,
              "#d8576b"
             ],
             [
              0.6666666666666666,
              "#ed7953"
             ],
             [
              0.7777777777777778,
              "#fb9f3a"
             ],
             [
              0.8888888888888888,
              "#fdca26"
             ],
             [
              1,
              "#f0f921"
             ]
            ],
            "type": "surface"
           }
          ],
          "table": [
           {
            "cells": {
             "fill": {
              "color": "#EBF0F8"
             },
             "line": {
              "color": "white"
             }
            },
            "header": {
             "fill": {
              "color": "#C8D4E3"
             },
             "line": {
              "color": "white"
             }
            },
            "type": "table"
           }
          ]
         },
         "layout": {
          "annotationdefaults": {
           "arrowcolor": "#2a3f5f",
           "arrowhead": 0,
           "arrowwidth": 1
          },
          "autotypenumbers": "strict",
          "coloraxis": {
           "colorbar": {
            "outlinewidth": 0,
            "ticks": ""
           }
          },
          "colorscale": {
           "diverging": [
            [
             0,
             "#8e0152"
            ],
            [
             0.1,
             "#c51b7d"
            ],
            [
             0.2,
             "#de77ae"
            ],
            [
             0.3,
             "#f1b6da"
            ],
            [
             0.4,
             "#fde0ef"
            ],
            [
             0.5,
             "#f7f7f7"
            ],
            [
             0.6,
             "#e6f5d0"
            ],
            [
             0.7,
             "#b8e186"
            ],
            [
             0.8,
             "#7fbc41"
            ],
            [
             0.9,
             "#4d9221"
            ],
            [
             1,
             "#276419"
            ]
           ],
           "sequential": [
            [
             0,
             "#0d0887"
            ],
            [
             0.1111111111111111,
             "#46039f"
            ],
            [
             0.2222222222222222,
             "#7201a8"
            ],
            [
             0.3333333333333333,
             "#9c179e"
            ],
            [
             0.4444444444444444,
             "#bd3786"
            ],
            [
             0.5555555555555556,
             "#d8576b"
            ],
            [
             0.6666666666666666,
             "#ed7953"
            ],
            [
             0.7777777777777778,
             "#fb9f3a"
            ],
            [
             0.8888888888888888,
             "#fdca26"
            ],
            [
             1,
             "#f0f921"
            ]
           ],
           "sequentialminus": [
            [
             0,
             "#0d0887"
            ],
            [
             0.1111111111111111,
             "#46039f"
            ],
            [
             0.2222222222222222,
             "#7201a8"
            ],
            [
             0.3333333333333333,
             "#9c179e"
            ],
            [
             0.4444444444444444,
             "#bd3786"
            ],
            [
             0.5555555555555556,
             "#d8576b"
            ],
            [
             0.6666666666666666,
             "#ed7953"
            ],
            [
             0.7777777777777778,
             "#fb9f3a"
            ],
            [
             0.8888888888888888,
             "#fdca26"
            ],
            [
             1,
             "#f0f921"
            ]
           ]
          },
          "colorway": [
           "#636efa",
           "#EF553B",
           "#00cc96",
           "#ab63fa",
           "#FFA15A",
           "#19d3f3",
           "#FF6692",
           "#B6E880",
           "#FF97FF",
           "#FECB52"
          ],
          "font": {
           "color": "#2a3f5f"
          },
          "geo": {
           "bgcolor": "white",
           "lakecolor": "white",
           "landcolor": "white",
           "showlakes": true,
           "showland": true,
           "subunitcolor": "#C8D4E3"
          },
          "hoverlabel": {
           "align": "left"
          },
          "hovermode": "closest",
          "mapbox": {
           "style": "light"
          },
          "paper_bgcolor": "white",
          "plot_bgcolor": "white",
          "polar": {
           "angularaxis": {
            "gridcolor": "#EBF0F8",
            "linecolor": "#EBF0F8",
            "ticks": ""
           },
           "bgcolor": "white",
           "radialaxis": {
            "gridcolor": "#EBF0F8",
            "linecolor": "#EBF0F8",
            "ticks": ""
           }
          },
          "scene": {
           "xaxis": {
            "backgroundcolor": "white",
            "gridcolor": "#DFE8F3",
            "gridwidth": 2,
            "linecolor": "#EBF0F8",
            "showbackground": true,
            "ticks": "",
            "zerolinecolor": "#EBF0F8"
           },
           "yaxis": {
            "backgroundcolor": "white",
            "gridcolor": "#DFE8F3",
            "gridwidth": 2,
            "linecolor": "#EBF0F8",
            "showbackground": true,
            "ticks": "",
            "zerolinecolor": "#EBF0F8"
           },
           "zaxis": {
            "backgroundcolor": "white",
            "gridcolor": "#DFE8F3",
            "gridwidth": 2,
            "linecolor": "#EBF0F8",
            "showbackground": true,
            "ticks": "",
            "zerolinecolor": "#EBF0F8"
           }
          },
          "shapedefaults": {
           "line": {
            "color": "#2a3f5f"
           }
          },
          "ternary": {
           "aaxis": {
            "gridcolor": "#DFE8F3",
            "linecolor": "#A2B1C6",
            "ticks": ""
           },
           "baxis": {
            "gridcolor": "#DFE8F3",
            "linecolor": "#A2B1C6",
            "ticks": ""
           },
           "bgcolor": "white",
           "caxis": {
            "gridcolor": "#DFE8F3",
            "linecolor": "#A2B1C6",
            "ticks": ""
           }
          },
          "title": {
           "x": 0.05
          },
          "xaxis": {
           "automargin": true,
           "gridcolor": "#EBF0F8",
           "linecolor": "#EBF0F8",
           "ticks": "",
           "title": {
            "standoff": 15
           },
           "zerolinecolor": "#EBF0F8",
           "zerolinewidth": 2
          },
          "yaxis": {
           "automargin": true,
           "gridcolor": "#EBF0F8",
           "linecolor": "#EBF0F8",
           "ticks": "",
           "title": {
            "standoff": 15
           },
           "zerolinecolor": "#EBF0F8",
           "zerolinewidth": 2
          }
         }
        },
        "title": {
         "font": {
          "color": "Black",
          "size": 22
         },
         "text": "<b>Hierarchical Clustering</b>",
         "x": 0.5,
         "xanchor": "center",
         "yanchor": "top"
        },
        "width": 1000,
        "xaxis": {
         "mirror": "allticks",
         "rangemode": "tozero",
         "showgrid": false,
         "showline": true,
         "showticklabels": true,
         "ticks": "outside",
         "type": "linear",
         "zeroline": false
        },
        "yaxis": {
         "mirror": "allticks",
         "range": [
          -30,
          0
         ],
         "rangemode": "tozero",
         "showgrid": false,
         "showline": true,
         "showticklabels": true,
         "tickmode": "array",
         "ticks": "outside",
         "ticktext": [
          "1_axiome_estampe_av",
          "0_de_et_la",
          "2_peintvre_la_de"
         ],
         "tickvals": [
          -5,
          -15,
          -25
         ],
         "type": "linear",
         "zeroline": false
        }
       }
      },
      "text/html": [
       "<div>                            <div id=\"7758aace-6132-4a2e-b62a-eed976e2b890\" class=\"plotly-graph-div\" style=\"height:245px; width:1000px;\"></div>            <script type=\"text/javascript\">                require([\"plotly\"], function(Plotly) {                    window.PLOTLYENV=window.PLOTLYENV || {};                                    if (document.getElementById(\"7758aace-6132-4a2e-b62a-eed976e2b890\")) {                    Plotly.newPlot(                        \"7758aace-6132-4a2e-b62a-eed976e2b890\",                        [{\"hoverinfo\":\"text\",\"marker\":{\"color\":\"rgb(61,153,112)\"},\"mode\":\"lines\",\"x\":[0.0,0.5897930061475897,0.5897930061475897,0.0],\"xaxis\":\"x\",\"y\":[-15.0,-15.0,-25.0,-25.0],\"yaxis\":\"y\",\"type\":\"scatter\"},{\"hoverinfo\":\"text\",\"marker\":{\"color\":\"rgb(61,153,112)\"},\"mode\":\"lines\",\"x\":[0.0,0.9344748366435198,0.9344748366435198,0.5897930061475897],\"xaxis\":\"x\",\"y\":[-5.0,-5.0,-20.0,-20.0],\"yaxis\":\"y\",\"type\":\"scatter\"}],                        {\"autosize\":false,\"height\":245,\"hovermode\":\"closest\",\"showlegend\":false,\"width\":1000,\"xaxis\":{\"mirror\":\"allticks\",\"rangemode\":\"tozero\",\"showgrid\":false,\"showline\":true,\"showticklabels\":true,\"ticks\":\"outside\",\"type\":\"linear\",\"zeroline\":false},\"yaxis\":{\"mirror\":\"allticks\",\"rangemode\":\"tozero\",\"showgrid\":false,\"showline\":true,\"showticklabels\":true,\"tickmode\":\"array\",\"ticks\":\"outside\",\"ticktext\":[\"1_axiome_estampe_av\",\"0_de_et_la\",\"2_peintvre_la_de\"],\"tickvals\":[-5.0,-15.0,-25.0],\"type\":\"linear\",\"zeroline\":false,\"range\":[-30.0,0.0]},\"template\":{\"data\":{\"barpolar\":[{\"marker\":{\"line\":{\"color\":\"white\",\"width\":0.5},\"pattern\":{\"fillmode\":\"overlay\",\"size\":10,\"solidity\":0.2}},\"type\":\"barpolar\"}],\"bar\":[{\"error_x\":{\"color\":\"#2a3f5f\"},\"error_y\":{\"color\":\"#2a3f5f\"},\"marker\":{\"line\":{\"color\":\"white\",\"width\":0.5},\"pattern\":{\"fillmode\":\"overlay\",\"size\":10,\"solidity\":0.2}},\"type\":\"bar\"}],\"carpet\":[{\"aaxis\":{\"endlinecolor\":\"#2a3f5f\",\"gridcolor\":\"#C8D4E3\",\"linecolor\":\"#C8D4E3\",\"minorgridcolor\":\"#C8D4E3\",\"startlinecolor\":\"#2a3f5f\"},\"baxis\":{\"endlinecolor\":\"#2a3f5f\",\"gridcolor\":\"#C8D4E3\",\"linecolor\":\"#C8D4E3\",\"minorgridcolor\":\"#C8D4E3\",\"startlinecolor\":\"#2a3f5f\"},\"type\":\"carpet\"}],\"choropleth\":[{\"colorbar\":{\"outlinewidth\":0,\"ticks\":\"\"},\"type\":\"choropleth\"}],\"contourcarpet\":[{\"colorbar\":{\"outlinewidth\":0,\"ticks\":\"\"},\"type\":\"contourcarpet\"}],\"contour\":[{\"colorbar\":{\"outlinewidth\":0,\"ticks\":\"\"},\"colorscale\":[[0.0,\"#0d0887\"],[0.1111111111111111,\"#46039f\"],[0.2222222222222222,\"#7201a8\"],[0.3333333333333333,\"#9c179e\"],[0.4444444444444444,\"#bd3786\"],[0.5555555555555556,\"#d8576b\"],[0.6666666666666666,\"#ed7953\"],[0.7777777777777778,\"#fb9f3a\"],[0.8888888888888888,\"#fdca26\"],[1.0,\"#f0f921\"]],\"type\":\"contour\"}],\"heatmapgl\":[{\"colorbar\":{\"outlinewidth\":0,\"ticks\":\"\"},\"colorscale\":[[0.0,\"#0d0887\"],[0.1111111111111111,\"#46039f\"],[0.2222222222222222,\"#7201a8\"],[0.3333333333333333,\"#9c179e\"],[0.4444444444444444,\"#bd3786\"],[0.5555555555555556,\"#d8576b\"],[0.6666666666666666,\"#ed7953\"],[0.7777777777777778,\"#fb9f3a\"],[0.8888888888888888,\"#fdca26\"],[1.0,\"#f0f921\"]],\"type\":\"heatmapgl\"}],\"heatmap\":[{\"colorbar\":{\"outlinewidth\":0,\"ticks\":\"\"},\"colorscale\":[[0.0,\"#0d0887\"],[0.1111111111111111,\"#46039f\"],[0.2222222222222222,\"#7201a8\"],[0.3333333333333333,\"#9c179e\"],[0.4444444444444444,\"#bd3786\"],[0.5555555555555556,\"#d8576b\"],[0.6666666666666666,\"#ed7953\"],[0.7777777777777778,\"#fb9f3a\"],[0.8888888888888888,\"#fdca26\"],[1.0,\"#f0f921\"]],\"type\":\"heatmap\"}],\"histogram2dcontour\":[{\"colorbar\":{\"outlinewidth\":0,\"ticks\":\"\"},\"colorscale\":[[0.0,\"#0d0887\"],[0.1111111111111111,\"#46039f\"],[0.2222222222222222,\"#7201a8\"],[0.3333333333333333,\"#9c179e\"],[0.4444444444444444,\"#bd3786\"],[0.5555555555555556,\"#d8576b\"],[0.6666666666666666,\"#ed7953\"],[0.7777777777777778,\"#fb9f3a\"],[0.8888888888888888,\"#fdca26\"],[1.0,\"#f0f921\"]],\"type\":\"histogram2dcontour\"}],\"histogram2d\":[{\"colorbar\":{\"outlinewidth\":0,\"ticks\":\"\"},\"colorscale\":[[0.0,\"#0d0887\"],[0.1111111111111111,\"#46039f\"],[0.2222222222222222,\"#7201a8\"],[0.3333333333333333,\"#9c179e\"],[0.4444444444444444,\"#bd3786\"],[0.5555555555555556,\"#d8576b\"],[0.6666666666666666,\"#ed7953\"],[0.7777777777777778,\"#fb9f3a\"],[0.8888888888888888,\"#fdca26\"],[1.0,\"#f0f921\"]],\"type\":\"histogram2d\"}],\"histogram\":[{\"marker\":{\"pattern\":{\"fillmode\":\"overlay\",\"size\":10,\"solidity\":0.2}},\"type\":\"histogram\"}],\"mesh3d\":[{\"colorbar\":{\"outlinewidth\":0,\"ticks\":\"\"},\"type\":\"mesh3d\"}],\"parcoords\":[{\"line\":{\"colorbar\":{\"outlinewidth\":0,\"ticks\":\"\"}},\"type\":\"parcoords\"}],\"pie\":[{\"automargin\":true,\"type\":\"pie\"}],\"scatter3d\":[{\"line\":{\"colorbar\":{\"outlinewidth\":0,\"ticks\":\"\"}},\"marker\":{\"colorbar\":{\"outlinewidth\":0,\"ticks\":\"\"}},\"type\":\"scatter3d\"}],\"scattercarpet\":[{\"marker\":{\"colorbar\":{\"outlinewidth\":0,\"ticks\":\"\"}},\"type\":\"scattercarpet\"}],\"scattergeo\":[{\"marker\":{\"colorbar\":{\"outlinewidth\":0,\"ticks\":\"\"}},\"type\":\"scattergeo\"}],\"scattergl\":[{\"marker\":{\"colorbar\":{\"outlinewidth\":0,\"ticks\":\"\"}},\"type\":\"scattergl\"}],\"scattermapbox\":[{\"marker\":{\"colorbar\":{\"outlinewidth\":0,\"ticks\":\"\"}},\"type\":\"scattermapbox\"}],\"scatterpolargl\":[{\"marker\":{\"colorbar\":{\"outlinewidth\":0,\"ticks\":\"\"}},\"type\":\"scatterpolargl\"}],\"scatterpolar\":[{\"marker\":{\"colorbar\":{\"outlinewidth\":0,\"ticks\":\"\"}},\"type\":\"scatterpolar\"}],\"scatter\":[{\"fillpattern\":{\"fillmode\":\"overlay\",\"size\":10,\"solidity\":0.2},\"type\":\"scatter\"}],\"scatterternary\":[{\"marker\":{\"colorbar\":{\"outlinewidth\":0,\"ticks\":\"\"}},\"type\":\"scatterternary\"}],\"surface\":[{\"colorbar\":{\"outlinewidth\":0,\"ticks\":\"\"},\"colorscale\":[[0.0,\"#0d0887\"],[0.1111111111111111,\"#46039f\"],[0.2222222222222222,\"#7201a8\"],[0.3333333333333333,\"#9c179e\"],[0.4444444444444444,\"#bd3786\"],[0.5555555555555556,\"#d8576b\"],[0.6666666666666666,\"#ed7953\"],[0.7777777777777778,\"#fb9f3a\"],[0.8888888888888888,\"#fdca26\"],[1.0,\"#f0f921\"]],\"type\":\"surface\"}],\"table\":[{\"cells\":{\"fill\":{\"color\":\"#EBF0F8\"},\"line\":{\"color\":\"white\"}},\"header\":{\"fill\":{\"color\":\"#C8D4E3\"},\"line\":{\"color\":\"white\"}},\"type\":\"table\"}]},\"layout\":{\"annotationdefaults\":{\"arrowcolor\":\"#2a3f5f\",\"arrowhead\":0,\"arrowwidth\":1},\"autotypenumbers\":\"strict\",\"coloraxis\":{\"colorbar\":{\"outlinewidth\":0,\"ticks\":\"\"}},\"colorscale\":{\"diverging\":[[0,\"#8e0152\"],[0.1,\"#c51b7d\"],[0.2,\"#de77ae\"],[0.3,\"#f1b6da\"],[0.4,\"#fde0ef\"],[0.5,\"#f7f7f7\"],[0.6,\"#e6f5d0\"],[0.7,\"#b8e186\"],[0.8,\"#7fbc41\"],[0.9,\"#4d9221\"],[1,\"#276419\"]],\"sequential\":[[0.0,\"#0d0887\"],[0.1111111111111111,\"#46039f\"],[0.2222222222222222,\"#7201a8\"],[0.3333333333333333,\"#9c179e\"],[0.4444444444444444,\"#bd3786\"],[0.5555555555555556,\"#d8576b\"],[0.6666666666666666,\"#ed7953\"],[0.7777777777777778,\"#fb9f3a\"],[0.8888888888888888,\"#fdca26\"],[1.0,\"#f0f921\"]],\"sequentialminus\":[[0.0,\"#0d0887\"],[0.1111111111111111,\"#46039f\"],[0.2222222222222222,\"#7201a8\"],[0.3333333333333333,\"#9c179e\"],[0.4444444444444444,\"#bd3786\"],[0.5555555555555556,\"#d8576b\"],[0.6666666666666666,\"#ed7953\"],[0.7777777777777778,\"#fb9f3a\"],[0.8888888888888888,\"#fdca26\"],[1.0,\"#f0f921\"]]},\"colorway\":[\"#636efa\",\"#EF553B\",\"#00cc96\",\"#ab63fa\",\"#FFA15A\",\"#19d3f3\",\"#FF6692\",\"#B6E880\",\"#FF97FF\",\"#FECB52\"],\"font\":{\"color\":\"#2a3f5f\"},\"geo\":{\"bgcolor\":\"white\",\"lakecolor\":\"white\",\"landcolor\":\"white\",\"showlakes\":true,\"showland\":true,\"subunitcolor\":\"#C8D4E3\"},\"hoverlabel\":{\"align\":\"left\"},\"hovermode\":\"closest\",\"mapbox\":{\"style\":\"light\"},\"paper_bgcolor\":\"white\",\"plot_bgcolor\":\"white\",\"polar\":{\"angularaxis\":{\"gridcolor\":\"#EBF0F8\",\"linecolor\":\"#EBF0F8\",\"ticks\":\"\"},\"bgcolor\":\"white\",\"radialaxis\":{\"gridcolor\":\"#EBF0F8\",\"linecolor\":\"#EBF0F8\",\"ticks\":\"\"}},\"scene\":{\"xaxis\":{\"backgroundcolor\":\"white\",\"gridcolor\":\"#DFE8F3\",\"gridwidth\":2,\"linecolor\":\"#EBF0F8\",\"showbackground\":true,\"ticks\":\"\",\"zerolinecolor\":\"#EBF0F8\"},\"yaxis\":{\"backgroundcolor\":\"white\",\"gridcolor\":\"#DFE8F3\",\"gridwidth\":2,\"linecolor\":\"#EBF0F8\",\"showbackground\":true,\"ticks\":\"\",\"zerolinecolor\":\"#EBF0F8\"},\"zaxis\":{\"backgroundcolor\":\"white\",\"gridcolor\":\"#DFE8F3\",\"gridwidth\":2,\"linecolor\":\"#EBF0F8\",\"showbackground\":true,\"ticks\":\"\",\"zerolinecolor\":\"#EBF0F8\"}},\"shapedefaults\":{\"line\":{\"color\":\"#2a3f5f\"}},\"ternary\":{\"aaxis\":{\"gridcolor\":\"#DFE8F3\",\"linecolor\":\"#A2B1C6\",\"ticks\":\"\"},\"baxis\":{\"gridcolor\":\"#DFE8F3\",\"linecolor\":\"#A2B1C6\",\"ticks\":\"\"},\"bgcolor\":\"white\",\"caxis\":{\"gridcolor\":\"#DFE8F3\",\"linecolor\":\"#A2B1C6\",\"ticks\":\"\"}},\"title\":{\"x\":0.05},\"xaxis\":{\"automargin\":true,\"gridcolor\":\"#EBF0F8\",\"linecolor\":\"#EBF0F8\",\"ticks\":\"\",\"title\":{\"standoff\":15},\"zerolinecolor\":\"#EBF0F8\",\"zerolinewidth\":2},\"yaxis\":{\"automargin\":true,\"gridcolor\":\"#EBF0F8\",\"linecolor\":\"#EBF0F8\",\"ticks\":\"\",\"title\":{\"standoff\":15},\"zerolinecolor\":\"#EBF0F8\",\"zerolinewidth\":2}}},\"title\":{\"font\":{\"size\":22,\"color\":\"Black\"},\"text\":\"\\u003cb\\u003eHierarchical Clustering\\u003c\\u002fb\\u003e\",\"x\":0.5,\"xanchor\":\"center\",\"yanchor\":\"top\"},\"hoverlabel\":{\"font\":{\"size\":16,\"family\":\"Rockwell\"},\"bgcolor\":\"white\"},\"plot_bgcolor\":\"#ECEFF1\"},                        {\"responsive\": true}                    ).then(function(){\n",
       "                            \n",
       "var gd = document.getElementById('7758aace-6132-4a2e-b62a-eed976e2b890');\n",
       "var x = new MutationObserver(function (mutations, observer) {{\n",
       "        var display = window.getComputedStyle(gd).display;\n",
       "        if (!display || display === 'none') {{\n",
       "            console.log([gd, 'removed!']);\n",
       "            Plotly.purge(gd);\n",
       "            observer.disconnect();\n",
       "        }}\n",
       "}});\n",
       "\n",
       "// Listen for the removal of the full notebook cells\n",
       "var notebookContainer = gd.closest('#notebook-container');\n",
       "if (notebookContainer) {{\n",
       "    x.observe(notebookContainer, {childList: true});\n",
       "}}\n",
       "\n",
       "// Listen for the clearing of the current output cell\n",
       "var outputEl = gd.closest('.output');\n",
       "if (outputEl) {{\n",
       "    x.observe(outputEl, {childList: true});\n",
       "}}\n",
       "\n",
       "                        })                };                });            </script>        </div>"
      ]
     },
     "metadata": {},
     "output_type": "display_data"
    }
   ],
   "source": [
    "topic_model.visualize_hierarchy()"
   ]
  },
  {
   "cell_type": "code",
   "execution_count": null,
   "id": "8f7307c2-a432-487f-a2eb-bfc8cd530d2b",
   "metadata": {},
   "outputs": [],
   "source": []
  }
 ],
 "metadata": {
  "kernelspec": {
   "display_name": "Python 3 (ipykernel)",
   "language": "python",
   "name": "python3"
  },
  "language_info": {
   "codemirror_mode": {
    "name": "ipython",
    "version": 3
   },
   "file_extension": ".py",
   "mimetype": "text/x-python",
   "name": "python",
   "nbconvert_exporter": "python",
   "pygments_lexer": "ipython3",
   "version": "3.12.5"
  }
 },
 "nbformat": 4,
 "nbformat_minor": 5
}
