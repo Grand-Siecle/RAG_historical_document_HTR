{
 "cells": [
  {
   "cell_type": "code",
   "execution_count": null,
   "id": "841c3e3f-9c20-46ef-a8fa-b6c289291810",
   "metadata": {},
   "outputs": [],
   "source": [
    "#ollama run brxce/monadgpt modern french\n",
    "#ollama"
   ]
  },
  {
   "cell_type": "code",
   "execution_count": 1,
   "id": "24616611-2258-4caf-8d7b-25422512f363",
   "metadata": {},
   "outputs": [
    {
     "name": "stdout",
     "output_type": "stream",
     "text": [
      "liv0232_ideedelaperfectiondelape.txt\n"
     ]
    }
   ],
   "source": [
    "!ls data/"
   ]
  },
  {
   "cell_type": "markdown",
   "id": "ff7fb31b-d94b-4253-8c95-21aaadde9534",
   "metadata": {},
   "source": [
    "# Normalisation\n",
    "`!git clone https://github.com/rbawden/ModFr-Norm.git`"
   ]
  },
  {
   "cell_type": "code",
   "execution_count": null,
   "id": "e86952f9-78f4-45a3-8b54-5f0e84caf796",
   "metadata": {},
   "outputs": [],
   "source": [
    "!pip install torch transformers datasets"
   ]
  },
  {
   "cell_type": "code",
   "execution_count": 27,
   "id": "d1d15819-ddcd-4ad6-bb27-f7e287766af9",
   "metadata": {},
   "outputs": [],
   "source": [
    "import re\n",
    "\n",
    "def regroup_lines_into_sentences(file_path):\n",
    "    try:\n",
    "        with open(file_path, 'r') as file:\n",
    "            lines = file.readlines()\n",
    "            sentences = []\n",
    "            current_sentence = \"\"\n",
    "\n",
    "            for line in lines:\n",
    "                line = line.strip()  # Supprimer les espaces en début et fin de ligne\n",
    "                if line:  # Vérifier si la ligne n'est pas vide\n",
    "                    # Ajouter la ligne à la phrase courante\n",
    "                    current_sentence += line + \" \"\n",
    "                    if re.search(r'[.!?]$', line):  # Vérifier si la ligne se termine par un marqueur de fin de phrase\n",
    "                        sentences.append(current_sentence.strip())  # Ajouter la phrase complète à la liste\n",
    "                        current_sentence = \"\"  # Réinitialiser la phrase courante\n",
    "                    current_sentence = current_sentence.replace('¬ ', '')  # Remplacer '¬ ' par rien\n",
    "            return sentences\n",
    "    except FileNotFoundError:\n",
    "        return \"Fichier non trouvé.\"\n",
    "\n",
    "file_path = \"data/liv0232_ideedelaperfectiondelape.txt\"  # Remplacez ceci par le chemin de votre fichier .txt\n",
    "sentences = regroup_lines_into_sentences(file_path)"
   ]
  },
  {
   "cell_type": "code",
   "execution_count": null,
   "id": "d964ca9f-1817-49cf-b26f-48b005ff278a",
   "metadata": {},
   "outputs": [],
   "source": [
    "from transformers import pipeline\n",
    "normaliser = pipeline(model=\"rbawden/modern_french_normalisation\", batch_size=32, beam_size=5, cache_file=\"./cache.pickle\", trust_remote_code=True)\n",
    "\n",
    "with open(\"normalized.txt\", \"w\", encoding=\"utf-8\") as output_file:\n",
    "  for line in sentences:\n",
    "    normalized_line = normaliser([line])\n",
    "    output_file.write(normalized_line[0]['text'].strip() + \"\\n\")\n",
    "    print(line)\n",
    "    print(normalized_line[0]['text'].strip() + \"\\n\")"
   ]
  },
  {
   "cell_type": "markdown",
   "id": "0a4f8bd9-42a8-4280-a50b-6e5fce81f6a7",
   "metadata": {},
   "source": [
    "# Analyse document\n",
    "https://github.com/langchain-ai/langchain/blob/master/cookbook/analyze_document.ipynb\n",
    "\n",
    "https://python.langchain.com/docs/use_cases/summarization/"
   ]
  },
  {
   "cell_type": "code",
   "execution_count": null,
   "id": "08403c0b-788d-4ef0-89df-2224f8f21278",
   "metadata": {},
   "outputs": [],
   "source": [
    "!pip install langchain"
   ]
  },
  {
   "cell_type": "code",
   "execution_count": 28,
   "id": "fce10598-6273-45a0-afaa-61d013bfd403",
   "metadata": {},
   "outputs": [],
   "source": [
    "with open(\"data/normalized.txt\") as f:\n",
    "    state_of_the_union = f.read()"
   ]
  },
  {
   "cell_type": "code",
   "execution_count": 29,
   "id": "ef878a84-1e87-448e-a71e-5016da49e4f2",
   "metadata": {},
   "outputs": [],
   "source": [
    "from langchain.chains import AnalyzeDocumentChain\n",
    "from langchain_community.llms import Ollama\n",
    "\n",
    "llm = Ollama(model=\"mixtral:8x7b\")"
   ]
  },
  {
   "cell_type": "code",
   "execution_count": 30,
   "id": "b44479e9-6310-40e9-bfdb-84a04af5b2bc",
   "metadata": {},
   "outputs": [],
   "source": [
    "from langchain.chains.question_answering import load_qa_chain\n",
    "\n",
    "qa_chain = load_qa_chain(llm, chain_type=\"map_reduce\")"
   ]
  },
  {
   "cell_type": "code",
   "execution_count": 31,
   "id": "3880d85c-bd42-4964-b011-a0d02f3af18e",
   "metadata": {},
   "outputs": [],
   "source": [
    "qa_document_chain = AnalyzeDocumentChain(combine_docs_chain=qa_chain)"
   ]
  },
  {
   "cell_type": "code",
   "execution_count": 32,
   "id": "4bcd8de3-c0ae-4d16-8055-6bcfa173bca5",
   "metadata": {},
   "outputs": [
    {
     "data": {
      "text/plain": [
       "\" The author does not express a specific opinion about estampes in general, but they do mention that some prints or academic studies must be adjusted according to perspective and the original viewpoint. They also praise a particular engraving for its merit, grandeur, rare considerations, and admirable expression. Additionally, they criticize another engraving for lacking force in expressing violent passions. However, these comments are specific to individual works rather than estampes as a whole. Therefore, it is not possible to determine the author's overall opinion about estampes based on this document alone.\""
      ]
     },
     "execution_count": 32,
     "metadata": {},
     "output_type": "execute_result"
    }
   ],
   "source": [
    "qa_document_chain.run(\n",
    "    input_document=state_of_the_union,\n",
    "    question=\"What does the author think about estampes?\",\n",
    ")"
   ]
  },
  {
   "cell_type": "code",
   "execution_count": 33,
   "id": "7e1ba570-6d35-4bac-b5a7-d48ba1e13381",
   "metadata": {},
   "outputs": [
    {
     "data": {
      "text/plain": [
       "' The document is a book written by Roland Freart Sieur de Chambray titled \"IDE DE DE PERFECTION DE LA PEINTURE\" and published in Le Mans by IA CQVESYs AMBART. The book aims to demonstrate the principles of art and painting through examples, comparing ancient painters like Leonardo da Vinci, Raphael, Julius Roman, and Poussin with some modern French painters. The author emphasizes the importance of perspective in painting and provides axioms for it. The document also highlights the significance of accurately depicting Costumes to enhance the quality of a painter\\'s work and avoid criticism.'"
      ]
     },
     "execution_count": 33,
     "metadata": {},
     "output_type": "execute_result"
    }
   ],
   "source": [
    "qa_document_chain.run(\n",
    "    input_document=state_of_the_union,\n",
    "    question=\"Summarizes the document and the author's thinking\",\n",
    ")"
   ]
  },
  {
   "cell_type": "code",
   "execution_count": 34,
   "id": "8523302d-962a-41f6-923f-32ed8a1c40ee",
   "metadata": {},
   "outputs": [
    {
     "data": {
      "text/plain": [
       "' The president did not mention Michael Jackson.\\n\\nThe individuals cited by the author in these arguments are:\\n\\n1. Géomettres (geometers)\\n2. Peintres (painters)\\n3. Es (artists or people who make engravings)\\n4. Madame (a person to whom the document is addressed)\\n5. Raphael\\n6. Marc-Antoine\\n7. The women in the engraving\\n8. The bourreaux (executioners) in the engraving\\n9. The assassins of \"ces urs petits In-ô\"\\n10. The malheureuses mères (unhappy mothers) of the children being killed\\n11. The Peintre (the Painter), who is Raphael.\\n12. NÔTRE SEIGNEUR (Jesus Christ)\\n13. La Vierge (Virgin Mary)\\n14. Les Maries (the Marys, plural form of Marie in French, likely referring to Mary Magdalene and other female followers of Jesus)\\n15. Joseph JRimathie (Joseph of Arimathea)\\n16. Nicodeme (Nicodemus)\\n17. Saint Jean (John the Apostle)\\n18. Ioseph d\\'Arimathie (Joseph of Arimathea, mentioned again)\\n19. La PEINTVRE (the Painter, generic term, not an individual)\\n20. The author himself\\n21. Tout le reste (generic term, not an individual)\\n22. The author\\'s nation\\'s painters\\n23. The Peintres de ç de h\\n24. The Italians\\n25. Albert Durer, who is referred to as the \"plus grand Maître des Tramontains\"\\n\\nNote: The author mentions some terms like \"les passions\", \"la dévotion\", and \"l\\'amour\" but these are not individuals.'"
      ]
     },
     "execution_count": 34,
     "metadata": {},
     "output_type": "execute_result"
    }
   ],
   "source": [
    "qa_document_chain.run(\n",
    "    input_document=state_of_the_union,\n",
    "    question=\"Give me a list of all the individuals cited by the author in these arguments\",\n",
    ")"
   ]
  },
  {
   "cell_type": "code",
   "execution_count": null,
   "id": "41e9d5ec-a6c1-4046-a9da-5a788b73a84d",
   "metadata": {},
   "outputs": [],
   "source": [
    "# citation -> https://python.langchain.com/docs/use_cases/question_answering/citations/"
   ]
  },
  {
   "cell_type": "markdown",
   "id": "49dcf605-9070-4f40-8f45-c5922e97991a",
   "metadata": {},
   "source": [
    "# RAG \n",
    "https://github.com/langchain-ai/langchain/blob/master/cookbook/Semi_structured_multi_modal_RAG_LLaMA2.ipynb"
   ]
  },
  {
   "cell_type": "code",
   "execution_count": null,
   "id": "81bcb59b-4a62-4ea4-bc6a-7e2645ddb3e5",
   "metadata": {},
   "outputs": [],
   "source": []
  }
 ],
 "metadata": {
  "kernelspec": {
   "display_name": "Python 3 (ipykernel)",
   "language": "python",
   "name": "python3"
  },
  "language_info": {
   "codemirror_mode": {
    "name": "ipython",
    "version": 3
   },
   "file_extension": ".py",
   "mimetype": "text/x-python",
   "name": "python",
   "nbconvert_exporter": "python",
   "pygments_lexer": "ipython3",
   "version": "3.12.3"
  }
 },
 "nbformat": 4,
 "nbformat_minor": 5
}
